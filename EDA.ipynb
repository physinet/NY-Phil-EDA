{
 "cells": [
  {
   "cell_type": "code",
   "execution_count": 1,
   "metadata": {},
   "outputs": [
    {
     "name": "stderr",
     "output_type": "stream",
     "text": [
      "C:\\Users\\Brian\\Anaconda3\\lib\\site-packages\\statsmodels\\tools\\_testing.py:19: FutureWarning: pandas.util.testing is deprecated. Use the functions in the public API at pandas.testing instead.\n",
      "  import pandas.util.testing as tm\n"
     ]
    }
   ],
   "source": [
    "import requests\n",
    "import pandas as pd\n",
    "import numpy as np\n",
    "import matplotlib.pyplot as plt\n",
    "import seaborn as sns\n",
    "\n",
    "sns.set()"
   ]
  },
  {
   "cell_type": "markdown",
   "metadata": {},
   "source": [
    "# 1 - Introduction"
   ]
  },
  {
   "cell_type": "markdown",
   "metadata": {},
   "source": [
    "When planning a concert season, modern professional orchestras have to strike balance between choosing artistically and culturally rich repertoire and choosing pieces of music that will attract an audience and allow the musicians to earn a living. This has unfortunately created a strong bias in programming the famous works of deceased white male composers, because the celebrated masterworks of those composers will surely draw crowds. Programs remain relatively non-diverse to this day, despite continued calls for programming new music.\n",
    "\n",
    "Can concerts be planned to include more \"adventurous\" programming choices while still earning the orchestra the necessary revenue to pay its musicians? Here, we will analyze the [archival program records](https://archives.nyphil.org/index.php/open-data) from the New York Philharmonic with the goal of determining how \"adventurous\" each concert is. From the records, we can extract details about every work performed on a concert program. By tracking the composers represented on each concert, we can determine whether or not a concert is adventurous.\n",
    "\n",
    "This dataset will allow us to analyze changes in programming over time, across different venues, and between different conductors. Ultimately, we hope to bring in [ticket sales information](https://archives.nyphil.org/index.php/open-data) and analyze the relationship between ticket sales and program content."
   ]
  },
  {
   "cell_type": "markdown",
   "metadata": {},
   "source": [
    "# 2 - Load dataset"
   ]
  },
  {
   "cell_type": "markdown",
   "metadata": {},
   "source": [
    "## 2.1 - Create dataframes from JSON"
   ]
  },
  {
   "cell_type": "markdown",
   "metadata": {},
   "source": [
    "The raw program data is available for download from the NY Philharmonic's official GitHub repository. The data is stored in `.json` format with a nested structure described at https://github.com/nyphilarchive/PerformanceHistory. The outermost key is `'programs'`."
   ]
  },
  {
   "cell_type": "code",
   "execution_count": 2,
   "metadata": {},
   "outputs": [],
   "source": [
    "url = 'https://raw.githubusercontent.com/nyphilarchive/PerformanceHistory/master/Programs/json/complete.json'\n",
    "\n",
    "r = requests.get(url)\n",
    "programs = r.json()['programs']"
   ]
  },
  {
   "cell_type": "markdown",
   "metadata": {},
   "source": [
    "Each program consists of a list of works that is performed at multiple concerts. Using `pd.json_normalize`, we can load the details for each work and concert into separate data frames. Additionally, each work has soloists listed, which can be separated into a third dataframe."
   ]
  },
  {
   "cell_type": "code",
   "execution_count": 3,
   "metadata": {},
   "outputs": [],
   "source": [
    "meta_cols = ['id', 'programID', 'orchestra', 'season']\n",
    "df_concerts = pd.json_normalize(data=programs, record_path='concerts',\n",
    "    meta=meta_cols)\n",
    "df_works = pd.json_normalize(data=programs, record_path='works',\n",
    "    meta=meta_cols)\n",
    "df_soloists = pd.json_normalize(data=programs, record_path=['works', 'soloists'],\n",
    "    meta=meta_cols)"
   ]
  },
  {
   "cell_type": "code",
   "execution_count": 4,
   "metadata": {
    "scrolled": false
   },
   "outputs": [
    {
     "data": {
      "text/html": [
       "<div>\n",
       "<style scoped>\n",
       "    .dataframe tbody tr th:only-of-type {\n",
       "        vertical-align: middle;\n",
       "    }\n",
       "\n",
       "    .dataframe tbody tr th {\n",
       "        vertical-align: top;\n",
       "    }\n",
       "\n",
       "    .dataframe thead th {\n",
       "        text-align: right;\n",
       "    }\n",
       "</style>\n",
       "<table border=\"1\" class=\"dataframe\">\n",
       "  <thead>\n",
       "    <tr style=\"text-align: right;\">\n",
       "      <th></th>\n",
       "      <th>ID</th>\n",
       "      <th>composerName</th>\n",
       "      <th>workTitle</th>\n",
       "      <th>conductorName</th>\n",
       "      <th>soloists</th>\n",
       "      <th>movement</th>\n",
       "      <th>interval</th>\n",
       "      <th>movement._</th>\n",
       "      <th>movement.em</th>\n",
       "      <th>workTitle._</th>\n",
       "      <th>workTitle.em</th>\n",
       "      <th>id</th>\n",
       "      <th>programID</th>\n",
       "      <th>orchestra</th>\n",
       "      <th>season</th>\n",
       "    </tr>\n",
       "  </thead>\n",
       "  <tbody>\n",
       "    <tr>\n",
       "      <th>0</th>\n",
       "      <td>52446*</td>\n",
       "      <td>Beethoven,  Ludwig  van</td>\n",
       "      <td>SYMPHONY NO. 5 IN C MINOR, OP.67</td>\n",
       "      <td>Hill, Ureli Corelli</td>\n",
       "      <td>[]</td>\n",
       "      <td>NaN</td>\n",
       "      <td>NaN</td>\n",
       "      <td>NaN</td>\n",
       "      <td>NaN</td>\n",
       "      <td>NaN</td>\n",
       "      <td>NaN</td>\n",
       "      <td>00646b9f-fec7-4ffb-9fb1-faae410bd9dc-0.1</td>\n",
       "      <td>3853</td>\n",
       "      <td>New York Philharmonic</td>\n",
       "      <td>1842-43</td>\n",
       "    </tr>\n",
       "    <tr>\n",
       "      <th>1</th>\n",
       "      <td>8834*4</td>\n",
       "      <td>Weber,  Carl  Maria Von</td>\n",
       "      <td>OBERON</td>\n",
       "      <td>Timm, Henry C.</td>\n",
       "      <td>[{'soloistName': 'Otto, Antoinette', 'soloistI...</td>\n",
       "      <td>\"Ozean, du Ungeheuer\" (Ocean, thou mighty mons...</td>\n",
       "      <td>NaN</td>\n",
       "      <td>NaN</td>\n",
       "      <td>NaN</td>\n",
       "      <td>NaN</td>\n",
       "      <td>NaN</td>\n",
       "      <td>00646b9f-fec7-4ffb-9fb1-faae410bd9dc-0.1</td>\n",
       "      <td>3853</td>\n",
       "      <td>New York Philharmonic</td>\n",
       "      <td>1842-43</td>\n",
       "    </tr>\n",
       "    <tr>\n",
       "      <th>2</th>\n",
       "      <td>3642*</td>\n",
       "      <td>Hummel,  Johann</td>\n",
       "      <td>QUINTET, PIANO, D MINOR, OP. 74</td>\n",
       "      <td>NaN</td>\n",
       "      <td>[{'soloistName': 'Scharfenberg, William', 'sol...</td>\n",
       "      <td>NaN</td>\n",
       "      <td>NaN</td>\n",
       "      <td>NaN</td>\n",
       "      <td>NaN</td>\n",
       "      <td>NaN</td>\n",
       "      <td>NaN</td>\n",
       "      <td>00646b9f-fec7-4ffb-9fb1-faae410bd9dc-0.1</td>\n",
       "      <td>3853</td>\n",
       "      <td>New York Philharmonic</td>\n",
       "      <td>1842-43</td>\n",
       "    </tr>\n",
       "    <tr>\n",
       "      <th>3</th>\n",
       "      <td>0*</td>\n",
       "      <td>NaN</td>\n",
       "      <td>NaN</td>\n",
       "      <td>NaN</td>\n",
       "      <td>[]</td>\n",
       "      <td>NaN</td>\n",
       "      <td>Intermission</td>\n",
       "      <td>NaN</td>\n",
       "      <td>NaN</td>\n",
       "      <td>NaN</td>\n",
       "      <td>NaN</td>\n",
       "      <td>00646b9f-fec7-4ffb-9fb1-faae410bd9dc-0.1</td>\n",
       "      <td>3853</td>\n",
       "      <td>New York Philharmonic</td>\n",
       "      <td>1842-43</td>\n",
       "    </tr>\n",
       "    <tr>\n",
       "      <th>4</th>\n",
       "      <td>8834*3</td>\n",
       "      <td>Weber,  Carl  Maria Von</td>\n",
       "      <td>OBERON</td>\n",
       "      <td>Etienne, Denis G.</td>\n",
       "      <td>[]</td>\n",
       "      <td>Overture</td>\n",
       "      <td>NaN</td>\n",
       "      <td>NaN</td>\n",
       "      <td>NaN</td>\n",
       "      <td>NaN</td>\n",
       "      <td>NaN</td>\n",
       "      <td>00646b9f-fec7-4ffb-9fb1-faae410bd9dc-0.1</td>\n",
       "      <td>3853</td>\n",
       "      <td>New York Philharmonic</td>\n",
       "      <td>1842-43</td>\n",
       "    </tr>\n",
       "  </tbody>\n",
       "</table>\n",
       "</div>"
      ],
      "text/plain": [
       "       ID             composerName                         workTitle  \\\n",
       "0  52446*  Beethoven,  Ludwig  van  SYMPHONY NO. 5 IN C MINOR, OP.67   \n",
       "1  8834*4  Weber,  Carl  Maria Von                            OBERON   \n",
       "2   3642*          Hummel,  Johann   QUINTET, PIANO, D MINOR, OP. 74   \n",
       "3      0*                      NaN                               NaN   \n",
       "4  8834*3  Weber,  Carl  Maria Von                            OBERON   \n",
       "\n",
       "         conductorName                                           soloists  \\\n",
       "0  Hill, Ureli Corelli                                                 []   \n",
       "1       Timm, Henry C.  [{'soloistName': 'Otto, Antoinette', 'soloistI...   \n",
       "2                  NaN  [{'soloistName': 'Scharfenberg, William', 'sol...   \n",
       "3                  NaN                                                 []   \n",
       "4    Etienne, Denis G.                                                 []   \n",
       "\n",
       "                                            movement      interval movement._  \\\n",
       "0                                                NaN           NaN        NaN   \n",
       "1  \"Ozean, du Ungeheuer\" (Ocean, thou mighty mons...           NaN        NaN   \n",
       "2                                                NaN           NaN        NaN   \n",
       "3                                                NaN  Intermission        NaN   \n",
       "4                                           Overture           NaN        NaN   \n",
       "\n",
       "  movement.em workTitle._ workTitle.em  \\\n",
       "0         NaN         NaN          NaN   \n",
       "1         NaN         NaN          NaN   \n",
       "2         NaN         NaN          NaN   \n",
       "3         NaN         NaN          NaN   \n",
       "4         NaN         NaN          NaN   \n",
       "\n",
       "                                         id programID              orchestra  \\\n",
       "0  00646b9f-fec7-4ffb-9fb1-faae410bd9dc-0.1      3853  New York Philharmonic   \n",
       "1  00646b9f-fec7-4ffb-9fb1-faae410bd9dc-0.1      3853  New York Philharmonic   \n",
       "2  00646b9f-fec7-4ffb-9fb1-faae410bd9dc-0.1      3853  New York Philharmonic   \n",
       "3  00646b9f-fec7-4ffb-9fb1-faae410bd9dc-0.1      3853  New York Philharmonic   \n",
       "4  00646b9f-fec7-4ffb-9fb1-faae410bd9dc-0.1      3853  New York Philharmonic   \n",
       "\n",
       "    season  \n",
       "0  1842-43  \n",
       "1  1842-43  \n",
       "2  1842-43  \n",
       "3  1842-43  \n",
       "4  1842-43  "
      ]
     },
     "execution_count": 4,
     "metadata": {},
     "output_type": "execute_result"
    }
   ],
   "source": [
    "df_works.head()"
   ]
  },
  {
   "cell_type": "code",
   "execution_count": 5,
   "metadata": {},
   "outputs": [
    {
     "data": {
      "text/html": [
       "<div>\n",
       "<style scoped>\n",
       "    .dataframe tbody tr th:only-of-type {\n",
       "        vertical-align: middle;\n",
       "    }\n",
       "\n",
       "    .dataframe tbody tr th {\n",
       "        vertical-align: top;\n",
       "    }\n",
       "\n",
       "    .dataframe thead th {\n",
       "        text-align: right;\n",
       "    }\n",
       "</style>\n",
       "<table border=\"1\" class=\"dataframe\">\n",
       "  <thead>\n",
       "    <tr style=\"text-align: right;\">\n",
       "      <th></th>\n",
       "      <th>soloistName</th>\n",
       "      <th>soloistInstrument</th>\n",
       "      <th>soloistRoles</th>\n",
       "      <th>id</th>\n",
       "      <th>programID</th>\n",
       "      <th>orchestra</th>\n",
       "      <th>season</th>\n",
       "    </tr>\n",
       "  </thead>\n",
       "  <tbody>\n",
       "    <tr>\n",
       "      <th>0</th>\n",
       "      <td>Otto, Antoinette</td>\n",
       "      <td>Soprano</td>\n",
       "      <td>S</td>\n",
       "      <td>00646b9f-fec7-4ffb-9fb1-faae410bd9dc-0.1</td>\n",
       "      <td>3853</td>\n",
       "      <td>New York Philharmonic</td>\n",
       "      <td>1842-43</td>\n",
       "    </tr>\n",
       "    <tr>\n",
       "      <th>1</th>\n",
       "      <td>Scharfenberg, William</td>\n",
       "      <td>Piano</td>\n",
       "      <td>A</td>\n",
       "      <td>00646b9f-fec7-4ffb-9fb1-faae410bd9dc-0.1</td>\n",
       "      <td>3853</td>\n",
       "      <td>New York Philharmonic</td>\n",
       "      <td>1842-43</td>\n",
       "    </tr>\n",
       "    <tr>\n",
       "      <th>2</th>\n",
       "      <td>Hill, Ureli Corelli</td>\n",
       "      <td>Violin</td>\n",
       "      <td>A</td>\n",
       "      <td>00646b9f-fec7-4ffb-9fb1-faae410bd9dc-0.1</td>\n",
       "      <td>3853</td>\n",
       "      <td>New York Philharmonic</td>\n",
       "      <td>1842-43</td>\n",
       "    </tr>\n",
       "    <tr>\n",
       "      <th>3</th>\n",
       "      <td>Derwort, G. H.</td>\n",
       "      <td>Viola</td>\n",
       "      <td>A</td>\n",
       "      <td>00646b9f-fec7-4ffb-9fb1-faae410bd9dc-0.1</td>\n",
       "      <td>3853</td>\n",
       "      <td>New York Philharmonic</td>\n",
       "      <td>1842-43</td>\n",
       "    </tr>\n",
       "    <tr>\n",
       "      <th>4</th>\n",
       "      <td>Boucher, Alfred</td>\n",
       "      <td>Cello</td>\n",
       "      <td>A</td>\n",
       "      <td>00646b9f-fec7-4ffb-9fb1-faae410bd9dc-0.1</td>\n",
       "      <td>3853</td>\n",
       "      <td>New York Philharmonic</td>\n",
       "      <td>1842-43</td>\n",
       "    </tr>\n",
       "  </tbody>\n",
       "</table>\n",
       "</div>"
      ],
      "text/plain": [
       "             soloistName soloistInstrument soloistRoles  \\\n",
       "0       Otto, Antoinette           Soprano            S   \n",
       "1  Scharfenberg, William             Piano            A   \n",
       "2    Hill, Ureli Corelli            Violin            A   \n",
       "3         Derwort, G. H.             Viola            A   \n",
       "4        Boucher, Alfred             Cello            A   \n",
       "\n",
       "                                         id programID              orchestra  \\\n",
       "0  00646b9f-fec7-4ffb-9fb1-faae410bd9dc-0.1      3853  New York Philharmonic   \n",
       "1  00646b9f-fec7-4ffb-9fb1-faae410bd9dc-0.1      3853  New York Philharmonic   \n",
       "2  00646b9f-fec7-4ffb-9fb1-faae410bd9dc-0.1      3853  New York Philharmonic   \n",
       "3  00646b9f-fec7-4ffb-9fb1-faae410bd9dc-0.1      3853  New York Philharmonic   \n",
       "4  00646b9f-fec7-4ffb-9fb1-faae410bd9dc-0.1      3853  New York Philharmonic   \n",
       "\n",
       "    season  \n",
       "0  1842-43  \n",
       "1  1842-43  \n",
       "2  1842-43  \n",
       "3  1842-43  \n",
       "4  1842-43  "
      ]
     },
     "execution_count": 5,
     "metadata": {},
     "output_type": "execute_result"
    }
   ],
   "source": [
    "df_soloists.head()"
   ]
  },
  {
   "cell_type": "markdown",
   "metadata": {},
   "source": [
    "We first outer merge the concert and works datasets to construct a single `DataFrame`."
   ]
  },
  {
   "cell_type": "code",
   "execution_count": 6,
   "metadata": {},
   "outputs": [],
   "source": [
    "df = pd.merge(df_works, df_concerts, 'outer', on=meta_cols)"
   ]
  },
  {
   "cell_type": "code",
   "execution_count": 7,
   "metadata": {},
   "outputs": [
    {
     "data": {
      "text/html": [
       "<div>\n",
       "<style scoped>\n",
       "    .dataframe tbody tr th:only-of-type {\n",
       "        vertical-align: middle;\n",
       "    }\n",
       "\n",
       "    .dataframe tbody tr th {\n",
       "        vertical-align: top;\n",
       "    }\n",
       "\n",
       "    .dataframe thead th {\n",
       "        text-align: right;\n",
       "    }\n",
       "</style>\n",
       "<table border=\"1\" class=\"dataframe\">\n",
       "  <thead>\n",
       "    <tr style=\"text-align: right;\">\n",
       "      <th></th>\n",
       "      <th>ID</th>\n",
       "      <th>composerName</th>\n",
       "      <th>workTitle</th>\n",
       "      <th>conductorName</th>\n",
       "      <th>soloists</th>\n",
       "      <th>movement</th>\n",
       "      <th>interval</th>\n",
       "      <th>movement._</th>\n",
       "      <th>movement.em</th>\n",
       "      <th>workTitle._</th>\n",
       "      <th>workTitle.em</th>\n",
       "      <th>id</th>\n",
       "      <th>programID</th>\n",
       "      <th>orchestra</th>\n",
       "      <th>season</th>\n",
       "      <th>eventType</th>\n",
       "      <th>Location</th>\n",
       "      <th>Venue</th>\n",
       "      <th>Date</th>\n",
       "      <th>Time</th>\n",
       "    </tr>\n",
       "  </thead>\n",
       "  <tbody>\n",
       "    <tr>\n",
       "      <th>0</th>\n",
       "      <td>52446*</td>\n",
       "      <td>Beethoven,  Ludwig  van</td>\n",
       "      <td>SYMPHONY NO. 5 IN C MINOR, OP.67</td>\n",
       "      <td>Hill, Ureli Corelli</td>\n",
       "      <td>[]</td>\n",
       "      <td>NaN</td>\n",
       "      <td>NaN</td>\n",
       "      <td>NaN</td>\n",
       "      <td>NaN</td>\n",
       "      <td>NaN</td>\n",
       "      <td>NaN</td>\n",
       "      <td>00646b9f-fec7-4ffb-9fb1-faae410bd9dc-0.1</td>\n",
       "      <td>3853</td>\n",
       "      <td>New York Philharmonic</td>\n",
       "      <td>1842-43</td>\n",
       "      <td>Subscription Season</td>\n",
       "      <td>Manhattan, NY</td>\n",
       "      <td>Apollo Rooms</td>\n",
       "      <td>1842-12-07T05:00:00Z</td>\n",
       "      <td>8:00PM</td>\n",
       "    </tr>\n",
       "    <tr>\n",
       "      <th>1</th>\n",
       "      <td>8834*4</td>\n",
       "      <td>Weber,  Carl  Maria Von</td>\n",
       "      <td>OBERON</td>\n",
       "      <td>Timm, Henry C.</td>\n",
       "      <td>[{'soloistName': 'Otto, Antoinette', 'soloistI...</td>\n",
       "      <td>\"Ozean, du Ungeheuer\" (Ocean, thou mighty mons...</td>\n",
       "      <td>NaN</td>\n",
       "      <td>NaN</td>\n",
       "      <td>NaN</td>\n",
       "      <td>NaN</td>\n",
       "      <td>NaN</td>\n",
       "      <td>00646b9f-fec7-4ffb-9fb1-faae410bd9dc-0.1</td>\n",
       "      <td>3853</td>\n",
       "      <td>New York Philharmonic</td>\n",
       "      <td>1842-43</td>\n",
       "      <td>Subscription Season</td>\n",
       "      <td>Manhattan, NY</td>\n",
       "      <td>Apollo Rooms</td>\n",
       "      <td>1842-12-07T05:00:00Z</td>\n",
       "      <td>8:00PM</td>\n",
       "    </tr>\n",
       "    <tr>\n",
       "      <th>2</th>\n",
       "      <td>3642*</td>\n",
       "      <td>Hummel,  Johann</td>\n",
       "      <td>QUINTET, PIANO, D MINOR, OP. 74</td>\n",
       "      <td>NaN</td>\n",
       "      <td>[{'soloistName': 'Scharfenberg, William', 'sol...</td>\n",
       "      <td>NaN</td>\n",
       "      <td>NaN</td>\n",
       "      <td>NaN</td>\n",
       "      <td>NaN</td>\n",
       "      <td>NaN</td>\n",
       "      <td>NaN</td>\n",
       "      <td>00646b9f-fec7-4ffb-9fb1-faae410bd9dc-0.1</td>\n",
       "      <td>3853</td>\n",
       "      <td>New York Philharmonic</td>\n",
       "      <td>1842-43</td>\n",
       "      <td>Subscription Season</td>\n",
       "      <td>Manhattan, NY</td>\n",
       "      <td>Apollo Rooms</td>\n",
       "      <td>1842-12-07T05:00:00Z</td>\n",
       "      <td>8:00PM</td>\n",
       "    </tr>\n",
       "    <tr>\n",
       "      <th>3</th>\n",
       "      <td>0*</td>\n",
       "      <td>NaN</td>\n",
       "      <td>NaN</td>\n",
       "      <td>NaN</td>\n",
       "      <td>[]</td>\n",
       "      <td>NaN</td>\n",
       "      <td>Intermission</td>\n",
       "      <td>NaN</td>\n",
       "      <td>NaN</td>\n",
       "      <td>NaN</td>\n",
       "      <td>NaN</td>\n",
       "      <td>00646b9f-fec7-4ffb-9fb1-faae410bd9dc-0.1</td>\n",
       "      <td>3853</td>\n",
       "      <td>New York Philharmonic</td>\n",
       "      <td>1842-43</td>\n",
       "      <td>Subscription Season</td>\n",
       "      <td>Manhattan, NY</td>\n",
       "      <td>Apollo Rooms</td>\n",
       "      <td>1842-12-07T05:00:00Z</td>\n",
       "      <td>8:00PM</td>\n",
       "    </tr>\n",
       "    <tr>\n",
       "      <th>4</th>\n",
       "      <td>8834*3</td>\n",
       "      <td>Weber,  Carl  Maria Von</td>\n",
       "      <td>OBERON</td>\n",
       "      <td>Etienne, Denis G.</td>\n",
       "      <td>[]</td>\n",
       "      <td>Overture</td>\n",
       "      <td>NaN</td>\n",
       "      <td>NaN</td>\n",
       "      <td>NaN</td>\n",
       "      <td>NaN</td>\n",
       "      <td>NaN</td>\n",
       "      <td>00646b9f-fec7-4ffb-9fb1-faae410bd9dc-0.1</td>\n",
       "      <td>3853</td>\n",
       "      <td>New York Philharmonic</td>\n",
       "      <td>1842-43</td>\n",
       "      <td>Subscription Season</td>\n",
       "      <td>Manhattan, NY</td>\n",
       "      <td>Apollo Rooms</td>\n",
       "      <td>1842-12-07T05:00:00Z</td>\n",
       "      <td>8:00PM</td>\n",
       "    </tr>\n",
       "  </tbody>\n",
       "</table>\n",
       "</div>"
      ],
      "text/plain": [
       "       ID             composerName                         workTitle  \\\n",
       "0  52446*  Beethoven,  Ludwig  van  SYMPHONY NO. 5 IN C MINOR, OP.67   \n",
       "1  8834*4  Weber,  Carl  Maria Von                            OBERON   \n",
       "2   3642*          Hummel,  Johann   QUINTET, PIANO, D MINOR, OP. 74   \n",
       "3      0*                      NaN                               NaN   \n",
       "4  8834*3  Weber,  Carl  Maria Von                            OBERON   \n",
       "\n",
       "         conductorName                                           soloists  \\\n",
       "0  Hill, Ureli Corelli                                                 []   \n",
       "1       Timm, Henry C.  [{'soloistName': 'Otto, Antoinette', 'soloistI...   \n",
       "2                  NaN  [{'soloistName': 'Scharfenberg, William', 'sol...   \n",
       "3                  NaN                                                 []   \n",
       "4    Etienne, Denis G.                                                 []   \n",
       "\n",
       "                                            movement      interval movement._  \\\n",
       "0                                                NaN           NaN        NaN   \n",
       "1  \"Ozean, du Ungeheuer\" (Ocean, thou mighty mons...           NaN        NaN   \n",
       "2                                                NaN           NaN        NaN   \n",
       "3                                                NaN  Intermission        NaN   \n",
       "4                                           Overture           NaN        NaN   \n",
       "\n",
       "  movement.em workTitle._ workTitle.em  \\\n",
       "0         NaN         NaN          NaN   \n",
       "1         NaN         NaN          NaN   \n",
       "2         NaN         NaN          NaN   \n",
       "3         NaN         NaN          NaN   \n",
       "4         NaN         NaN          NaN   \n",
       "\n",
       "                                         id programID              orchestra  \\\n",
       "0  00646b9f-fec7-4ffb-9fb1-faae410bd9dc-0.1      3853  New York Philharmonic   \n",
       "1  00646b9f-fec7-4ffb-9fb1-faae410bd9dc-0.1      3853  New York Philharmonic   \n",
       "2  00646b9f-fec7-4ffb-9fb1-faae410bd9dc-0.1      3853  New York Philharmonic   \n",
       "3  00646b9f-fec7-4ffb-9fb1-faae410bd9dc-0.1      3853  New York Philharmonic   \n",
       "4  00646b9f-fec7-4ffb-9fb1-faae410bd9dc-0.1      3853  New York Philharmonic   \n",
       "\n",
       "    season            eventType       Location         Venue  \\\n",
       "0  1842-43  Subscription Season  Manhattan, NY  Apollo Rooms   \n",
       "1  1842-43  Subscription Season  Manhattan, NY  Apollo Rooms   \n",
       "2  1842-43  Subscription Season  Manhattan, NY  Apollo Rooms   \n",
       "3  1842-43  Subscription Season  Manhattan, NY  Apollo Rooms   \n",
       "4  1842-43  Subscription Season  Manhattan, NY  Apollo Rooms   \n",
       "\n",
       "                   Date    Time  \n",
       "0  1842-12-07T05:00:00Z  8:00PM  \n",
       "1  1842-12-07T05:00:00Z  8:00PM  \n",
       "2  1842-12-07T05:00:00Z  8:00PM  \n",
       "3  1842-12-07T05:00:00Z  8:00PM  \n",
       "4  1842-12-07T05:00:00Z  8:00PM  "
      ]
     },
     "execution_count": 7,
     "metadata": {},
     "output_type": "execute_result"
    }
   ],
   "source": [
    "df.head()"
   ]
  },
  {
   "cell_type": "markdown",
   "metadata": {},
   "source": [
    "## 2.2 - Soloists (ignore for now)"
   ]
  },
  {
   "cell_type": "markdown",
   "metadata": {},
   "source": [
    "At some point it might be useful to replace the `soloists` column of the merged dataframe with meaningful information from `df_soloists`. However, for now we will just drop the column."
   ]
  },
  {
   "cell_type": "code",
   "execution_count": 8,
   "metadata": {},
   "outputs": [],
   "source": [
    "df = df.drop(columns='soloists')"
   ]
  },
  {
   "cell_type": "markdown",
   "metadata": {},
   "source": [
    "# 3 - Selecting a relevant subset of the data\n",
    "The dataset contains information about all sorts of New York Philharmonic-affiliated events, including lectures and chamber music performances. We will limit our focus to large orchestra works and performances."
   ]
  },
  {
   "cell_type": "markdown",
   "metadata": {},
   "source": [
    "## 3.1 - Orchestra and event type"
   ]
  },
  {
   "cell_type": "markdown",
   "metadata": {},
   "source": [
    "Let's examine the possible values for the `orchestra` and `eventType` columns:"
   ]
  },
  {
   "cell_type": "code",
   "execution_count": 9,
   "metadata": {},
   "outputs": [
    {
     "data": {
      "text/plain": [
       "New York Philharmonic                       92815\n",
       "Stadium-NY Philharmonic                     13430\n",
       "New York Symphony                            9411\n",
       "Musicians from the New York Philharmonic     3223\n",
       "Members of NY Philharmonic                   1694\n",
       "NYP Presentation                             1198\n",
       "NY Philharmonic Ensembles                    1141\n",
       "New/National Symphony Orchestra               490\n",
       "Strike Orchestra (Philharmonic)                39\n",
       "Shanghai Orchestra Academy                     20\n",
       "Members of NY Symphony                         11\n",
       "None                                            3\n",
       "Name: orchestra, dtype: int64"
      ]
     },
     "execution_count": 9,
     "metadata": {},
     "output_type": "execute_result"
    }
   ],
   "source": [
    "df['orchestra'].value_counts()"
   ]
  },
  {
   "cell_type": "code",
   "execution_count": 10,
   "metadata": {},
   "outputs": [
    {
     "data": {
      "text/plain": [
       "Subscription Season       65375\n",
       "Stadium Concert           13504\n",
       "Tour                      12877\n",
       "Young People's Concert     6072\n",
       "Promenade                  3479\n",
       "Special                    2718\n",
       "Parks                      2562\n",
       "Chamber                    2220\n",
       "Student Concert            2075\n",
       "Runout                     1595\n",
       "Name: eventType, dtype: int64"
      ]
     },
     "execution_count": 10,
     "metadata": {},
     "output_type": "execute_result"
    }
   ],
   "source": [
    "df['eventType'].value_counts().head(10) \n",
    "# and there are many more categories - 60 total"
   ]
  },
  {
   "cell_type": "markdown",
   "metadata": {},
   "source": [
    "The definitions for these categories are available at https://archives.nyphil.org/index.php/help-performancehistory. These help us identify which values most likely represent a full orchestra performance. It is clear to keep values like \"New York Philharmonic\" and \"Subscription Season,\" but others are ambiguous. For example, the description of \"Members of NY Philharmonic\" explains that these concerts are \"offered to\" all members of the orchestra, while the concerts from \"Musicians of the NY Philharmonic\" are more likely to be chamber performances. What kind of concerts correspond to each group?"
   ]
  },
  {
   "cell_type": "code",
   "execution_count": 11,
   "metadata": {},
   "outputs": [
    {
     "data": {
      "text/plain": [
       "Carnegie Pop Concert    688\n",
       "Special                 602\n",
       "Festival                131\n",
       "Student Concert          74\n",
       "Subscription Season      56\n",
       "Name: eventType, dtype: int64"
      ]
     },
     "execution_count": 11,
     "metadata": {},
     "output_type": "execute_result"
    }
   ],
   "source": [
    "df['eventType'][df['orchestra'] == 'Members of NY Philharmonic'].value_counts().head()"
   ]
  },
  {
   "cell_type": "code",
   "execution_count": 12,
   "metadata": {},
   "outputs": [
    {
     "data": {
      "text/plain": [
       "Chamber                        657\n",
       "Holiday Brass                  485\n",
       "Very Young People's Concert    458\n",
       "Chamber Concert (Private)      424\n",
       "Tour - Chamber                 246\n",
       "Name: eventType, dtype: int64"
      ]
     },
     "execution_count": 12,
     "metadata": {},
     "output_type": "execute_result"
    }
   ],
   "source": [
    "df['eventType'][df['orchestra'] == 'Musicians from the New York Philharmonic'].value_counts().head()"
   ]
  },
  {
   "cell_type": "markdown",
   "metadata": {},
   "source": [
    "It is clear that we should keep \"Members of NY Philharmonic\", but not \"Musicians from the New York Philharmonic\". We arrive at the final listing of orchestra types to keep:"
   ]
  },
  {
   "cell_type": "code",
   "execution_count": 13,
   "metadata": {},
   "outputs": [],
   "source": [
    "orch_types = ['New York Philharmonic', 'New York Symphony', \n",
    "            'Stadium-NY Philharmonic', 'Members of NY Philharmonic',\n",
    "            'New/National Symphony Orchestra', 'Strike Orchestra (Philharmonic)']\n",
    "df = df[df['orchestra'].isin(orch_types)]"
   ]
  },
  {
   "cell_type": "markdown",
   "metadata": {},
   "source": [
    "Likewise, we start from the full list of event types and discard small events based on the descriptions available from the NY Philharmonic."
   ]
  },
  {
   "cell_type": "code",
   "execution_count": 14,
   "metadata": {},
   "outputs": [],
   "source": [
    "event_types = df['eventType'].unique()\n",
    "event_types = [event for event in event_types if 'Chamber' not in event]\n",
    "other_small_events = ['Contact!', 'Holiday Brass', 'Insight Series', \n",
    "                      'Leinsdorf Lecture', 'Nightcap', 'Off the Grid',\n",
    "                      'Pre-Concert Recital', 'Sound ON', \n",
    "                      'Tour - Very Young People\\'s Concert',\n",
    "                      'Very Young People\\'s Concert']\n",
    "event_types = [event for event in event_types if event not in other_small_events]\n",
    "df = df[df['eventType'].isin(event_types)]"
   ]
  },
  {
   "cell_type": "markdown",
   "metadata": {},
   "source": [
    "# 4 - Clean columns"
   ]
  },
  {
   "cell_type": "markdown",
   "metadata": {},
   "source": [
    "## 4.1 - Check missing values"
   ]
  },
  {
   "cell_type": "markdown",
   "metadata": {},
   "source": [
    "Check the proportion of missing values in each column:"
   ]
  },
  {
   "cell_type": "code",
   "execution_count": 15,
   "metadata": {},
   "outputs": [
    {
     "data": {
      "text/plain": [
       "ID               0.000025\n",
       "composerName     0.152055\n",
       "workTitle        0.152080\n",
       "conductorName    0.170726\n",
       "movement         0.713601\n",
       "interval         0.847971\n",
       "movement._       0.998810\n",
       "movement.em      0.997272\n",
       "workTitle._      0.999975\n",
       "workTitle.em     0.999975\n",
       "id               0.000000\n",
       "programID        0.000000\n",
       "orchestra        0.000000\n",
       "season           0.000000\n",
       "eventType        0.000000\n",
       "Location         0.000000\n",
       "Venue            0.000000\n",
       "Date             0.000000\n",
       "Time             0.000000\n",
       "dtype: float64"
      ]
     },
     "execution_count": 15,
     "metadata": {},
     "output_type": "execute_result"
    }
   ],
   "source": [
    "df.isna().sum() / len(df)"
   ]
  },
  {
   "cell_type": "markdown",
   "metadata": {},
   "source": [
    "There are a significant number of columns with missing values. Not every work is split into movements, so having missing values in the movement column is expected. The interval column, as we see below, appears to only indicate that a program has an intermission, and is not of much use. We can drop the column to greatly reduce the number of missing values in the `composerName`, `workTitle`, and `conductorName` columns."
   ]
  },
  {
   "cell_type": "code",
   "execution_count": 16,
   "metadata": {},
   "outputs": [
    {
     "data": {
      "text/plain": [
       "Intermission           0.994857\n",
       "Intermission-Short     0.003019\n",
       "Intermission-Second    0.002068\n",
       "Intermission-Third     0.000056\n",
       "Name: interval, dtype: float64"
      ]
     },
     "execution_count": 16,
     "metadata": {},
     "output_type": "execute_result"
    }
   ],
   "source": [
    "df.interval.value_counts(normalize=True)"
   ]
  },
  {
   "cell_type": "code",
   "execution_count": 17,
   "metadata": {},
   "outputs": [
    {
     "data": {
      "text/plain": [
       "ID               0.000030\n",
       "composerName     0.000030\n",
       "workTitle        0.000060\n",
       "conductorName    0.022049\n",
       "movement         0.662254\n",
       "movement._       0.998597\n",
       "movement.em      0.996783\n",
       "workTitle._      0.999970\n",
       "workTitle.em     0.999970\n",
       "id               0.000000\n",
       "programID        0.000000\n",
       "orchestra        0.000000\n",
       "season           0.000000\n",
       "eventType        0.000000\n",
       "Location         0.000000\n",
       "Venue            0.000000\n",
       "Date             0.000000\n",
       "Time             0.000000\n",
       "dtype: float64"
      ]
     },
     "execution_count": 17,
     "metadata": {},
     "output_type": "execute_result"
    }
   ],
   "source": [
    "df = df[df.interval.isna()].drop(columns='interval')\n",
    "df.isna().sum() / len(df)"
   ]
  },
  {
   "cell_type": "markdown",
   "metadata": {},
   "source": [
    "## 4.2 - `'.em'` and `'._`' columns"
   ]
  },
  {
   "cell_type": "markdown",
   "metadata": {},
   "source": [
    "We notice a few strangely named columns with many missing values (e.g. `'movement.em'`). Can we move this information into the `'movement'` and `'workTitle'` columns? Upon examining some representative rows with information in these columns, I figured out that the `'.em'` column contains italicized text in the title of the work (see for example ID 8897*, where [Carmen is italicized in the program](https://archives.nyphil.org/index.php/artifact/7fa203d8-1167-4ec9-b2b0-11a45b02a4a7-0.1) (click \"Show all\")). This probably came from an `<em>` HTML tag."
   ]
  },
  {
   "cell_type": "code",
   "execution_count": 18,
   "metadata": {},
   "outputs": [
    {
     "data": {
      "text/html": [
       "<div>\n",
       "<style scoped>\n",
       "    .dataframe tbody tr th:only-of-type {\n",
       "        vertical-align: middle;\n",
       "    }\n",
       "\n",
       "    .dataframe tbody tr th {\n",
       "        vertical-align: top;\n",
       "    }\n",
       "\n",
       "    .dataframe thead th {\n",
       "        text-align: right;\n",
       "    }\n",
       "</style>\n",
       "<table border=\"1\" class=\"dataframe\">\n",
       "  <thead>\n",
       "    <tr style=\"text-align: right;\">\n",
       "      <th></th>\n",
       "      <th>ID</th>\n",
       "      <th>composerName</th>\n",
       "      <th>workTitle</th>\n",
       "      <th>conductorName</th>\n",
       "      <th>movement</th>\n",
       "      <th>movement._</th>\n",
       "      <th>movement.em</th>\n",
       "      <th>workTitle._</th>\n",
       "      <th>workTitle.em</th>\n",
       "      <th>id</th>\n",
       "      <th>programID</th>\n",
       "      <th>orchestra</th>\n",
       "      <th>season</th>\n",
       "      <th>eventType</th>\n",
       "      <th>Location</th>\n",
       "      <th>Venue</th>\n",
       "      <th>Date</th>\n",
       "      <th>Time</th>\n",
       "    </tr>\n",
       "  </thead>\n",
       "  <tbody>\n",
       "    <tr>\n",
       "      <th>15531</th>\n",
       "      <td>8867*2</td>\n",
       "      <td>Sibelius,  Jean</td>\n",
       "      <td>LEMMINKAINEN SUITE (LEGENDS), OP. 22</td>\n",
       "      <td>Stransky, Josef</td>\n",
       "      <td>NaN</td>\n",
       "      <td>NaN</td>\n",
       "      <td>The Swan of Tuonela</td>\n",
       "      <td>NaN</td>\n",
       "      <td>NaN</td>\n",
       "      <td>934e8e20-953f-4a30-aa1e-c65c24f80b61-0.1</td>\n",
       "      <td>7013</td>\n",
       "      <td>New York Philharmonic</td>\n",
       "      <td>1918-19</td>\n",
       "      <td>Runout</td>\n",
       "      <td>Wilkes-Barre, PA</td>\n",
       "      <td>Irem Temple</td>\n",
       "      <td>1919-02-03T05:00:00Z</td>\n",
       "      <td>8:30PM</td>\n",
       "    </tr>\n",
       "    <tr>\n",
       "      <th>82859</th>\n",
       "      <td>8867*4</td>\n",
       "      <td>Sibelius,  Jean</td>\n",
       "      <td>LEMMINKAINEN SUITE (LEGENDS), OP. 22</td>\n",
       "      <td>Jarvi (Järvi), Neeme</td>\n",
       "      <td>NaN</td>\n",
       "      <td>NaN</td>\n",
       "      <td>Lemminkäinen's Return</td>\n",
       "      <td>NaN</td>\n",
       "      <td>NaN</td>\n",
       "      <td>14e4f1ac-ddfb-451f-b74e-456002ce84a5-0.1</td>\n",
       "      <td>5777</td>\n",
       "      <td>New York Philharmonic</td>\n",
       "      <td>1979-80</td>\n",
       "      <td>Subscription Season</td>\n",
       "      <td>Manhattan, NY</td>\n",
       "      <td>Avery Fisher Hall</td>\n",
       "      <td>1980-02-21T05:00:00Z</td>\n",
       "      <td>8:00PM</td>\n",
       "    </tr>\n",
       "    <tr>\n",
       "      <th>37861</th>\n",
       "      <td>8867*4</td>\n",
       "      <td>Sibelius,  Jean</td>\n",
       "      <td>LEMMINKAINEN SUITE (LEGENDS), OP. 22</td>\n",
       "      <td>Barbirolli , John</td>\n",
       "      <td>NaN</td>\n",
       "      <td>NaN</td>\n",
       "      <td>Lemminkäinen's Return</td>\n",
       "      <td>NaN</td>\n",
       "      <td>NaN</td>\n",
       "      <td>d78eb0cf-f5d4-4ef4-aa39-ee67360f1f7c-0.1</td>\n",
       "      <td>4936</td>\n",
       "      <td>New York Philharmonic</td>\n",
       "      <td>1938-39</td>\n",
       "      <td>Runout</td>\n",
       "      <td>Princeton, NJ</td>\n",
       "      <td>McCarter Theatre</td>\n",
       "      <td>1938-10-29T05:00:00Z</td>\n",
       "      <td>8:30PM</td>\n",
       "    </tr>\n",
       "    <tr>\n",
       "      <th>108570</th>\n",
       "      <td>5696*1</td>\n",
       "      <td>Williams,  John</td>\n",
       "      <td>HARRY POTTER:  SUITE</td>\n",
       "      <td>Williams, John</td>\n",
       "      <td>NaN</td>\n",
       "      <td>Hedwig's Theme (from )</td>\n",
       "      <td>Harry Potter and the Sorcerer's Stone</td>\n",
       "      <td>NaN</td>\n",
       "      <td>NaN</td>\n",
       "      <td>e938cda9-a161-4d18-9034-c2a13eb64cde-0.1</td>\n",
       "      <td>9746</td>\n",
       "      <td>New York Philharmonic</td>\n",
       "      <td>2007-08</td>\n",
       "      <td>Subscription Season</td>\n",
       "      <td>Manhattan, NY</td>\n",
       "      <td>Avery Fisher Hall</td>\n",
       "      <td>2007-09-14T04:00:00Z</td>\n",
       "      <td>8:00PM</td>\n",
       "    </tr>\n",
       "    <tr>\n",
       "      <th>47208</th>\n",
       "      <td>8867*2</td>\n",
       "      <td>Sibelius,  Jean</td>\n",
       "      <td>LEMMINKAINEN SUITE (LEGENDS), OP. 22</td>\n",
       "      <td>Stokowski, Leopold</td>\n",
       "      <td>NaN</td>\n",
       "      <td>NaN</td>\n",
       "      <td>The Swan of Tuonela</td>\n",
       "      <td>NaN</td>\n",
       "      <td>NaN</td>\n",
       "      <td>73c4d118-6bd8-4771-b97d-a36e9956b740-0.1</td>\n",
       "      <td>6408</td>\n",
       "      <td>New York Philharmonic</td>\n",
       "      <td>1946-47</td>\n",
       "      <td>Subscription Season</td>\n",
       "      <td>Manhattan, NY</td>\n",
       "      <td>Carnegie Hall</td>\n",
       "      <td>1946-12-27T05:00:00Z</td>\n",
       "      <td>2:30PM</td>\n",
       "    </tr>\n",
       "  </tbody>\n",
       "</table>\n",
       "</div>"
      ],
      "text/plain": [
       "            ID     composerName                             workTitle  \\\n",
       "15531   8867*2  Sibelius,  Jean  LEMMINKAINEN SUITE (LEGENDS), OP. 22   \n",
       "82859   8867*4  Sibelius,  Jean  LEMMINKAINEN SUITE (LEGENDS), OP. 22   \n",
       "37861   8867*4  Sibelius,  Jean  LEMMINKAINEN SUITE (LEGENDS), OP. 22   \n",
       "108570  5696*1  Williams,  John                  HARRY POTTER:  SUITE   \n",
       "47208   8867*2  Sibelius,  Jean  LEMMINKAINEN SUITE (LEGENDS), OP. 22   \n",
       "\n",
       "               conductorName movement              movement._  \\\n",
       "15531        Stransky, Josef      NaN                     NaN   \n",
       "82859   Jarvi (Järvi), Neeme      NaN                     NaN   \n",
       "37861      Barbirolli , John      NaN                     NaN   \n",
       "108570        Williams, John      NaN  Hedwig's Theme (from )   \n",
       "47208     Stokowski, Leopold      NaN                     NaN   \n",
       "\n",
       "                                  movement.em workTitle._ workTitle.em  \\\n",
       "15531                     The Swan of Tuonela         NaN          NaN   \n",
       "82859                   Lemminkäinen's Return         NaN          NaN   \n",
       "37861                   Lemminkäinen's Return         NaN          NaN   \n",
       "108570  Harry Potter and the Sorcerer's Stone         NaN          NaN   \n",
       "47208                     The Swan of Tuonela         NaN          NaN   \n",
       "\n",
       "                                              id programID  \\\n",
       "15531   934e8e20-953f-4a30-aa1e-c65c24f80b61-0.1      7013   \n",
       "82859   14e4f1ac-ddfb-451f-b74e-456002ce84a5-0.1      5777   \n",
       "37861   d78eb0cf-f5d4-4ef4-aa39-ee67360f1f7c-0.1      4936   \n",
       "108570  e938cda9-a161-4d18-9034-c2a13eb64cde-0.1      9746   \n",
       "47208   73c4d118-6bd8-4771-b97d-a36e9956b740-0.1      6408   \n",
       "\n",
       "                    orchestra   season            eventType          Location  \\\n",
       "15531   New York Philharmonic  1918-19               Runout  Wilkes-Barre, PA   \n",
       "82859   New York Philharmonic  1979-80  Subscription Season     Manhattan, NY   \n",
       "37861   New York Philharmonic  1938-39               Runout     Princeton, NJ   \n",
       "108570  New York Philharmonic  2007-08  Subscription Season     Manhattan, NY   \n",
       "47208   New York Philharmonic  1946-47  Subscription Season     Manhattan, NY   \n",
       "\n",
       "                    Venue                  Date    Time  \n",
       "15531         Irem Temple  1919-02-03T05:00:00Z  8:30PM  \n",
       "82859   Avery Fisher Hall  1980-02-21T05:00:00Z  8:00PM  \n",
       "37861    McCarter Theatre  1938-10-29T05:00:00Z  8:30PM  \n",
       "108570  Avery Fisher Hall  2007-09-14T04:00:00Z  8:00PM  \n",
       "47208       Carnegie Hall  1946-12-27T05:00:00Z  2:30PM  "
      ]
     },
     "execution_count": 18,
     "metadata": {},
     "output_type": "execute_result"
    }
   ],
   "source": [
    "cols = ['movement._', 'movement.em', 'workTitle._', 'workTitle.em']\n",
    "df[df[cols].notna().any(axis=1)].sample(5, random_state=3)"
   ]
  },
  {
   "cell_type": "markdown",
   "metadata": {},
   "source": [
    "It won't be feasible to reconstruct the exact work title, but let's concatenate the strings in the two columns and impute it into the non-suffixed columns.\n",
    " \n",
    "Is the `'movement'` column always empty when the other two have values present (and likewise for '`workTitle'`)? If so, the following code should print four `0`s."
   ]
  },
  {
   "cell_type": "code",
   "execution_count": 19,
   "metadata": {},
   "outputs": [
    {
     "name": "stdout",
     "output_type": "stream",
     "text": [
      "0\n",
      "0\n",
      "0\n",
      "0\n"
     ]
    }
   ],
   "source": [
    "for col in ['movement', 'workTitle']:\n",
    "    for suffix in ['.em', '._']:\n",
    "        print(df[df[col+suffix].notna()][col].notna().sum())"
   ]
  },
  {
   "cell_type": "markdown",
   "metadata": {},
   "source": [
    "It is safe to consolidate these columns. Let's do that and drop the `.em` and `._` suffixed columns."
   ]
  },
  {
   "cell_type": "code",
   "execution_count": 20,
   "metadata": {},
   "outputs": [],
   "source": [
    "for col in ['movement', 'workTitle']:\n",
    "    rows = df[col].isna()\n",
    "    df[col][rows] = df[col+'._'][rows] + ' ' +  df[col+'.em'][rows]\n",
    "    df.drop(columns=[col+'._', col+'.em'], inplace=True)"
   ]
  },
  {
   "cell_type": "code",
   "execution_count": 21,
   "metadata": {},
   "outputs": [
    {
     "data": {
      "text/plain": [
       "ID                   3\n",
       "composerName         3\n",
       "workTitle            3\n",
       "conductorName     2200\n",
       "movement         65939\n",
       "id                   0\n",
       "programID            0\n",
       "orchestra            0\n",
       "season               0\n",
       "eventType            0\n",
       "Location             0\n",
       "Venue                0\n",
       "Date                 0\n",
       "Time                 0\n",
       "dtype: int64"
      ]
     },
     "execution_count": 21,
     "metadata": {},
     "output_type": "execute_result"
    }
   ],
   "source": [
    "df.isna().sum()"
   ]
  },
  {
   "cell_type": "markdown",
   "metadata": {},
   "source": [
    "## 4.3 - Remaining missing values\n",
    "Many works are not comprised of multiple movements, so we can keep the missing values in the movement column.\n",
    "\n",
    "There are many instances where a conductor is not listed. Since most large-ensemble works are performed with a conductor, let's check the rows associated with these missing values."
   ]
  },
  {
   "cell_type": "code",
   "execution_count": 22,
   "metadata": {},
   "outputs": [
    {
     "data": {
      "text/html": [
       "<div>\n",
       "<style scoped>\n",
       "    .dataframe tbody tr th:only-of-type {\n",
       "        vertical-align: middle;\n",
       "    }\n",
       "\n",
       "    .dataframe tbody tr th {\n",
       "        vertical-align: top;\n",
       "    }\n",
       "\n",
       "    .dataframe thead th {\n",
       "        text-align: right;\n",
       "    }\n",
       "</style>\n",
       "<table border=\"1\" class=\"dataframe\">\n",
       "  <thead>\n",
       "    <tr style=\"text-align: right;\">\n",
       "      <th></th>\n",
       "      <th>ID</th>\n",
       "      <th>composerName</th>\n",
       "      <th>workTitle</th>\n",
       "      <th>conductorName</th>\n",
       "      <th>movement</th>\n",
       "      <th>id</th>\n",
       "      <th>programID</th>\n",
       "      <th>orchestra</th>\n",
       "      <th>season</th>\n",
       "      <th>eventType</th>\n",
       "      <th>Location</th>\n",
       "      <th>Venue</th>\n",
       "      <th>Date</th>\n",
       "      <th>Time</th>\n",
       "    </tr>\n",
       "  </thead>\n",
       "  <tbody>\n",
       "    <tr>\n",
       "      <th>97957</th>\n",
       "      <td>8761*3</td>\n",
       "      <td>Bach,  Johann  Sebastian</td>\n",
       "      <td>PARTITA NO. 2, D MINOR, BWV 1004</td>\n",
       "      <td>NaN</td>\n",
       "      <td>Sarabande</td>\n",
       "      <td>ea5bfd58-8319-4563-9b07-2fc5388d7062-0.1</td>\n",
       "      <td>8015</td>\n",
       "      <td>New York Philharmonic</td>\n",
       "      <td>1996-97</td>\n",
       "      <td>Subscription Season</td>\n",
       "      <td>Manhattan, NY</td>\n",
       "      <td>Avery Fisher Hall</td>\n",
       "      <td>1997-01-15T05:00:00Z</td>\n",
       "      <td>8:00PM</td>\n",
       "    </tr>\n",
       "    <tr>\n",
       "      <th>100240</th>\n",
       "      <td>8113*3</td>\n",
       "      <td>Bach,  Johann  Sebastian</td>\n",
       "      <td>SONATA, VIOLIN, UNACCOMPANIED, NO. 2, A MINOR,...</td>\n",
       "      <td>NaN</td>\n",
       "      <td>Andante</td>\n",
       "      <td>b9a40b38-97a7-4aa3-8fb1-ed62ff9bb1ea-0.1</td>\n",
       "      <td>7996</td>\n",
       "      <td>New York Philharmonic</td>\n",
       "      <td>1998-99</td>\n",
       "      <td>Subscription Season</td>\n",
       "      <td>Manhattan, NY</td>\n",
       "      <td>Avery Fisher Hall</td>\n",
       "      <td>1999-03-20T05:00:00Z</td>\n",
       "      <td>8:00PM</td>\n",
       "    </tr>\n",
       "    <tr>\n",
       "      <th>96695</th>\n",
       "      <td>3152*17</td>\n",
       "      <td>Gabrieli,  Giovanni</td>\n",
       "      <td>SACRAE SYMPHONIAE, BOOK 1</td>\n",
       "      <td>NaN</td>\n",
       "      <td>Sonata pian' e forte a 8, C. 175 (arr. Fracken...</td>\n",
       "      <td>56290366-ef46-4af4-a24c-f04f9251b5d2-0.1</td>\n",
       "      <td>7808</td>\n",
       "      <td>New York Philharmonic</td>\n",
       "      <td>1995-96</td>\n",
       "      <td>Subscription Season</td>\n",
       "      <td>Manhattan, NY</td>\n",
       "      <td>Avery Fisher Hall</td>\n",
       "      <td>1995-11-09T05:00:00Z</td>\n",
       "      <td>8:00PM</td>\n",
       "    </tr>\n",
       "    <tr>\n",
       "      <th>6416</th>\n",
       "      <td>10359*</td>\n",
       "      <td>Tchaikovsky,  Pyotr  Ilyich</td>\n",
       "      <td>HUMORESQUE (SOLO PIANO), OP. 10, NO. 2</td>\n",
       "      <td>NaN</td>\n",
       "      <td>NaN</td>\n",
       "      <td>8a73c52f-95a8-411c-b6e8-3d7bc4d7b90a-0.1</td>\n",
       "      <td>10525</td>\n",
       "      <td>New York Symphony</td>\n",
       "      <td>1904-05</td>\n",
       "      <td>Special</td>\n",
       "      <td>Manhattan, NY</td>\n",
       "      <td>Carnegie Hall</td>\n",
       "      <td>1905-01-18T05:00:00Z</td>\n",
       "      <td>8:15PM</td>\n",
       "    </tr>\n",
       "    <tr>\n",
       "      <th>32935</th>\n",
       "      <td>11706*</td>\n",
       "      <td>Traditional,</td>\n",
       "      <td>DANCE OF THE COCONUT GROVE (ARR. Hairston)</td>\n",
       "      <td>NaN</td>\n",
       "      <td>NaN</td>\n",
       "      <td>963ccf25-b762-4265-b276-26f8616ff660-0.1</td>\n",
       "      <td>13124</td>\n",
       "      <td>Stadium-NY Philharmonic</td>\n",
       "      <td>1932-33</td>\n",
       "      <td>Stadium Concert</td>\n",
       "      <td>Manhattan, NY</td>\n",
       "      <td>Lewisohn Stadium</td>\n",
       "      <td>1933-08-18T04:00:00Z</td>\n",
       "      <td>8:30PM</td>\n",
       "    </tr>\n",
       "  </tbody>\n",
       "</table>\n",
       "</div>"
      ],
      "text/plain": [
       "             ID                 composerName  \\\n",
       "97957    8761*3     Bach,  Johann  Sebastian   \n",
       "100240   8113*3     Bach,  Johann  Sebastian   \n",
       "96695   3152*17          Gabrieli,  Giovanni   \n",
       "6416     10359*  Tchaikovsky,  Pyotr  Ilyich   \n",
       "32935    11706*                 Traditional,   \n",
       "\n",
       "                                                workTitle conductorName  \\\n",
       "97957                    PARTITA NO. 2, D MINOR, BWV 1004           NaN   \n",
       "100240  SONATA, VIOLIN, UNACCOMPANIED, NO. 2, A MINOR,...           NaN   \n",
       "96695                           SACRAE SYMPHONIAE, BOOK 1           NaN   \n",
       "6416               HUMORESQUE (SOLO PIANO), OP. 10, NO. 2           NaN   \n",
       "32935          DANCE OF THE COCONUT GROVE (ARR. Hairston)           NaN   \n",
       "\n",
       "                                                 movement  \\\n",
       "97957                                           Sarabande   \n",
       "100240                                            Andante   \n",
       "96695   Sonata pian' e forte a 8, C. 175 (arr. Fracken...   \n",
       "6416                                                  NaN   \n",
       "32935                                                 NaN   \n",
       "\n",
       "                                              id programID  \\\n",
       "97957   ea5bfd58-8319-4563-9b07-2fc5388d7062-0.1      8015   \n",
       "100240  b9a40b38-97a7-4aa3-8fb1-ed62ff9bb1ea-0.1      7996   \n",
       "96695   56290366-ef46-4af4-a24c-f04f9251b5d2-0.1      7808   \n",
       "6416    8a73c52f-95a8-411c-b6e8-3d7bc4d7b90a-0.1     10525   \n",
       "32935   963ccf25-b762-4265-b276-26f8616ff660-0.1     13124   \n",
       "\n",
       "                      orchestra   season            eventType       Location  \\\n",
       "97957     New York Philharmonic  1996-97  Subscription Season  Manhattan, NY   \n",
       "100240    New York Philharmonic  1998-99  Subscription Season  Manhattan, NY   \n",
       "96695     New York Philharmonic  1995-96  Subscription Season  Manhattan, NY   \n",
       "6416          New York Symphony  1904-05              Special  Manhattan, NY   \n",
       "32935   Stadium-NY Philharmonic  1932-33      Stadium Concert  Manhattan, NY   \n",
       "\n",
       "                    Venue                  Date    Time  \n",
       "97957   Avery Fisher Hall  1997-01-15T05:00:00Z  8:00PM  \n",
       "100240  Avery Fisher Hall  1999-03-20T05:00:00Z  8:00PM  \n",
       "96695   Avery Fisher Hall  1995-11-09T05:00:00Z  8:00PM  \n",
       "6416        Carnegie Hall  1905-01-18T05:00:00Z  8:15PM  \n",
       "32935    Lewisohn Stadium  1933-08-18T04:00:00Z  8:30PM  "
      ]
     },
     "execution_count": 22,
     "metadata": {},
     "output_type": "execute_result"
    }
   ],
   "source": [
    "df[df['conductorName'].isna()].sample(5, random_state=0)"
   ]
  },
  {
   "cell_type": "markdown",
   "metadata": {},
   "source": [
    "It looks like these rows represent smaller ensemble works performed without a conductor. Although possible that some rows will represent orchestral works, with the conductor information missing, we will not lose much by dropping these rows."
   ]
  },
  {
   "cell_type": "code",
   "execution_count": 23,
   "metadata": {},
   "outputs": [],
   "source": [
    "df = df[df['conductorName'].notna()]"
   ]
  },
  {
   "cell_type": "markdown",
   "metadata": {},
   "source": [
    "After this operation, we are left with only missing movement information (as expected)."
   ]
  },
  {
   "cell_type": "code",
   "execution_count": 24,
   "metadata": {},
   "outputs": [
    {
     "data": {
      "text/plain": [
       "ID                   0\n",
       "composerName         0\n",
       "workTitle            0\n",
       "conductorName        0\n",
       "movement         64576\n",
       "id                   0\n",
       "programID            0\n",
       "orchestra            0\n",
       "season               0\n",
       "eventType            0\n",
       "Location             0\n",
       "Venue                0\n",
       "Date                 0\n",
       "Time                 0\n",
       "dtype: int64"
      ]
     },
     "execution_count": 24,
     "metadata": {},
     "output_type": "execute_result"
    }
   ],
   "source": [
    "df.isna().sum()"
   ]
  },
  {
   "cell_type": "markdown",
   "metadata": {},
   "source": [
    "## 4.4 - Date and Time\n",
    "It may be useful to know the date and time of a performance, but the time zone doesn't really matter. Let's create a single DateTime column with `datetime` objects, throwing away the time zone and placing performances with no indicated time at midnight. We then drop the original date and time columns."
   ]
  },
  {
   "cell_type": "code",
   "execution_count": 25,
   "metadata": {},
   "outputs": [
    {
     "data": {
      "text/plain": [
       "110957    2009-05-30T04:00:00Z\n",
       "Name: Date, dtype: object"
      ]
     },
     "execution_count": 25,
     "metadata": {},
     "output_type": "execute_result"
    }
   ],
   "source": [
    "df['Date'].sample()"
   ]
  },
  {
   "cell_type": "code",
   "execution_count": 26,
   "metadata": {},
   "outputs": [
    {
     "data": {
      "text/plain": [
       "True"
      ]
     },
     "execution_count": 26,
     "metadata": {},
     "output_type": "execute_result"
    }
   ],
   "source": [
    "# check that all dates split into two parts on the 'T'\n",
    "(df['Date'].str.split('T').str.len() == 2).all()"
   ]
  },
  {
   "cell_type": "code",
   "execution_count": 27,
   "metadata": {},
   "outputs": [
    {
     "data": {
      "text/plain": [
       "29186    1930-05-18 15:00:00\n",
       "120564   2017-02-15 19:30:00\n",
       "13914    1917-02-19 14:30:00\n",
       "75642    1972-12-21 20:30:00\n",
       "78499    1975-12-02 19:30:00\n",
       "Name: DateTime, dtype: datetime64[ns]"
      ]
     },
     "execution_count": 27,
     "metadata": {},
     "output_type": "execute_result"
    }
   ],
   "source": [
    "df['DateTime'] = pd.to_datetime(df['Date'].str.split('T').str[0] \\\n",
    "                                 + ' ' + df['Time'].str.replace('None', ''))\n",
    "df.drop(columns=['Date', 'Time'], inplace=True)\n",
    "df['DateTime'].sample(5)"
   ]
  },
  {
   "cell_type": "markdown",
   "metadata": {},
   "source": [
    "Let's drop 2020 since the season was left unfinished due to COVID-19."
   ]
  },
  {
   "cell_type": "code",
   "execution_count": 28,
   "metadata": {},
   "outputs": [],
   "source": [
    "df = df[df['DateTime'].dt.year < 2020]"
   ]
  },
  {
   "cell_type": "markdown",
   "metadata": {},
   "source": [
    "## 4.5 - Movements\n",
    "Some works are separated into multiple rows by movement, but not all multi-movement works are separated in this way. For example, Tchaikovsky's _Symphony No. 4_ (relevant row shown below) is a four-movement work, but is reported as a single row."
   ]
  },
  {
   "cell_type": "code",
   "execution_count": 29,
   "metadata": {},
   "outputs": [
    {
     "data": {
      "text/html": [
       "<div>\n",
       "<style scoped>\n",
       "    .dataframe tbody tr th:only-of-type {\n",
       "        vertical-align: middle;\n",
       "    }\n",
       "\n",
       "    .dataframe tbody tr th {\n",
       "        vertical-align: top;\n",
       "    }\n",
       "\n",
       "    .dataframe thead th {\n",
       "        text-align: right;\n",
       "    }\n",
       "</style>\n",
       "<table border=\"1\" class=\"dataframe\">\n",
       "  <thead>\n",
       "    <tr style=\"text-align: right;\">\n",
       "      <th></th>\n",
       "      <th>ID</th>\n",
       "      <th>composerName</th>\n",
       "      <th>workTitle</th>\n",
       "      <th>conductorName</th>\n",
       "      <th>movement</th>\n",
       "      <th>id</th>\n",
       "      <th>programID</th>\n",
       "      <th>orchestra</th>\n",
       "      <th>season</th>\n",
       "      <th>eventType</th>\n",
       "      <th>Location</th>\n",
       "      <th>Venue</th>\n",
       "      <th>DateTime</th>\n",
       "    </tr>\n",
       "  </thead>\n",
       "  <tbody>\n",
       "    <tr>\n",
       "      <th>98366</th>\n",
       "      <td>2013*</td>\n",
       "      <td>Bruckner,  Anton</td>\n",
       "      <td>SYMPHONY NO. 3, D MINOR</td>\n",
       "      <td>Masur, Kurt</td>\n",
       "      <td>NaN</td>\n",
       "      <td>0bdbf7b9-172c-40ed-8544-b609a5cad054-0.1</td>\n",
       "      <td>13274</td>\n",
       "      <td>New York Philharmonic</td>\n",
       "      <td>1996-97</td>\n",
       "      <td>Tour</td>\n",
       "      <td>Buenos Aires, ARGENTINA</td>\n",
       "      <td>Teatro Colón</td>\n",
       "      <td>1997-06-10 20:30:00</td>\n",
       "    </tr>\n",
       "  </tbody>\n",
       "</table>\n",
       "</div>"
      ],
      "text/plain": [
       "          ID      composerName                workTitle conductorName  \\\n",
       "98366  2013*  Bruckner,  Anton  SYMPHONY NO. 3, D MINOR   Masur, Kurt   \n",
       "\n",
       "      movement                                        id programID  \\\n",
       "98366      NaN  0bdbf7b9-172c-40ed-8544-b609a5cad054-0.1     13274   \n",
       "\n",
       "                   orchestra   season eventType                 Location  \\\n",
       "98366  New York Philharmonic  1996-97      Tour  Buenos Aires, ARGENTINA   \n",
       "\n",
       "              Venue            DateTime  \n",
       "98366  Teatro Colón 1997-06-10 20:30:00  "
      ]
     },
     "execution_count": 29,
     "metadata": {},
     "output_type": "execute_result"
    }
   ],
   "source": [
    "df[df['workTitle'].str.lower().str.contains('symphony')].sample(random_state=0)"
   ]
  },
  {
   "cell_type": "markdown",
   "metadata": {},
   "source": [
    "It is unclear which works will have movements reported, so let's represent each work as only a single row.\n",
    "\n",
    "The column `ID` is in the format (work ID)*(movement ID), so we can use this to group by work. First let's separate this into two columns:"
   ]
  },
  {
   "cell_type": "code",
   "execution_count": 30,
   "metadata": {},
   "outputs": [],
   "source": [
    "df['work_id'] = df['ID'].str.split('*').str[0]\n",
    "df['mvt_id'] = df['ID'].str.split('*').str[1]"
   ]
  },
  {
   "cell_type": "markdown",
   "metadata": {},
   "source": [
    "Now group by `DateTime` and `work_id` (to get a unique performance of the work) and count the number of unique movement IDs."
   ]
  },
  {
   "cell_type": "code",
   "execution_count": 31,
   "metadata": {},
   "outputs": [
    {
     "data": {
      "text/plain": [
       "DateTime             work_id\n",
       "1842-12-07 20:00:00  52446      1\n",
       "                     5543       1\n",
       "                     8336       1\n",
       "                     8834       2\n",
       "                     8835       1\n",
       "                               ..\n",
       "2019-12-31 19:30:00  3045       3\n",
       "                     8742       1\n",
       "                     8766       1\n",
       "                     8934       1\n",
       "                     9163       1\n",
       "Name: mvt_id, Length: 85328, dtype: int64"
      ]
     },
     "execution_count": 31,
     "metadata": {},
     "output_type": "execute_result"
    }
   ],
   "source": [
    "grouped = df.groupby(['DateTime', 'work_id'])['mvt_id'].nunique()\n",
    "grouped"
   ]
  },
  {
   "cell_type": "markdown",
   "metadata": {},
   "source": [
    "Let's check if this worked:"
   ]
  },
  {
   "cell_type": "code",
   "execution_count": 32,
   "metadata": {},
   "outputs": [
    {
     "data": {
      "text/plain": [
       "DateTime             work_id\n",
       "2003-03-08 14:00:00  8704       2\n",
       "Name: mvt_id, dtype: int64"
      ]
     },
     "execution_count": 32,
     "metadata": {},
     "output_type": "execute_result"
    }
   ],
   "source": [
    "grouped[grouped>1].sample(random_state=0)"
   ]
  },
  {
   "cell_type": "code",
   "execution_count": 33,
   "metadata": {},
   "outputs": [
    {
     "name": "stderr",
     "output_type": "stream",
     "text": [
      "C:\\Users\\Brian\\Anaconda3\\lib\\site-packages\\ipykernel_launcher.py:1: UserWarning: Boolean Series key will be reindexed to match DataFrame index.\n",
      "  \"\"\"Entry point for launching an IPython kernel.\n"
     ]
    },
    {
     "data": {
      "text/html": [
       "<div>\n",
       "<style scoped>\n",
       "    .dataframe tbody tr th:only-of-type {\n",
       "        vertical-align: middle;\n",
       "    }\n",
       "\n",
       "    .dataframe tbody tr th {\n",
       "        vertical-align: top;\n",
       "    }\n",
       "\n",
       "    .dataframe thead th {\n",
       "        text-align: right;\n",
       "    }\n",
       "</style>\n",
       "<table border=\"1\" class=\"dataframe\">\n",
       "  <thead>\n",
       "    <tr style=\"text-align: right;\">\n",
       "      <th></th>\n",
       "      <th>ID</th>\n",
       "      <th>composerName</th>\n",
       "      <th>workTitle</th>\n",
       "      <th>conductorName</th>\n",
       "      <th>movement</th>\n",
       "      <th>id</th>\n",
       "      <th>programID</th>\n",
       "      <th>orchestra</th>\n",
       "      <th>season</th>\n",
       "      <th>eventType</th>\n",
       "      <th>Location</th>\n",
       "      <th>Venue</th>\n",
       "      <th>DateTime</th>\n",
       "      <th>work_id</th>\n",
       "      <th>mvt_id</th>\n",
       "    </tr>\n",
       "  </thead>\n",
       "  <tbody>\n",
       "    <tr>\n",
       "      <th>50601</th>\n",
       "      <td>9006*17</td>\n",
       "      <td>Wagner,  Richard</td>\n",
       "      <td>GOTTERDAMMERUNG [GÖTTERDÄMMERUNG]</td>\n",
       "      <td>De Sabata, Victor</td>\n",
       "      <td>PROLOGUE: Siegfried's Rhine Journey</td>\n",
       "      <td>830a1bc8-16ed-434c-a282-43d851cfc5c4-0.1</td>\n",
       "      <td>3801</td>\n",
       "      <td>New York Philharmonic</td>\n",
       "      <td>1949-50</td>\n",
       "      <td>Subscription Season</td>\n",
       "      <td>Manhattan, NY</td>\n",
       "      <td>Carnegie Hall</td>\n",
       "      <td>1950-03-16 20:45:00</td>\n",
       "      <td>9006</td>\n",
       "      <td>17</td>\n",
       "    </tr>\n",
       "    <tr>\n",
       "      <th>50603</th>\n",
       "      <td>9006*21</td>\n",
       "      <td>Wagner,  Richard</td>\n",
       "      <td>GOTTERDAMMERUNG [GÖTTERDÄMMERUNG]</td>\n",
       "      <td>De Sabata, Victor</td>\n",
       "      <td>Siegfried's Death (orchestra without singer - ...</td>\n",
       "      <td>830a1bc8-16ed-434c-a282-43d851cfc5c4-0.1</td>\n",
       "      <td>3801</td>\n",
       "      <td>New York Philharmonic</td>\n",
       "      <td>1949-50</td>\n",
       "      <td>Subscription Season</td>\n",
       "      <td>Manhattan, NY</td>\n",
       "      <td>Carnegie Hall</td>\n",
       "      <td>1950-03-16 20:45:00</td>\n",
       "      <td>9006</td>\n",
       "      <td>21</td>\n",
       "    </tr>\n",
       "    <tr>\n",
       "      <th>50605</th>\n",
       "      <td>9006*10</td>\n",
       "      <td>Wagner,  Richard</td>\n",
       "      <td>GOTTERDAMMERUNG [GÖTTERDÄMMERUNG]</td>\n",
       "      <td>De Sabata, Victor</td>\n",
       "      <td>Siegfried's Funeral Music, ACT III, scene ii</td>\n",
       "      <td>830a1bc8-16ed-434c-a282-43d851cfc5c4-0.1</td>\n",
       "      <td>3801</td>\n",
       "      <td>New York Philharmonic</td>\n",
       "      <td>1949-50</td>\n",
       "      <td>Subscription Season</td>\n",
       "      <td>Manhattan, NY</td>\n",
       "      <td>Carnegie Hall</td>\n",
       "      <td>1950-03-16 20:45:00</td>\n",
       "      <td>9006</td>\n",
       "      <td>10</td>\n",
       "    </tr>\n",
       "  </tbody>\n",
       "</table>\n",
       "</div>"
      ],
      "text/plain": [
       "            ID      composerName                          workTitle  \\\n",
       "50601  9006*17  Wagner,  Richard  GOTTERDAMMERUNG [GÖTTERDÄMMERUNG]   \n",
       "50603  9006*21  Wagner,  Richard  GOTTERDAMMERUNG [GÖTTERDÄMMERUNG]   \n",
       "50605  9006*10  Wagner,  Richard  GOTTERDAMMERUNG [GÖTTERDÄMMERUNG]   \n",
       "\n",
       "           conductorName                                           movement  \\\n",
       "50601  De Sabata, Victor                PROLOGUE: Siegfried's Rhine Journey   \n",
       "50603  De Sabata, Victor  Siegfried's Death (orchestra without singer - ...   \n",
       "50605  De Sabata, Victor       Siegfried's Funeral Music, ACT III, scene ii   \n",
       "\n",
       "                                             id programID  \\\n",
       "50601  830a1bc8-16ed-434c-a282-43d851cfc5c4-0.1      3801   \n",
       "50603  830a1bc8-16ed-434c-a282-43d851cfc5c4-0.1      3801   \n",
       "50605  830a1bc8-16ed-434c-a282-43d851cfc5c4-0.1      3801   \n",
       "\n",
       "                   orchestra   season            eventType       Location  \\\n",
       "50601  New York Philharmonic  1949-50  Subscription Season  Manhattan, NY   \n",
       "50603  New York Philharmonic  1949-50  Subscription Season  Manhattan, NY   \n",
       "50605  New York Philharmonic  1949-50  Subscription Season  Manhattan, NY   \n",
       "\n",
       "               Venue            DateTime work_id mvt_id  \n",
       "50601  Carnegie Hall 1950-03-16 20:45:00    9006     17  \n",
       "50603  Carnegie Hall 1950-03-16 20:45:00    9006     21  \n",
       "50605  Carnegie Hall 1950-03-16 20:45:00    9006     10  "
      ]
     },
     "execution_count": 33,
     "metadata": {},
     "output_type": "execute_result"
    }
   ],
   "source": [
    "df[df['DateTime']==pd.to_datetime('1950-03-16 20:45:00')][df['work_id']=='9006']"
   ]
  },
  {
   "cell_type": "markdown",
   "metadata": {},
   "source": [
    "_Götterdämmerung_ by Wagner is a [multi-movement opera](https://en.wikipedia.org/wiki/G%C3%B6tterd%C3%A4mmerung), but only 3 movements were performed at the [concert](https://archives.nyphil.org/index.php/artifact/830a1bc8-16ed-434c-a282-43d851cfc5c4-0.1).\n",
    "\n",
    "Now, we update the dataframe. We drop the `movement` column and drop rows that have the same `DateTime` and `work_id`. The resulting dataframe should be the same length as the `grouped` Series."
   ]
  },
  {
   "cell_type": "code",
   "execution_count": 34,
   "metadata": {},
   "outputs": [
    {
     "data": {
      "text/plain": [
       "(85328, 85328)"
      ]
     },
     "execution_count": 34,
     "metadata": {},
     "output_type": "execute_result"
    }
   ],
   "source": [
    "df = df.drop(columns=['movement', 'mvt_id'])\\\n",
    "        .drop_duplicates(['DateTime', 'work_id'])\n",
    "\n",
    "len(df), len(grouped)"
   ]
  },
  {
   "cell_type": "markdown",
   "metadata": {},
   "source": [
    "We can finally add the grouped series as a new column with the number of movements."
   ]
  },
  {
   "cell_type": "code",
   "execution_count": 35,
   "metadata": {},
   "outputs": [],
   "source": [
    "df = df.join(grouped, on=['DateTime', 'work_id'])"
   ]
  },
  {
   "cell_type": "markdown",
   "metadata": {},
   "source": [
    "## 4.6 - Reorder and rename columns for readability"
   ]
  },
  {
   "cell_type": "code",
   "execution_count": 36,
   "metadata": {},
   "outputs": [],
   "source": [
    "df = df.rename(columns={'id': 'program_guid', 'programID': 'program_id',\n",
    "                       'mvt_id': 'num_movements'})\n",
    "\n",
    "cols = ['program_guid', 'program_id', 'work_id', 'composerName', 'workTitle', \n",
    "       'num_movements', 'orchestra', 'conductorName', 'season', 'eventType', 'Location', \n",
    "        'Venue', 'DateTime']\n",
    "\n",
    "df = df[cols]\n",
    "\n",
    "# convert string ids to numeric\n",
    "cols = ['program_id', 'work_id']\n",
    "df[cols] = df[cols].apply(pd.to_numeric)\n"
   ]
  },
  {
   "cell_type": "code",
   "execution_count": 37,
   "metadata": {},
   "outputs": [
    {
     "data": {
      "text/html": [
       "<div>\n",
       "<style scoped>\n",
       "    .dataframe tbody tr th:only-of-type {\n",
       "        vertical-align: middle;\n",
       "    }\n",
       "\n",
       "    .dataframe tbody tr th {\n",
       "        vertical-align: top;\n",
       "    }\n",
       "\n",
       "    .dataframe thead th {\n",
       "        text-align: right;\n",
       "    }\n",
       "</style>\n",
       "<table border=\"1\" class=\"dataframe\">\n",
       "  <thead>\n",
       "    <tr style=\"text-align: right;\">\n",
       "      <th></th>\n",
       "      <th>program_guid</th>\n",
       "      <th>program_id</th>\n",
       "      <th>work_id</th>\n",
       "      <th>composerName</th>\n",
       "      <th>workTitle</th>\n",
       "      <th>num_movements</th>\n",
       "      <th>orchestra</th>\n",
       "      <th>conductorName</th>\n",
       "      <th>season</th>\n",
       "      <th>eventType</th>\n",
       "      <th>Location</th>\n",
       "      <th>Venue</th>\n",
       "      <th>DateTime</th>\n",
       "    </tr>\n",
       "  </thead>\n",
       "  <tbody>\n",
       "    <tr>\n",
       "      <th>0</th>\n",
       "      <td>00646b9f-fec7-4ffb-9fb1-faae410bd9dc-0.1</td>\n",
       "      <td>3853</td>\n",
       "      <td>52446</td>\n",
       "      <td>Beethoven,  Ludwig  van</td>\n",
       "      <td>SYMPHONY NO. 5 IN C MINOR, OP.67</td>\n",
       "      <td>1</td>\n",
       "      <td>New York Philharmonic</td>\n",
       "      <td>Hill, Ureli Corelli</td>\n",
       "      <td>1842-43</td>\n",
       "      <td>Subscription Season</td>\n",
       "      <td>Manhattan, NY</td>\n",
       "      <td>Apollo Rooms</td>\n",
       "      <td>1842-12-07 20:00:00</td>\n",
       "    </tr>\n",
       "    <tr>\n",
       "      <th>1</th>\n",
       "      <td>00646b9f-fec7-4ffb-9fb1-faae410bd9dc-0.1</td>\n",
       "      <td>3853</td>\n",
       "      <td>8834</td>\n",
       "      <td>Weber,  Carl  Maria Von</td>\n",
       "      <td>OBERON</td>\n",
       "      <td>2</td>\n",
       "      <td>New York Philharmonic</td>\n",
       "      <td>Timm, Henry C.</td>\n",
       "      <td>1842-43</td>\n",
       "      <td>Subscription Season</td>\n",
       "      <td>Manhattan, NY</td>\n",
       "      <td>Apollo Rooms</td>\n",
       "      <td>1842-12-07 20:00:00</td>\n",
       "    </tr>\n",
       "    <tr>\n",
       "      <th>5</th>\n",
       "      <td>00646b9f-fec7-4ffb-9fb1-faae410bd9dc-0.1</td>\n",
       "      <td>3853</td>\n",
       "      <td>8835</td>\n",
       "      <td>Rossini,  Gioachino</td>\n",
       "      <td>ARMIDA</td>\n",
       "      <td>1</td>\n",
       "      <td>New York Philharmonic</td>\n",
       "      <td>Timm, Henry C.</td>\n",
       "      <td>1842-43</td>\n",
       "      <td>Subscription Season</td>\n",
       "      <td>Manhattan, NY</td>\n",
       "      <td>Apollo Rooms</td>\n",
       "      <td>1842-12-07 20:00:00</td>\n",
       "    </tr>\n",
       "    <tr>\n",
       "      <th>6</th>\n",
       "      <td>00646b9f-fec7-4ffb-9fb1-faae410bd9dc-0.1</td>\n",
       "      <td>3853</td>\n",
       "      <td>8837</td>\n",
       "      <td>Beethoven,  Ludwig  van</td>\n",
       "      <td>FIDELIO, OP. 72</td>\n",
       "      <td>1</td>\n",
       "      <td>New York Philharmonic</td>\n",
       "      <td>Timm, Henry C.</td>\n",
       "      <td>1842-43</td>\n",
       "      <td>Subscription Season</td>\n",
       "      <td>Manhattan, NY</td>\n",
       "      <td>Apollo Rooms</td>\n",
       "      <td>1842-12-07 20:00:00</td>\n",
       "    </tr>\n",
       "    <tr>\n",
       "      <th>7</th>\n",
       "      <td>00646b9f-fec7-4ffb-9fb1-faae410bd9dc-0.1</td>\n",
       "      <td>3853</td>\n",
       "      <td>8336</td>\n",
       "      <td>Mozart,  Wolfgang  Amadeus</td>\n",
       "      <td>ABDUCTION FROM THE SERAGLIO,THE, K.384</td>\n",
       "      <td>1</td>\n",
       "      <td>New York Philharmonic</td>\n",
       "      <td>Timm, Henry C.</td>\n",
       "      <td>1842-43</td>\n",
       "      <td>Subscription Season</td>\n",
       "      <td>Manhattan, NY</td>\n",
       "      <td>Apollo Rooms</td>\n",
       "      <td>1842-12-07 20:00:00</td>\n",
       "    </tr>\n",
       "  </tbody>\n",
       "</table>\n",
       "</div>"
      ],
      "text/plain": [
       "                               program_guid  program_id  work_id  \\\n",
       "0  00646b9f-fec7-4ffb-9fb1-faae410bd9dc-0.1        3853    52446   \n",
       "1  00646b9f-fec7-4ffb-9fb1-faae410bd9dc-0.1        3853     8834   \n",
       "5  00646b9f-fec7-4ffb-9fb1-faae410bd9dc-0.1        3853     8835   \n",
       "6  00646b9f-fec7-4ffb-9fb1-faae410bd9dc-0.1        3853     8837   \n",
       "7  00646b9f-fec7-4ffb-9fb1-faae410bd9dc-0.1        3853     8336   \n",
       "\n",
       "                 composerName                               workTitle  \\\n",
       "0     Beethoven,  Ludwig  van        SYMPHONY NO. 5 IN C MINOR, OP.67   \n",
       "1     Weber,  Carl  Maria Von                                  OBERON   \n",
       "5         Rossini,  Gioachino                                  ARMIDA   \n",
       "6     Beethoven,  Ludwig  van                         FIDELIO, OP. 72   \n",
       "7  Mozart,  Wolfgang  Amadeus  ABDUCTION FROM THE SERAGLIO,THE, K.384   \n",
       "\n",
       "   num_movements              orchestra        conductorName   season  \\\n",
       "0              1  New York Philharmonic  Hill, Ureli Corelli  1842-43   \n",
       "1              2  New York Philharmonic       Timm, Henry C.  1842-43   \n",
       "5              1  New York Philharmonic       Timm, Henry C.  1842-43   \n",
       "6              1  New York Philharmonic       Timm, Henry C.  1842-43   \n",
       "7              1  New York Philharmonic       Timm, Henry C.  1842-43   \n",
       "\n",
       "             eventType       Location         Venue            DateTime  \n",
       "0  Subscription Season  Manhattan, NY  Apollo Rooms 1842-12-07 20:00:00  \n",
       "1  Subscription Season  Manhattan, NY  Apollo Rooms 1842-12-07 20:00:00  \n",
       "5  Subscription Season  Manhattan, NY  Apollo Rooms 1842-12-07 20:00:00  \n",
       "6  Subscription Season  Manhattan, NY  Apollo Rooms 1842-12-07 20:00:00  \n",
       "7  Subscription Season  Manhattan, NY  Apollo Rooms 1842-12-07 20:00:00  "
      ]
     },
     "execution_count": 37,
     "metadata": {},
     "output_type": "execute_result"
    }
   ],
   "source": [
    "df.head()"
   ]
  },
  {
   "cell_type": "markdown",
   "metadata": {},
   "source": [
    "# 5 - Analysis"
   ]
  },
  {
   "cell_type": "markdown",
   "metadata": {},
   "source": [
    "## 5.1 How many times is each composer represented?"
   ]
  },
  {
   "cell_type": "code",
   "execution_count": 38,
   "metadata": {},
   "outputs": [
    {
     "data": {
      "image/png": "[encoded data removed]",
      "text/plain": [
       "<Figure size 432x288 with 1 Axes>"
      ]
     },
     "metadata": {
      "needs_background": "light"
     },
     "output_type": "display_data"
    }
   ],
   "source": [
    "composer_counts = df['composerName'].value_counts()\n",
    "ax = composer_counts[:20].plot.bar()\n",
    "ax.set_ylabel('Number of works performed');"
   ]
  },
  {
   "cell_type": "markdown",
   "metadata": {},
   "source": [
    "Not unexpectedly, we see the works of a few of the most famous composers performed with a much greater frequency than the rest. After the \"top 5\", the frequency of performance is relatively constant for a large group of composers that are still very well-known.\n",
    "\n",
    "What about the lesser-known composers? We see from the below that approximately 1/3 of all composers have had works performed only once, and 1/2 of all composers have had works performed at most twice."
   ]
  },
  {
   "cell_type": "code",
   "execution_count": 39,
   "metadata": {},
   "outputs": [
    {
     "data": {
      "text/plain": [
       "1    0.340669\n",
       "2    0.162852\n",
       "3    0.096391\n",
       "4    0.084947\n",
       "5    0.031250\n",
       "Name: composerName, dtype: float64"
      ]
     },
     "execution_count": 39,
     "metadata": {},
     "output_type": "execute_result"
    }
   ],
   "source": [
    "composer_counts.value_counts(normalize=True).head()"
   ]
  },
  {
   "cell_type": "markdown",
   "metadata": {},
   "source": [
    "The log-scale histogram of the number of composers versus number of performances of works by each composer shows an exponential relationship. However, we can start to see groups forming based on popularity."
   ]
  },
  {
   "cell_type": "code",
   "execution_count": 40,
   "metadata": {},
   "outputs": [
    {
     "data": {
      "image/png": "[encoded data removed]",
      "text/plain": [
       "<Figure size 432x288 with 1 Axes>"
      ]
     },
     "metadata": {
      "needs_background": "light"
     },
     "output_type": "display_data"
    }
   ],
   "source": [
    "ax = np.log(composer_counts).hist(bins=30, log=True)\n",
    "ax.set_xlabel('Number of performances per composer')\n",
    "ax.set_ylabel('Number of composers')\n",
    "xticks = [1, 10, 100, 1000, 10000]\n",
    "ax.set_xticks([np.log(tick) for tick in xticks])\n",
    "ax.set_xticklabels(xticks);"
   ]
  },
  {
   "cell_type": "markdown",
   "metadata": {},
   "source": [
    "Let's assign a numerical value to each composer that gives some measure of their popularity. We can make this proportional to the log-scaled number of performances each composer was represented in. To account for some composers having fewer performances simply because they were born later, let's divide this by the number of years since the first performance for each composer. The column `composer_popularity` contains this defined metric."
   ]
  },
  {
   "cell_type": "code",
   "execution_count": 41,
   "metadata": {
    "scrolled": true
   },
   "outputs": [],
   "source": [
    "# Find first performances - Sort by date, drop duplicates (which keeps first occurence)\n",
    "first_performances = df.sort_values(by='DateTime').drop_duplicates(subset=['composerName'])\n",
    "years = 2022 - first_performances['DateTime'].dt.year\n",
    "years = pd.Series(years.values, index=first_performances['composerName'])"
   ]
  },
  {
   "cell_type": "code",
   "execution_count": 42,
   "metadata": {},
   "outputs": [
    {
     "data": {
      "text/plain": [
       "<matplotlib.axes._subplots.AxesSubplot at 0x25a2897cf88>"
      ]
     },
     "execution_count": 42,
     "metadata": {},
     "output_type": "execute_result"
    },
    {
     "data": {
      "image/png": "[encoded data removed]",
      "text/plain": [
       "<Figure size 432x288 with 1 Axes>"
      ]
     },
     "metadata": {
      "needs_background": "light"
     },
     "output_type": "display_data"
    }
   ],
   "source": [
    "np.log(years).plot.hist()"
   ]
  },
  {
   "cell_type": "code",
   "execution_count": 44,
   "metadata": {},
   "outputs": [
    {
     "data": {
      "text/html": [
       "<div>\n",
       "<style scoped>\n",
       "    .dataframe tbody tr th:only-of-type {\n",
       "        vertical-align: middle;\n",
       "    }\n",
       "\n",
       "    .dataframe tbody tr th {\n",
       "        vertical-align: top;\n",
       "    }\n",
       "\n",
       "    .dataframe thead th {\n",
       "        text-align: right;\n",
       "    }\n",
       "</style>\n",
       "<table border=\"1\" class=\"dataframe\">\n",
       "  <thead>\n",
       "    <tr style=\"text-align: right;\">\n",
       "      <th></th>\n",
       "      <th>program_guid</th>\n",
       "      <th>program_id</th>\n",
       "      <th>work_id</th>\n",
       "      <th>composerName</th>\n",
       "      <th>composer_popularity</th>\n",
       "      <th>workTitle</th>\n",
       "      <th>num_movements</th>\n",
       "      <th>orchestra</th>\n",
       "      <th>conductorName</th>\n",
       "      <th>season</th>\n",
       "      <th>eventType</th>\n",
       "      <th>Location</th>\n",
       "      <th>Venue</th>\n",
       "      <th>DateTime</th>\n",
       "    </tr>\n",
       "  </thead>\n",
       "  <tbody>\n",
       "    <tr>\n",
       "      <th>0</th>\n",
       "      <td>00646b9f-fec7-4ffb-9fb1-faae410bd9dc-0.1</td>\n",
       "      <td>3853</td>\n",
       "      <td>52446</td>\n",
       "      <td>Beethoven,  Ludwig  van</td>\n",
       "      <td>1.676851</td>\n",
       "      <td>SYMPHONY NO. 5 IN C MINOR, OP.67</td>\n",
       "      <td>1</td>\n",
       "      <td>New York Philharmonic</td>\n",
       "      <td>Hill, Ureli Corelli</td>\n",
       "      <td>1842-43</td>\n",
       "      <td>Subscription Season</td>\n",
       "      <td>Manhattan, NY</td>\n",
       "      <td>Apollo Rooms</td>\n",
       "      <td>1842-12-07 20:00:00</td>\n",
       "    </tr>\n",
       "    <tr>\n",
       "      <th>1</th>\n",
       "      <td>00646b9f-fec7-4ffb-9fb1-faae410bd9dc-0.1</td>\n",
       "      <td>3853</td>\n",
       "      <td>8834</td>\n",
       "      <td>Weber,  Carl  Maria Von</td>\n",
       "      <td>1.356123</td>\n",
       "      <td>OBERON</td>\n",
       "      <td>2</td>\n",
       "      <td>New York Philharmonic</td>\n",
       "      <td>Timm, Henry C.</td>\n",
       "      <td>1842-43</td>\n",
       "      <td>Subscription Season</td>\n",
       "      <td>Manhattan, NY</td>\n",
       "      <td>Apollo Rooms</td>\n",
       "      <td>1842-12-07 20:00:00</td>\n",
       "    </tr>\n",
       "    <tr>\n",
       "      <th>5</th>\n",
       "      <td>00646b9f-fec7-4ffb-9fb1-faae410bd9dc-0.1</td>\n",
       "      <td>3853</td>\n",
       "      <td>8835</td>\n",
       "      <td>Rossini,  Gioachino</td>\n",
       "      <td>1.249030</td>\n",
       "      <td>ARMIDA</td>\n",
       "      <td>1</td>\n",
       "      <td>New York Philharmonic</td>\n",
       "      <td>Timm, Henry C.</td>\n",
       "      <td>1842-43</td>\n",
       "      <td>Subscription Season</td>\n",
       "      <td>Manhattan, NY</td>\n",
       "      <td>Apollo Rooms</td>\n",
       "      <td>1842-12-07 20:00:00</td>\n",
       "    </tr>\n",
       "    <tr>\n",
       "      <th>6</th>\n",
       "      <td>00646b9f-fec7-4ffb-9fb1-faae410bd9dc-0.1</td>\n",
       "      <td>3853</td>\n",
       "      <td>8837</td>\n",
       "      <td>Beethoven,  Ludwig  van</td>\n",
       "      <td>1.676851</td>\n",
       "      <td>FIDELIO, OP. 72</td>\n",
       "      <td>1</td>\n",
       "      <td>New York Philharmonic</td>\n",
       "      <td>Timm, Henry C.</td>\n",
       "      <td>1842-43</td>\n",
       "      <td>Subscription Season</td>\n",
       "      <td>Manhattan, NY</td>\n",
       "      <td>Apollo Rooms</td>\n",
       "      <td>1842-12-07 20:00:00</td>\n",
       "    </tr>\n",
       "    <tr>\n",
       "      <th>7</th>\n",
       "      <td>00646b9f-fec7-4ffb-9fb1-faae410bd9dc-0.1</td>\n",
       "      <td>3853</td>\n",
       "      <td>8336</td>\n",
       "      <td>Mozart,  Wolfgang  Amadeus</td>\n",
       "      <td>1.594311</td>\n",
       "      <td>ABDUCTION FROM THE SERAGLIO,THE, K.384</td>\n",
       "      <td>1</td>\n",
       "      <td>New York Philharmonic</td>\n",
       "      <td>Timm, Henry C.</td>\n",
       "      <td>1842-43</td>\n",
       "      <td>Subscription Season</td>\n",
       "      <td>Manhattan, NY</td>\n",
       "      <td>Apollo Rooms</td>\n",
       "      <td>1842-12-07 20:00:00</td>\n",
       "    </tr>\n",
       "  </tbody>\n",
       "</table>\n",
       "</div>"
      ],
      "text/plain": [
       "                               program_guid  program_id  work_id  \\\n",
       "0  00646b9f-fec7-4ffb-9fb1-faae410bd9dc-0.1        3853    52446   \n",
       "1  00646b9f-fec7-4ffb-9fb1-faae410bd9dc-0.1        3853     8834   \n",
       "5  00646b9f-fec7-4ffb-9fb1-faae410bd9dc-0.1        3853     8835   \n",
       "6  00646b9f-fec7-4ffb-9fb1-faae410bd9dc-0.1        3853     8837   \n",
       "7  00646b9f-fec7-4ffb-9fb1-faae410bd9dc-0.1        3853     8336   \n",
       "\n",
       "                 composerName  composer_popularity  \\\n",
       "0     Beethoven,  Ludwig  van             1.676851   \n",
       "1     Weber,  Carl  Maria Von             1.356123   \n",
       "5         Rossini,  Gioachino             1.249030   \n",
       "6     Beethoven,  Ludwig  van             1.676851   \n",
       "7  Mozart,  Wolfgang  Amadeus             1.594311   \n",
       "\n",
       "                                workTitle  num_movements  \\\n",
       "0        SYMPHONY NO. 5 IN C MINOR, OP.67              1   \n",
       "1                                  OBERON              2   \n",
       "5                                  ARMIDA              1   \n",
       "6                         FIDELIO, OP. 72              1   \n",
       "7  ABDUCTION FROM THE SERAGLIO,THE, K.384              1   \n",
       "\n",
       "               orchestra        conductorName   season            eventType  \\\n",
       "0  New York Philharmonic  Hill, Ureli Corelli  1842-43  Subscription Season   \n",
       "1  New York Philharmonic       Timm, Henry C.  1842-43  Subscription Season   \n",
       "5  New York Philharmonic       Timm, Henry C.  1842-43  Subscription Season   \n",
       "6  New York Philharmonic       Timm, Henry C.  1842-43  Subscription Season   \n",
       "7  New York Philharmonic       Timm, Henry C.  1842-43  Subscription Season   \n",
       "\n",
       "        Location         Venue            DateTime  \n",
       "0  Manhattan, NY  Apollo Rooms 1842-12-07 20:00:00  \n",
       "1  Manhattan, NY  Apollo Rooms 1842-12-07 20:00:00  \n",
       "5  Manhattan, NY  Apollo Rooms 1842-12-07 20:00:00  \n",
       "6  Manhattan, NY  Apollo Rooms 1842-12-07 20:00:00  \n",
       "7  Manhattan, NY  Apollo Rooms 1842-12-07 20:00:00  "
      ]
     },
     "execution_count": 44,
     "metadata": {},
     "output_type": "execute_result"
    }
   ],
   "source": [
    "# df.drop(columns='composer_popularity', inplace=True)\n",
    "df.insert(4, 'composer_popularity', \\\n",
    "          np.log(composer_counts[df['composerName']]).values / \\\n",
    "          np.log(years[df['composerName']]).values)\n",
    "df.head()"
   ]
  },
  {
   "cell_type": "markdown",
   "metadata": {},
   "source": [
    "## 5.2 - How adventurous is a each performance?\n",
    "We are interested in figuring out how lesser-known composers are included in programs. Are their pieces typically performed alongside more famous pieces, or are there full programs of these types of works? More generally, are works from similarly popular composers typically performed together?\n",
    "\n",
    "Below, we plot a histogram of the standard deviation of the composer popularity for all works from a single performance. We notice a large peak near zero, suggesting that similarly popular composers are indeed performed together."
   ]
  },
  {
   "cell_type": "code",
   "execution_count": 45,
   "metadata": {},
   "outputs": [
    {
     "data": {
      "text/plain": [
       "Text(0, 0.5, 'Number of performances')"
      ]
     },
     "execution_count": 45,
     "metadata": {},
     "output_type": "execute_result"
    },
    {
     "data": {
      "image/png": "[encoded data removed]",
      "text/plain": [
       "<Figure size 432x288 with 1 Axes>"
      ]
     },
     "metadata": {
      "needs_background": "light"
     },
     "output_type": "display_data"
    }
   ],
   "source": [
    "grouped = df.groupby(['program_id', 'DateTime'])['composer_popularity']\n",
    "ax = grouped.std().hist(bins=30)\n",
    "ax.set_xlabel('Standard deviation of composer popularity')\n",
    "ax.set_ylabel('Number of performances')"
   ]
  },
  {
   "cell_type": "markdown",
   "metadata": {},
   "source": [
    "To get to the heart of our question, let's define a metric using the mean popularity across composers represented in a program. An \"adventurous\" program (e.g. a program full of works by up-and-coming composers) will have a low value for this metric, while a \"safe\" program (e.g. and all-Beethoven program) will have a high value. For lack of a better term, we will call this the `safety` (high values for a tried-and-true popular program)."
   ]
  },
  {
   "cell_type": "code",
   "execution_count": 46,
   "metadata": {},
   "outputs": [],
   "source": [
    "# df.drop(columns='safety', inplace=True)\n",
    "df.insert(5, 'safety', grouped.transform('mean'))"
   ]
  },
  {
   "cell_type": "code",
   "execution_count": 47,
   "metadata": {},
   "outputs": [
    {
     "data": {
      "image/png": "[encoded data removed]",
      "text/plain": [
       "<Figure size 432x288 with 1 Axes>"
      ]
     },
     "metadata": {
      "needs_background": "light"
     },
     "output_type": "display_data"
    }
   ],
   "source": [
    "ax = df['safety'].hist(bins=30)\n",
    "ax.set_xlabel('Non-adventurousness of repertoire')\n",
    "ax.set_ylabel('Number of concerts');"
   ]
  },
  {
   "cell_type": "markdown",
   "metadata": {},
   "source": [
    "## 5.3 - Does the level of adventurous programming change while the orchestra is on tour?"
   ]
  },
  {
   "cell_type": "markdown",
   "metadata": {},
   "source": [
    "Does the popularity of composers represented on a program differ when the orchestra is on tour? We will define \"on tour\" as performances given outside the NYC boroughs.\n",
    "\n",
    "We obtain subsets of the data for each group of performances and compare the histograms."
   ]
  },
  {
   "cell_type": "code",
   "execution_count": 48,
   "metadata": {},
   "outputs": [
    {
     "data": {
      "image/png": "[encoded data removed]",
      "text/plain": [
       "<Figure size 432x288 with 1 Axes>"
      ]
     },
     "metadata": {
      "needs_background": "light"
     },
     "output_type": "display_data"
    }
   ],
   "source": [
    "boroughs = ['Manhattan, NY', 'Brooklyn, NY', 'Queens, NY', 'Bronx, NY', 'Staten Island, NY']\n",
    "df_nyc = df[df['Location'].isin(boroughs)]\n",
    "df_tour = df.drop(df_nyc.index)\n",
    "\n",
    "grouped_nyc = df_nyc.groupby(['program_id', 'DateTime'])\n",
    "grouped_tour = df_tour.groupby(['program_id', 'DateTime'])\n",
    "\n",
    "safety_nyc = grouped_nyc['composer_popularity'].mean()\n",
    "safety_tour = grouped_tour['composer_popularity'].mean()\n",
    "\n",
    "fig, ax = plt.subplots()\n",
    "ax.hist(safety_nyc, bins=30, alpha=0.7, density=True, label='NYC')\n",
    "ax.hist(safety_tour, bins=30, alpha=0.7, density=True, label='On tour')\n",
    "ax.set_xlabel('Non-adventurousness of repertoire')\n",
    "ax.set_ylabel('Proportion of concerts');\n",
    "ax.legend(loc='best')\n",
    "fig.savefig('Adventurousness_on_tour.pdf', bbox_inches='tight')"
   ]
  },
  {
   "cell_type": "markdown",
   "metadata": {},
   "source": [
    "Although the average program is just as adventurous on tour as for performances in the NYC area, the variation of program content on tour appears to be lower than that in NYC.\n",
    "\n",
    "Also, there is a marked decrease in the proportion of highly non-adventurous programs (the last bin in the histogram) while on tour. These are likely programs comprised only of works by one composer (e.g. all-Beethoven). As a final check, we will see if there is a difference in the relative frequency of programs with only one composer represented."
   ]
  },
  {
   "cell_type": "code",
   "execution_count": 49,
   "metadata": {},
   "outputs": [],
   "source": [
    "def n_composers(x, n):\n",
    "    return x.nunique() == n\n",
    "\n",
    "num_composers = np.arange(1, 5)\n",
    "\n",
    "prop_with_num_nyc = np.zeros(5)\n",
    "prop_with_num_tour = np.zeros(5)\n",
    "\n",
    "for i, n in enumerate(num_composers):\n",
    "    prop_with_num_nyc[i] = grouped_nyc['composerName'].transform(n_composers, n).sum() / len(df_nyc)\n",
    "    prop_with_num_tour[i] = grouped_tour['composerName'].transform(n_composers, n).sum() / len(df_tour)\n",
    "    \n",
    "# \"5+\" \n",
    "prop_with_num_nyc[4] = 1 - prop_with_num_nyc.sum()\n",
    "prop_with_num_tour[4] = 1 - prop_with_num_tour.sum()"
   ]
  },
  {
   "cell_type": "code",
   "execution_count": 50,
   "metadata": {},
   "outputs": [
    {
     "data": {
      "image/png": "[encoded data removed]",
      "text/plain": [
       "<Figure size 432x288 with 1 Axes>"
      ]
     },
     "metadata": {
      "needs_background": "light"
     },
     "output_type": "display_data"
    }
   ],
   "source": [
    "df_one_composer = pd.DataFrame({'NYC': prop_with_num_nyc, 'On tour': prop_with_num_tour})\n",
    "ax = df_one_composer.plot.bar(rot=0)\n",
    "ax.set_xticklabels([1, 2, 3, 4, '5+'])\n",
    "ax.set_xlabel('Number of composers per program')\n",
    "ax.set_ylabel('Proportion of single-composer concerts')\n",
    "ax.figure.savefig('Number_of_composers.pdf', bbox_inches='tight')"
   ]
  },
  {
   "cell_type": "markdown",
   "metadata": {},
   "source": [
    "We see not only that single-composer concerts are far less common on tour, but that approximately half of all on-tour concerts feature 5 or more composers."
   ]
  },
  {
   "cell_type": "markdown",
   "metadata": {},
   "source": [
    "## 5.4 Mean program safety per season"
   ]
  },
  {
   "cell_type": "markdown",
   "metadata": {},
   "source": [
    "Have seasons been getting more adventurous over time? Here we will calculate the `safety` metric per program, and then the average of the mean safety for each program per calendar year."
   ]
  },
  {
   "cell_type": "code",
   "execution_count": 51,
   "metadata": {},
   "outputs": [
    {
     "data": {
      "image/png": "[encoded data removed]",
      "text/plain": [
       "<Figure size 432x288 with 1 Axes>"
      ]
     },
     "metadata": {
      "needs_background": "light"
     },
     "output_type": "display_data"
    }
   ],
   "source": [
    "# Select Subscription only\n",
    "df_sub = df[df['eventType'] == 'Subscription Season']\n",
    "ax = df_sub['safety'].hist(bins=30)\n",
    "ax.set_xlabel('Non-adventurousness of repertoire')\n",
    "ax.set_ylabel('Number of concerts');"
   ]
  },
  {
   "cell_type": "code",
   "execution_count": 52,
   "metadata": {},
   "outputs": [],
   "source": [
    "safety_per_year = df_sub.groupby(df_sub['DateTime'].dt.year)['safety'].mean()"
   ]
  },
  {
   "cell_type": "code",
   "execution_count": 53,
   "metadata": {},
   "outputs": [
    {
     "data": {
      "image/png": "[encoded data removed]",
      "text/plain": [
       "<Figure size 432x288 with 1 Axes>"
      ]
     },
     "metadata": {
      "needs_background": "light"
     },
     "output_type": "display_data"
    }
   ],
   "source": [
    "ax = safety_per_year.plot()"
   ]
  },
  {
   "cell_type": "code",
   "execution_count": 54,
   "metadata": {},
   "outputs": [],
   "source": [
    "df_1850 = df[df.DateTime.dt.year == 1850]"
   ]
  },
  {
   "cell_type": "code",
   "execution_count": 55,
   "metadata": {},
   "outputs": [
    {
     "data": {
      "text/html": [
       "<div>\n",
       "<style scoped>\n",
       "    .dataframe tbody tr th:only-of-type {\n",
       "        vertical-align: middle;\n",
       "    }\n",
       "\n",
       "    .dataframe tbody tr th {\n",
       "        vertical-align: top;\n",
       "    }\n",
       "\n",
       "    .dataframe thead th {\n",
       "        text-align: right;\n",
       "    }\n",
       "</style>\n",
       "<table border=\"1\" class=\"dataframe\">\n",
       "  <thead>\n",
       "    <tr style=\"text-align: right;\">\n",
       "      <th></th>\n",
       "      <th>program_guid</th>\n",
       "      <th>program_id</th>\n",
       "      <th>work_id</th>\n",
       "      <th>composerName</th>\n",
       "      <th>composer_popularity</th>\n",
       "      <th>safety</th>\n",
       "      <th>workTitle</th>\n",
       "      <th>num_movements</th>\n",
       "      <th>orchestra</th>\n",
       "      <th>conductorName</th>\n",
       "      <th>season</th>\n",
       "      <th>eventType</th>\n",
       "      <th>Location</th>\n",
       "      <th>Venue</th>\n",
       "      <th>DateTime</th>\n",
       "    </tr>\n",
       "  </thead>\n",
       "  <tbody>\n",
       "    <tr>\n",
       "      <th>229</th>\n",
       "      <td>a8c32fe1-b352-4df7-b850-de41e85a7e9f-0.1</td>\n",
       "      <td>571</td>\n",
       "      <td>3864</td>\n",
       "      <td>Spohr,  Louis</td>\n",
       "      <td>0.775988</td>\n",
       "      <td>1.101344</td>\n",
       "      <td>SYMPHONY NO. 4, OP. 86 (DIE WEIHE DER TONE)</td>\n",
       "      <td>1</td>\n",
       "      <td>New York Philharmonic</td>\n",
       "      <td>Loder, George</td>\n",
       "      <td>1849-50</td>\n",
       "      <td>Subscription Season</td>\n",
       "      <td>Manhattan, NY</td>\n",
       "      <td>Apollo Rooms</td>\n",
       "      <td>1850-01-12 20:00:00</td>\n",
       "    </tr>\n",
       "    <tr>\n",
       "      <th>230</th>\n",
       "      <td>a8c32fe1-b352-4df7-b850-de41e85a7e9f-0.1</td>\n",
       "      <td>571</td>\n",
       "      <td>52487</td>\n",
       "      <td>Mendelssohn,  Felix</td>\n",
       "      <td>1.427597</td>\n",
       "      <td>1.101344</td>\n",
       "      <td>CAPRICCIO BRILLANTE IN B MINOR, OP.22</td>\n",
       "      <td>1</td>\n",
       "      <td>New York Philharmonic</td>\n",
       "      <td>Loder, George</td>\n",
       "      <td>1849-50</td>\n",
       "      <td>Subscription Season</td>\n",
       "      <td>Manhattan, NY</td>\n",
       "      <td>Apollo Rooms</td>\n",
       "      <td>1850-01-12 20:00:00</td>\n",
       "    </tr>\n",
       "    <tr>\n",
       "      <th>232</th>\n",
       "      <td>a8c32fe1-b352-4df7-b850-de41e85a7e9f-0.1</td>\n",
       "      <td>571</td>\n",
       "      <td>52482</td>\n",
       "      <td>Mendelssohn,  Felix</td>\n",
       "      <td>1.427597</td>\n",
       "      <td>1.101344</td>\n",
       "      <td>CALM SEA AND PROSPEROUS VOYAGE</td>\n",
       "      <td>1</td>\n",
       "      <td>New York Philharmonic</td>\n",
       "      <td>Loder, George</td>\n",
       "      <td>1849-50</td>\n",
       "      <td>Subscription Season</td>\n",
       "      <td>Manhattan, NY</td>\n",
       "      <td>Apollo Rooms</td>\n",
       "      <td>1850-01-12 20:00:00</td>\n",
       "    </tr>\n",
       "    <tr>\n",
       "      <th>234</th>\n",
       "      <td>a8c32fe1-b352-4df7-b850-de41e85a7e9f-0.1</td>\n",
       "      <td>571</td>\n",
       "      <td>53159</td>\n",
       "      <td>Meyerbeer,  Giacomo</td>\n",
       "      <td>0.774192</td>\n",
       "      <td>1.101344</td>\n",
       "      <td>HUGUENOTS, LES</td>\n",
       "      <td>1</td>\n",
       "      <td>New York Philharmonic</td>\n",
       "      <td>Loder, George</td>\n",
       "      <td>1849-50</td>\n",
       "      <td>Subscription Season</td>\n",
       "      <td>Manhattan, NY</td>\n",
       "      <td>Apollo Rooms</td>\n",
       "      <td>1850-01-12 20:00:00</td>\n",
       "    </tr>\n",
       "    <tr>\n",
       "      <th>235</th>\n",
       "      <td>6a02edea-44a4-48b1-80fd-f589ec2e1a35-0.1</td>\n",
       "      <td>1907</td>\n",
       "      <td>52453</td>\n",
       "      <td>Beethoven,  Ludwig  van</td>\n",
       "      <td>1.676851</td>\n",
       "      <td>1.552224</td>\n",
       "      <td>SYMPHONY NO. 7 IN A MAJOR, OP.92</td>\n",
       "      <td>1</td>\n",
       "      <td>New York Philharmonic</td>\n",
       "      <td>Eisfeld, Theodore</td>\n",
       "      <td>1849-50</td>\n",
       "      <td>Subscription Season</td>\n",
       "      <td>Manhattan, NY</td>\n",
       "      <td>Apollo Rooms</td>\n",
       "      <td>1850-03-02 20:00:00</td>\n",
       "    </tr>\n",
       "    <tr>\n",
       "      <th>237</th>\n",
       "      <td>6a02edea-44a4-48b1-80fd-f589ec2e1a35-0.1</td>\n",
       "      <td>1907</td>\n",
       "      <td>5801</td>\n",
       "      <td>Mendelssohn,  Felix</td>\n",
       "      <td>1.427597</td>\n",
       "      <td>1.552224</td>\n",
       "      <td>MIDSUMMER NIGHT'S DREAM, OP. 61</td>\n",
       "      <td>9</td>\n",
       "      <td>New York Philharmonic</td>\n",
       "      <td>Eisfeld, Theodore</td>\n",
       "      <td>1849-50</td>\n",
       "      <td>Subscription Season</td>\n",
       "      <td>Manhattan, NY</td>\n",
       "      <td>Apollo Rooms</td>\n",
       "      <td>1850-03-02 20:00:00</td>\n",
       "    </tr>\n",
       "    <tr>\n",
       "      <th>246</th>\n",
       "      <td>e7a61af6-4337-406c-b69e-97ef804d71a5-0.1</td>\n",
       "      <td>6269</td>\n",
       "      <td>52575</td>\n",
       "      <td>Mendelssohn,  Felix</td>\n",
       "      <td>1.427597</td>\n",
       "      <td>0.940379</td>\n",
       "      <td>SYMPHONY NO. 3, A MINOR, OP.56 (SCOTTISH)</td>\n",
       "      <td>1</td>\n",
       "      <td>New York Philharmonic</td>\n",
       "      <td>Eisfeld, Theodore</td>\n",
       "      <td>1849-50</td>\n",
       "      <td>Subscription Season</td>\n",
       "      <td>Manhattan, NY</td>\n",
       "      <td>Apollo Rooms</td>\n",
       "      <td>1850-04-20 20:00:00</td>\n",
       "    </tr>\n",
       "    <tr>\n",
       "      <th>248</th>\n",
       "      <td>e7a61af6-4337-406c-b69e-97ef804d71a5-0.1</td>\n",
       "      <td>6269</td>\n",
       "      <td>9187</td>\n",
       "      <td>Weber,  Carl  Maria Von</td>\n",
       "      <td>1.356123</td>\n",
       "      <td>0.940379</td>\n",
       "      <td>EURYANTHE, OP. 81, J. 291</td>\n",
       "      <td>1</td>\n",
       "      <td>New York Philharmonic</td>\n",
       "      <td>Eisfeld, Theodore</td>\n",
       "      <td>1849-50</td>\n",
       "      <td>Subscription Season</td>\n",
       "      <td>Manhattan, NY</td>\n",
       "      <td>Apollo Rooms</td>\n",
       "      <td>1850-04-20 20:00:00</td>\n",
       "    </tr>\n",
       "    <tr>\n",
       "      <th>249</th>\n",
       "      <td>e7a61af6-4337-406c-b69e-97ef804d71a5-0.1</td>\n",
       "      <td>6269</td>\n",
       "      <td>3784</td>\n",
       "      <td>Hummel,  Johann</td>\n",
       "      <td>0.534487</td>\n",
       "      <td>0.940379</td>\n",
       "      <td>GRAND PIANO FANTASIA (OBERON'S ZAUBERHORN)</td>\n",
       "      <td>1</td>\n",
       "      <td>New York Philharmonic</td>\n",
       "      <td>Eisfeld, Theodore</td>\n",
       "      <td>1849-50</td>\n",
       "      <td>Subscription Season</td>\n",
       "      <td>Manhattan, NY</td>\n",
       "      <td>Apollo Rooms</td>\n",
       "      <td>1850-04-20 20:00:00</td>\n",
       "    </tr>\n",
       "    <tr>\n",
       "      <th>250</th>\n",
       "      <td>e7a61af6-4337-406c-b69e-97ef804d71a5-0.1</td>\n",
       "      <td>6269</td>\n",
       "      <td>4026</td>\n",
       "      <td>Maurer,  Ludwig  Wilhelm</td>\n",
       "      <td>0.134657</td>\n",
       "      <td>0.940379</td>\n",
       "      <td>CONCERTANTE FOR FOUR VIOLINS</td>\n",
       "      <td>1</td>\n",
       "      <td>New York Philharmonic</td>\n",
       "      <td>Eisfeld, Theodore</td>\n",
       "      <td>1849-50</td>\n",
       "      <td>Subscription Season</td>\n",
       "      <td>Manhattan, NY</td>\n",
       "      <td>Apollo Rooms</td>\n",
       "      <td>1850-04-20 20:00:00</td>\n",
       "    </tr>\n",
       "    <tr>\n",
       "      <th>251</th>\n",
       "      <td>e7a61af6-4337-406c-b69e-97ef804d71a5-0.1</td>\n",
       "      <td>6269</td>\n",
       "      <td>3453</td>\n",
       "      <td>Rossini,  Gioachino</td>\n",
       "      <td>1.249030</td>\n",
       "      <td>0.940379</td>\n",
       "      <td>GAZZA LADRA, LA</td>\n",
       "      <td>1</td>\n",
       "      <td>New York Philharmonic</td>\n",
       "      <td>Eisfeld, Theodore</td>\n",
       "      <td>1849-50</td>\n",
       "      <td>Subscription Season</td>\n",
       "      <td>Manhattan, NY</td>\n",
       "      <td>Apollo Rooms</td>\n",
       "      <td>1850-04-20 20:00:00</td>\n",
       "    </tr>\n",
       "    <tr>\n",
       "      <th>252</th>\n",
       "      <td>eabb9fd1-ed1a-421b-b60a-73018f1096ba-0.1</td>\n",
       "      <td>792</td>\n",
       "      <td>923</td>\n",
       "      <td>Gade,  Niels</td>\n",
       "      <td>0.638845</td>\n",
       "      <td>0.320211</td>\n",
       "      <td>SYMPHONY NO. 1, C MINOR, OP. 5</td>\n",
       "      <td>1</td>\n",
       "      <td>New York Philharmonic</td>\n",
       "      <td>Loder, George</td>\n",
       "      <td>1850-51</td>\n",
       "      <td>Subscription Season</td>\n",
       "      <td>Manhattan, NY</td>\n",
       "      <td>Apollo Rooms</td>\n",
       "      <td>1850-11-23 20:00:00</td>\n",
       "    </tr>\n",
       "    <tr>\n",
       "      <th>254</th>\n",
       "      <td>eabb9fd1-ed1a-421b-b60a-73018f1096ba-0.1</td>\n",
       "      <td>792</td>\n",
       "      <td>3813</td>\n",
       "      <td>Loder,  George, Jr.</td>\n",
       "      <td>0.134058</td>\n",
       "      <td>0.320211</td>\n",
       "      <td>MARMION</td>\n",
       "      <td>1</td>\n",
       "      <td>New York Philharmonic</td>\n",
       "      <td>Loder, George</td>\n",
       "      <td>1850-51</td>\n",
       "      <td>Subscription Season</td>\n",
       "      <td>Manhattan, NY</td>\n",
       "      <td>Apollo Rooms</td>\n",
       "      <td>1850-11-23 20:00:00</td>\n",
       "    </tr>\n",
       "    <tr>\n",
       "      <th>255</th>\n",
       "      <td>eabb9fd1-ed1a-421b-b60a-73018f1096ba-0.1</td>\n",
       "      <td>792</td>\n",
       "      <td>4031</td>\n",
       "      <td>Benedict,  Jules</td>\n",
       "      <td>0.213427</td>\n",
       "      <td>0.320211</td>\n",
       "      <td>CONCERTINO, OP.29</td>\n",
       "      <td>1</td>\n",
       "      <td>New York Philharmonic</td>\n",
       "      <td>Loder, George</td>\n",
       "      <td>1850-51</td>\n",
       "      <td>Subscription Season</td>\n",
       "      <td>Manhattan, NY</td>\n",
       "      <td>Apollo Rooms</td>\n",
       "      <td>1850-11-23 20:00:00</td>\n",
       "    </tr>\n",
       "    <tr>\n",
       "      <th>256</th>\n",
       "      <td>eabb9fd1-ed1a-421b-b60a-73018f1096ba-0.1</td>\n",
       "      <td>792</td>\n",
       "      <td>4036</td>\n",
       "      <td>Fuchs,  H.</td>\n",
       "      <td>0.213427</td>\n",
       "      <td>0.320211</td>\n",
       "      <td>CONCERTINO FOR HORN AND ORCHESTRA</td>\n",
       "      <td>1</td>\n",
       "      <td>New York Philharmonic</td>\n",
       "      <td>Loder, George</td>\n",
       "      <td>1850-51</td>\n",
       "      <td>Subscription Season</td>\n",
       "      <td>Manhattan, NY</td>\n",
       "      <td>Apollo Rooms</td>\n",
       "      <td>1850-11-23 20:00:00</td>\n",
       "    </tr>\n",
       "    <tr>\n",
       "      <th>257</th>\n",
       "      <td>eabb9fd1-ed1a-421b-b60a-73018f1096ba-0.1</td>\n",
       "      <td>792</td>\n",
       "      <td>3926</td>\n",
       "      <td>Lindpaintner,  Peter  Von</td>\n",
       "      <td>0.401298</td>\n",
       "      <td>0.320211</td>\n",
       "      <td>VAMPYR, DER</td>\n",
       "      <td>1</td>\n",
       "      <td>New York Philharmonic</td>\n",
       "      <td>Loder, George</td>\n",
       "      <td>1850-51</td>\n",
       "      <td>Subscription Season</td>\n",
       "      <td>Manhattan, NY</td>\n",
       "      <td>Apollo Rooms</td>\n",
       "      <td>1850-11-23 20:00:00</td>\n",
       "    </tr>\n",
       "  </tbody>\n",
       "</table>\n",
       "</div>"
      ],
      "text/plain": [
       "                                 program_guid  program_id  work_id  \\\n",
       "229  a8c32fe1-b352-4df7-b850-de41e85a7e9f-0.1         571     3864   \n",
       "230  a8c32fe1-b352-4df7-b850-de41e85a7e9f-0.1         571    52487   \n",
       "232  a8c32fe1-b352-4df7-b850-de41e85a7e9f-0.1         571    52482   \n",
       "234  a8c32fe1-b352-4df7-b850-de41e85a7e9f-0.1         571    53159   \n",
       "235  6a02edea-44a4-48b1-80fd-f589ec2e1a35-0.1        1907    52453   \n",
       "237  6a02edea-44a4-48b1-80fd-f589ec2e1a35-0.1        1907     5801   \n",
       "246  e7a61af6-4337-406c-b69e-97ef804d71a5-0.1        6269    52575   \n",
       "248  e7a61af6-4337-406c-b69e-97ef804d71a5-0.1        6269     9187   \n",
       "249  e7a61af6-4337-406c-b69e-97ef804d71a5-0.1        6269     3784   \n",
       "250  e7a61af6-4337-406c-b69e-97ef804d71a5-0.1        6269     4026   \n",
       "251  e7a61af6-4337-406c-b69e-97ef804d71a5-0.1        6269     3453   \n",
       "252  eabb9fd1-ed1a-421b-b60a-73018f1096ba-0.1         792      923   \n",
       "254  eabb9fd1-ed1a-421b-b60a-73018f1096ba-0.1         792     3813   \n",
       "255  eabb9fd1-ed1a-421b-b60a-73018f1096ba-0.1         792     4031   \n",
       "256  eabb9fd1-ed1a-421b-b60a-73018f1096ba-0.1         792     4036   \n",
       "257  eabb9fd1-ed1a-421b-b60a-73018f1096ba-0.1         792     3926   \n",
       "\n",
       "                  composerName  composer_popularity    safety  \\\n",
       "229              Spohr,  Louis             0.775988  1.101344   \n",
       "230        Mendelssohn,  Felix             1.427597  1.101344   \n",
       "232        Mendelssohn,  Felix             1.427597  1.101344   \n",
       "234        Meyerbeer,  Giacomo             0.774192  1.101344   \n",
       "235    Beethoven,  Ludwig  van             1.676851  1.552224   \n",
       "237        Mendelssohn,  Felix             1.427597  1.552224   \n",
       "246        Mendelssohn,  Felix             1.427597  0.940379   \n",
       "248    Weber,  Carl  Maria Von             1.356123  0.940379   \n",
       "249            Hummel,  Johann             0.534487  0.940379   \n",
       "250   Maurer,  Ludwig  Wilhelm             0.134657  0.940379   \n",
       "251        Rossini,  Gioachino             1.249030  0.940379   \n",
       "252               Gade,  Niels             0.638845  0.320211   \n",
       "254        Loder,  George, Jr.             0.134058  0.320211   \n",
       "255           Benedict,  Jules             0.213427  0.320211   \n",
       "256                 Fuchs,  H.             0.213427  0.320211   \n",
       "257  Lindpaintner,  Peter  Von             0.401298  0.320211   \n",
       "\n",
       "                                       workTitle  num_movements  \\\n",
       "229  SYMPHONY NO. 4, OP. 86 (DIE WEIHE DER TONE)              1   \n",
       "230        CAPRICCIO BRILLANTE IN B MINOR, OP.22              1   \n",
       "232               CALM SEA AND PROSPEROUS VOYAGE              1   \n",
       "234                               HUGUENOTS, LES              1   \n",
       "235             SYMPHONY NO. 7 IN A MAJOR, OP.92              1   \n",
       "237              MIDSUMMER NIGHT'S DREAM, OP. 61              9   \n",
       "246    SYMPHONY NO. 3, A MINOR, OP.56 (SCOTTISH)              1   \n",
       "248                    EURYANTHE, OP. 81, J. 291              1   \n",
       "249   GRAND PIANO FANTASIA (OBERON'S ZAUBERHORN)              1   \n",
       "250                 CONCERTANTE FOR FOUR VIOLINS              1   \n",
       "251                              GAZZA LADRA, LA              1   \n",
       "252               SYMPHONY NO. 1, C MINOR, OP. 5              1   \n",
       "254                                      MARMION              1   \n",
       "255                            CONCERTINO, OP.29              1   \n",
       "256            CONCERTINO FOR HORN AND ORCHESTRA              1   \n",
       "257                                  VAMPYR, DER              1   \n",
       "\n",
       "                 orchestra      conductorName   season            eventType  \\\n",
       "229  New York Philharmonic      Loder, George  1849-50  Subscription Season   \n",
       "230  New York Philharmonic      Loder, George  1849-50  Subscription Season   \n",
       "232  New York Philharmonic      Loder, George  1849-50  Subscription Season   \n",
       "234  New York Philharmonic      Loder, George  1849-50  Subscription Season   \n",
       "235  New York Philharmonic  Eisfeld, Theodore  1849-50  Subscription Season   \n",
       "237  New York Philharmonic  Eisfeld, Theodore  1849-50  Subscription Season   \n",
       "246  New York Philharmonic  Eisfeld, Theodore  1849-50  Subscription Season   \n",
       "248  New York Philharmonic  Eisfeld, Theodore  1849-50  Subscription Season   \n",
       "249  New York Philharmonic  Eisfeld, Theodore  1849-50  Subscription Season   \n",
       "250  New York Philharmonic  Eisfeld, Theodore  1849-50  Subscription Season   \n",
       "251  New York Philharmonic  Eisfeld, Theodore  1849-50  Subscription Season   \n",
       "252  New York Philharmonic      Loder, George  1850-51  Subscription Season   \n",
       "254  New York Philharmonic      Loder, George  1850-51  Subscription Season   \n",
       "255  New York Philharmonic      Loder, George  1850-51  Subscription Season   \n",
       "256  New York Philharmonic      Loder, George  1850-51  Subscription Season   \n",
       "257  New York Philharmonic      Loder, George  1850-51  Subscription Season   \n",
       "\n",
       "          Location         Venue            DateTime  \n",
       "229  Manhattan, NY  Apollo Rooms 1850-01-12 20:00:00  \n",
       "230  Manhattan, NY  Apollo Rooms 1850-01-12 20:00:00  \n",
       "232  Manhattan, NY  Apollo Rooms 1850-01-12 20:00:00  \n",
       "234  Manhattan, NY  Apollo Rooms 1850-01-12 20:00:00  \n",
       "235  Manhattan, NY  Apollo Rooms 1850-03-02 20:00:00  \n",
       "237  Manhattan, NY  Apollo Rooms 1850-03-02 20:00:00  \n",
       "246  Manhattan, NY  Apollo Rooms 1850-04-20 20:00:00  \n",
       "248  Manhattan, NY  Apollo Rooms 1850-04-20 20:00:00  \n",
       "249  Manhattan, NY  Apollo Rooms 1850-04-20 20:00:00  \n",
       "250  Manhattan, NY  Apollo Rooms 1850-04-20 20:00:00  \n",
       "251  Manhattan, NY  Apollo Rooms 1850-04-20 20:00:00  \n",
       "252  Manhattan, NY  Apollo Rooms 1850-11-23 20:00:00  \n",
       "254  Manhattan, NY  Apollo Rooms 1850-11-23 20:00:00  \n",
       "255  Manhattan, NY  Apollo Rooms 1850-11-23 20:00:00  \n",
       "256  Manhattan, NY  Apollo Rooms 1850-11-23 20:00:00  \n",
       "257  Manhattan, NY  Apollo Rooms 1850-11-23 20:00:00  "
      ]
     },
     "execution_count": 55,
     "metadata": {},
     "output_type": "execute_result"
    }
   ],
   "source": [
    "df_1850"
   ]
  },
  {
   "cell_type": "markdown",
   "metadata": {},
   "source": [
    "# Future Work"
   ]
  },
  {
   "cell_type": "markdown",
   "metadata": {},
   "source": [
    "Although the musicians of the New York Philharmonic are undoubtedly in support of adventurous programming, they still need to earn a living. One might expect that \"safe\" performances with keystone works by famous composers are effective in drawing a larger audience than those featuring lesser-known composers. Moreover, new works outside the [public domain](https://en.wikipedia.org/wiki/Public_domain_music) may pose additional overhead costs for the performance, including rental and licensing fees.\n",
    "\n",
    "Given information about the ticket sales for each performance, it will be possible to draw conclusions about which types of performances draw larger audiences. We can then determine a balance of \"adventurous\" and \"safe\" programs that will most likely bring in enough revenue to secure fair pay for the musicians. A limited datset with information about subscriber ticket sales is available from the New York Philharmonic and a more complete one [may be available upon request](https://archives.nyphil.org/index.php/open-data)."
   ]
  },
  {
   "cell_type": "code",
   "execution_count": null,
   "metadata": {},
   "outputs": [],
   "source": []
  }
 ],
 "metadata": {
  "kernelspec": {
   "display_name": "Python 3",
   "language": "python",
   "name": "python3"
  },
  "language_info": {
   "codemirror_mode": {
    "name": "ipython",
    "version": 3
   },
   "file_extension": ".py",
   "mimetype": "text/x-python",
   "name": "python",
   "nbconvert_exporter": "python",
   "pygments_lexer": "ipython3",
   "version": "3.7.4"
  }
 },
 "nbformat": 4,
 "nbformat_minor": 2
}
