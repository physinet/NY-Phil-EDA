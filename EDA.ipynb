{
 "cells": [
  {
   "cell_type": "code",
   "execution_count": 1,
   "metadata": {},
   "outputs": [
    {
     "name": "stderr",
     "output_type": "stream",
     "text": [
      "C:\\Users\\Brian\\Anaconda3\\lib\\site-packages\\statsmodels\\tools\\_testing.py:19: FutureWarning: pandas.util.testing is deprecated. Use the functions in the public API at pandas.testing instead.\n",
      "  import pandas.util.testing as tm\n"
     ]
    }
   ],
   "source": [
    "import requests\n",
    "import pandas as pd\n",
    "import numpy as np\n",
    "import seaborn as sns\n",
    "sns.set()"
   ]
  },
  {
   "cell_type": "markdown",
   "metadata": {},
   "source": [
    "# 1 - Introduction"
   ]
  },
  {
   "cell_type": "code",
   "execution_count": null,
   "metadata": {},
   "outputs": [],
   "source": []
  },
  {
   "cell_type": "markdown",
   "metadata": {},
   "source": [
    "# 2 - Load dataset"
   ]
  },
  {
   "cell_type": "markdown",
   "metadata": {},
   "source": [
    "## 2.1 - Create dataframes from JSON"
   ]
  },
  {
   "cell_type": "markdown",
   "metadata": {},
   "source": [
    "The raw program data is available for download from the NY Philharmonic's official GitHub repository. The data is stored in `.json` format with a nested structure described at https://github.com/nyphilarchive/PerformanceHistory. The outermost key is `'programs'`."
   ]
  },
  {
   "cell_type": "code",
   "execution_count": 2,
   "metadata": {},
   "outputs": [],
   "source": [
    "url = 'https://raw.githubusercontent.com/nyphilarchive/PerformanceHistory/master/Programs/json/complete.json'\n",
    "\n",
    "r = requests.get(url)\n",
    "programs = r.json()['programs']"
   ]
  },
  {
   "cell_type": "markdown",
   "metadata": {},
   "source": [
    "Each program consists of a list of works that is performed at multiple concerts. Using `pd.json_normalize`, we can load the details for each work and concert into separate data frames. Additionally, each work has soloists listed, which can be separated into a third dataframe."
   ]
  },
  {
   "cell_type": "code",
   "execution_count": 3,
   "metadata": {},
   "outputs": [],
   "source": [
    "meta_cols = ['id', 'programID', 'orchestra', 'season']\n",
    "df_concerts = pd.json_normalize(data=programs, record_path='concerts',\n",
    "    meta=meta_cols)\n",
    "df_works = pd.json_normalize(data=programs, record_path='works',\n",
    "    meta=meta_cols)\n",
    "df_soloists = pd.json_normalize(data=programs, record_path=['works', 'soloists'],\n",
    "    meta=meta_cols)"
   ]
  },
  {
   "cell_type": "code",
   "execution_count": 4,
   "metadata": {
    "scrolled": false
   },
   "outputs": [
    {
     "data": {
      "text/html": [
       "<div>\n",
       "<style scoped>\n",
       "    .dataframe tbody tr th:only-of-type {\n",
       "        vertical-align: middle;\n",
       "    }\n",
       "\n",
       "    .dataframe tbody tr th {\n",
       "        vertical-align: top;\n",
       "    }\n",
       "\n",
       "    .dataframe thead th {\n",
       "        text-align: right;\n",
       "    }\n",
       "</style>\n",
       "<table border=\"1\" class=\"dataframe\">\n",
       "  <thead>\n",
       "    <tr style=\"text-align: right;\">\n",
       "      <th></th>\n",
       "      <th>ID</th>\n",
       "      <th>composerName</th>\n",
       "      <th>workTitle</th>\n",
       "      <th>conductorName</th>\n",
       "      <th>soloists</th>\n",
       "      <th>movement</th>\n",
       "      <th>interval</th>\n",
       "      <th>movement._</th>\n",
       "      <th>movement.em</th>\n",
       "      <th>workTitle._</th>\n",
       "      <th>workTitle.em</th>\n",
       "      <th>id</th>\n",
       "      <th>programID</th>\n",
       "      <th>orchestra</th>\n",
       "      <th>season</th>\n",
       "    </tr>\n",
       "  </thead>\n",
       "  <tbody>\n",
       "    <tr>\n",
       "      <th>0</th>\n",
       "      <td>52446*</td>\n",
       "      <td>Beethoven,  Ludwig  van</td>\n",
       "      <td>SYMPHONY NO. 5 IN C MINOR, OP.67</td>\n",
       "      <td>Hill, Ureli Corelli</td>\n",
       "      <td>[]</td>\n",
       "      <td>NaN</td>\n",
       "      <td>NaN</td>\n",
       "      <td>NaN</td>\n",
       "      <td>NaN</td>\n",
       "      <td>NaN</td>\n",
       "      <td>NaN</td>\n",
       "      <td>00646b9f-fec7-4ffb-9fb1-faae410bd9dc-0.1</td>\n",
       "      <td>3853</td>\n",
       "      <td>New York Philharmonic</td>\n",
       "      <td>1842-43</td>\n",
       "    </tr>\n",
       "    <tr>\n",
       "      <th>1</th>\n",
       "      <td>8834*4</td>\n",
       "      <td>Weber,  Carl  Maria Von</td>\n",
       "      <td>OBERON</td>\n",
       "      <td>Timm, Henry C.</td>\n",
       "      <td>[{'soloistName': 'Otto, Antoinette', 'soloistI...</td>\n",
       "      <td>\"Ozean, du Ungeheuer\" (Ocean, thou mighty mons...</td>\n",
       "      <td>NaN</td>\n",
       "      <td>NaN</td>\n",
       "      <td>NaN</td>\n",
       "      <td>NaN</td>\n",
       "      <td>NaN</td>\n",
       "      <td>00646b9f-fec7-4ffb-9fb1-faae410bd9dc-0.1</td>\n",
       "      <td>3853</td>\n",
       "      <td>New York Philharmonic</td>\n",
       "      <td>1842-43</td>\n",
       "    </tr>\n",
       "    <tr>\n",
       "      <th>2</th>\n",
       "      <td>3642*</td>\n",
       "      <td>Hummel,  Johann</td>\n",
       "      <td>QUINTET, PIANO, D MINOR, OP. 74</td>\n",
       "      <td>NaN</td>\n",
       "      <td>[{'soloistName': 'Scharfenberg, William', 'sol...</td>\n",
       "      <td>NaN</td>\n",
       "      <td>NaN</td>\n",
       "      <td>NaN</td>\n",
       "      <td>NaN</td>\n",
       "      <td>NaN</td>\n",
       "      <td>NaN</td>\n",
       "      <td>00646b9f-fec7-4ffb-9fb1-faae410bd9dc-0.1</td>\n",
       "      <td>3853</td>\n",
       "      <td>New York Philharmonic</td>\n",
       "      <td>1842-43</td>\n",
       "    </tr>\n",
       "    <tr>\n",
       "      <th>3</th>\n",
       "      <td>0*</td>\n",
       "      <td>NaN</td>\n",
       "      <td>NaN</td>\n",
       "      <td>NaN</td>\n",
       "      <td>[]</td>\n",
       "      <td>NaN</td>\n",
       "      <td>Intermission</td>\n",
       "      <td>NaN</td>\n",
       "      <td>NaN</td>\n",
       "      <td>NaN</td>\n",
       "      <td>NaN</td>\n",
       "      <td>00646b9f-fec7-4ffb-9fb1-faae410bd9dc-0.1</td>\n",
       "      <td>3853</td>\n",
       "      <td>New York Philharmonic</td>\n",
       "      <td>1842-43</td>\n",
       "    </tr>\n",
       "    <tr>\n",
       "      <th>4</th>\n",
       "      <td>8834*3</td>\n",
       "      <td>Weber,  Carl  Maria Von</td>\n",
       "      <td>OBERON</td>\n",
       "      <td>Etienne, Denis G.</td>\n",
       "      <td>[]</td>\n",
       "      <td>Overture</td>\n",
       "      <td>NaN</td>\n",
       "      <td>NaN</td>\n",
       "      <td>NaN</td>\n",
       "      <td>NaN</td>\n",
       "      <td>NaN</td>\n",
       "      <td>00646b9f-fec7-4ffb-9fb1-faae410bd9dc-0.1</td>\n",
       "      <td>3853</td>\n",
       "      <td>New York Philharmonic</td>\n",
       "      <td>1842-43</td>\n",
       "    </tr>\n",
       "  </tbody>\n",
       "</table>\n",
       "</div>"
      ],
      "text/plain": [
       "       ID             composerName                         workTitle  \\\n",
       "0  52446*  Beethoven,  Ludwig  van  SYMPHONY NO. 5 IN C MINOR, OP.67   \n",
       "1  8834*4  Weber,  Carl  Maria Von                            OBERON   \n",
       "2   3642*          Hummel,  Johann   QUINTET, PIANO, D MINOR, OP. 74   \n",
       "3      0*                      NaN                               NaN   \n",
       "4  8834*3  Weber,  Carl  Maria Von                            OBERON   \n",
       "\n",
       "         conductorName                                           soloists  \\\n",
       "0  Hill, Ureli Corelli                                                 []   \n",
       "1       Timm, Henry C.  [{'soloistName': 'Otto, Antoinette', 'soloistI...   \n",
       "2                  NaN  [{'soloistName': 'Scharfenberg, William', 'sol...   \n",
       "3                  NaN                                                 []   \n",
       "4    Etienne, Denis G.                                                 []   \n",
       "\n",
       "                                            movement      interval movement._  \\\n",
       "0                                                NaN           NaN        NaN   \n",
       "1  \"Ozean, du Ungeheuer\" (Ocean, thou mighty mons...           NaN        NaN   \n",
       "2                                                NaN           NaN        NaN   \n",
       "3                                                NaN  Intermission        NaN   \n",
       "4                                           Overture           NaN        NaN   \n",
       "\n",
       "  movement.em workTitle._ workTitle.em  \\\n",
       "0         NaN         NaN          NaN   \n",
       "1         NaN         NaN          NaN   \n",
       "2         NaN         NaN          NaN   \n",
       "3         NaN         NaN          NaN   \n",
       "4         NaN         NaN          NaN   \n",
       "\n",
       "                                         id programID              orchestra  \\\n",
       "0  00646b9f-fec7-4ffb-9fb1-faae410bd9dc-0.1      3853  New York Philharmonic   \n",
       "1  00646b9f-fec7-4ffb-9fb1-faae410bd9dc-0.1      3853  New York Philharmonic   \n",
       "2  00646b9f-fec7-4ffb-9fb1-faae410bd9dc-0.1      3853  New York Philharmonic   \n",
       "3  00646b9f-fec7-4ffb-9fb1-faae410bd9dc-0.1      3853  New York Philharmonic   \n",
       "4  00646b9f-fec7-4ffb-9fb1-faae410bd9dc-0.1      3853  New York Philharmonic   \n",
       "\n",
       "    season  \n",
       "0  1842-43  \n",
       "1  1842-43  \n",
       "2  1842-43  \n",
       "3  1842-43  \n",
       "4  1842-43  "
      ]
     },
     "execution_count": 4,
     "metadata": {},
     "output_type": "execute_result"
    }
   ],
   "source": [
    "df_works.head()"
   ]
  },
  {
   "cell_type": "code",
   "execution_count": 5,
   "metadata": {},
   "outputs": [
    {
     "data": {
      "text/html": [
       "<div>\n",
       "<style scoped>\n",
       "    .dataframe tbody tr th:only-of-type {\n",
       "        vertical-align: middle;\n",
       "    }\n",
       "\n",
       "    .dataframe tbody tr th {\n",
       "        vertical-align: top;\n",
       "    }\n",
       "\n",
       "    .dataframe thead th {\n",
       "        text-align: right;\n",
       "    }\n",
       "</style>\n",
       "<table border=\"1\" class=\"dataframe\">\n",
       "  <thead>\n",
       "    <tr style=\"text-align: right;\">\n",
       "      <th></th>\n",
       "      <th>soloistName</th>\n",
       "      <th>soloistInstrument</th>\n",
       "      <th>soloistRoles</th>\n",
       "      <th>id</th>\n",
       "      <th>programID</th>\n",
       "      <th>orchestra</th>\n",
       "      <th>season</th>\n",
       "    </tr>\n",
       "  </thead>\n",
       "  <tbody>\n",
       "    <tr>\n",
       "      <th>0</th>\n",
       "      <td>Otto, Antoinette</td>\n",
       "      <td>Soprano</td>\n",
       "      <td>S</td>\n",
       "      <td>00646b9f-fec7-4ffb-9fb1-faae410bd9dc-0.1</td>\n",
       "      <td>3853</td>\n",
       "      <td>New York Philharmonic</td>\n",
       "      <td>1842-43</td>\n",
       "    </tr>\n",
       "    <tr>\n",
       "      <th>1</th>\n",
       "      <td>Scharfenberg, William</td>\n",
       "      <td>Piano</td>\n",
       "      <td>A</td>\n",
       "      <td>00646b9f-fec7-4ffb-9fb1-faae410bd9dc-0.1</td>\n",
       "      <td>3853</td>\n",
       "      <td>New York Philharmonic</td>\n",
       "      <td>1842-43</td>\n",
       "    </tr>\n",
       "    <tr>\n",
       "      <th>2</th>\n",
       "      <td>Hill, Ureli Corelli</td>\n",
       "      <td>Violin</td>\n",
       "      <td>A</td>\n",
       "      <td>00646b9f-fec7-4ffb-9fb1-faae410bd9dc-0.1</td>\n",
       "      <td>3853</td>\n",
       "      <td>New York Philharmonic</td>\n",
       "      <td>1842-43</td>\n",
       "    </tr>\n",
       "    <tr>\n",
       "      <th>3</th>\n",
       "      <td>Derwort, G. H.</td>\n",
       "      <td>Viola</td>\n",
       "      <td>A</td>\n",
       "      <td>00646b9f-fec7-4ffb-9fb1-faae410bd9dc-0.1</td>\n",
       "      <td>3853</td>\n",
       "      <td>New York Philharmonic</td>\n",
       "      <td>1842-43</td>\n",
       "    </tr>\n",
       "    <tr>\n",
       "      <th>4</th>\n",
       "      <td>Boucher, Alfred</td>\n",
       "      <td>Cello</td>\n",
       "      <td>A</td>\n",
       "      <td>00646b9f-fec7-4ffb-9fb1-faae410bd9dc-0.1</td>\n",
       "      <td>3853</td>\n",
       "      <td>New York Philharmonic</td>\n",
       "      <td>1842-43</td>\n",
       "    </tr>\n",
       "  </tbody>\n",
       "</table>\n",
       "</div>"
      ],
      "text/plain": [
       "             soloistName soloistInstrument soloistRoles  \\\n",
       "0       Otto, Antoinette           Soprano            S   \n",
       "1  Scharfenberg, William             Piano            A   \n",
       "2    Hill, Ureli Corelli            Violin            A   \n",
       "3         Derwort, G. H.             Viola            A   \n",
       "4        Boucher, Alfred             Cello            A   \n",
       "\n",
       "                                         id programID              orchestra  \\\n",
       "0  00646b9f-fec7-4ffb-9fb1-faae410bd9dc-0.1      3853  New York Philharmonic   \n",
       "1  00646b9f-fec7-4ffb-9fb1-faae410bd9dc-0.1      3853  New York Philharmonic   \n",
       "2  00646b9f-fec7-4ffb-9fb1-faae410bd9dc-0.1      3853  New York Philharmonic   \n",
       "3  00646b9f-fec7-4ffb-9fb1-faae410bd9dc-0.1      3853  New York Philharmonic   \n",
       "4  00646b9f-fec7-4ffb-9fb1-faae410bd9dc-0.1      3853  New York Philharmonic   \n",
       "\n",
       "    season  \n",
       "0  1842-43  \n",
       "1  1842-43  \n",
       "2  1842-43  \n",
       "3  1842-43  \n",
       "4  1842-43  "
      ]
     },
     "execution_count": 5,
     "metadata": {},
     "output_type": "execute_result"
    }
   ],
   "source": [
    "df_soloists.head()"
   ]
  },
  {
   "cell_type": "markdown",
   "metadata": {},
   "source": [
    "We first outer merge the concert and works datasets to construct a single `DataFrame`."
   ]
  },
  {
   "cell_type": "code",
   "execution_count": 6,
   "metadata": {},
   "outputs": [],
   "source": [
    "df = pd.merge(df_works, df_concerts, 'outer', on=meta_cols)"
   ]
  },
  {
   "cell_type": "code",
   "execution_count": 7,
   "metadata": {},
   "outputs": [
    {
     "data": {
      "text/html": [
       "<div>\n",
       "<style scoped>\n",
       "    .dataframe tbody tr th:only-of-type {\n",
       "        vertical-align: middle;\n",
       "    }\n",
       "\n",
       "    .dataframe tbody tr th {\n",
       "        vertical-align: top;\n",
       "    }\n",
       "\n",
       "    .dataframe thead th {\n",
       "        text-align: right;\n",
       "    }\n",
       "</style>\n",
       "<table border=\"1\" class=\"dataframe\">\n",
       "  <thead>\n",
       "    <tr style=\"text-align: right;\">\n",
       "      <th></th>\n",
       "      <th>ID</th>\n",
       "      <th>composerName</th>\n",
       "      <th>workTitle</th>\n",
       "      <th>conductorName</th>\n",
       "      <th>soloists</th>\n",
       "      <th>movement</th>\n",
       "      <th>interval</th>\n",
       "      <th>movement._</th>\n",
       "      <th>movement.em</th>\n",
       "      <th>workTitle._</th>\n",
       "      <th>workTitle.em</th>\n",
       "      <th>id</th>\n",
       "      <th>programID</th>\n",
       "      <th>orchestra</th>\n",
       "      <th>season</th>\n",
       "      <th>eventType</th>\n",
       "      <th>Location</th>\n",
       "      <th>Venue</th>\n",
       "      <th>Date</th>\n",
       "      <th>Time</th>\n",
       "    </tr>\n",
       "  </thead>\n",
       "  <tbody>\n",
       "    <tr>\n",
       "      <th>0</th>\n",
       "      <td>52446*</td>\n",
       "      <td>Beethoven,  Ludwig  van</td>\n",
       "      <td>SYMPHONY NO. 5 IN C MINOR, OP.67</td>\n",
       "      <td>Hill, Ureli Corelli</td>\n",
       "      <td>[]</td>\n",
       "      <td>NaN</td>\n",
       "      <td>NaN</td>\n",
       "      <td>NaN</td>\n",
       "      <td>NaN</td>\n",
       "      <td>NaN</td>\n",
       "      <td>NaN</td>\n",
       "      <td>00646b9f-fec7-4ffb-9fb1-faae410bd9dc-0.1</td>\n",
       "      <td>3853</td>\n",
       "      <td>New York Philharmonic</td>\n",
       "      <td>1842-43</td>\n",
       "      <td>Subscription Season</td>\n",
       "      <td>Manhattan, NY</td>\n",
       "      <td>Apollo Rooms</td>\n",
       "      <td>1842-12-07T05:00:00Z</td>\n",
       "      <td>8:00PM</td>\n",
       "    </tr>\n",
       "    <tr>\n",
       "      <th>1</th>\n",
       "      <td>8834*4</td>\n",
       "      <td>Weber,  Carl  Maria Von</td>\n",
       "      <td>OBERON</td>\n",
       "      <td>Timm, Henry C.</td>\n",
       "      <td>[{'soloistName': 'Otto, Antoinette', 'soloistI...</td>\n",
       "      <td>\"Ozean, du Ungeheuer\" (Ocean, thou mighty mons...</td>\n",
       "      <td>NaN</td>\n",
       "      <td>NaN</td>\n",
       "      <td>NaN</td>\n",
       "      <td>NaN</td>\n",
       "      <td>NaN</td>\n",
       "      <td>00646b9f-fec7-4ffb-9fb1-faae410bd9dc-0.1</td>\n",
       "      <td>3853</td>\n",
       "      <td>New York Philharmonic</td>\n",
       "      <td>1842-43</td>\n",
       "      <td>Subscription Season</td>\n",
       "      <td>Manhattan, NY</td>\n",
       "      <td>Apollo Rooms</td>\n",
       "      <td>1842-12-07T05:00:00Z</td>\n",
       "      <td>8:00PM</td>\n",
       "    </tr>\n",
       "    <tr>\n",
       "      <th>2</th>\n",
       "      <td>3642*</td>\n",
       "      <td>Hummel,  Johann</td>\n",
       "      <td>QUINTET, PIANO, D MINOR, OP. 74</td>\n",
       "      <td>NaN</td>\n",
       "      <td>[{'soloistName': 'Scharfenberg, William', 'sol...</td>\n",
       "      <td>NaN</td>\n",
       "      <td>NaN</td>\n",
       "      <td>NaN</td>\n",
       "      <td>NaN</td>\n",
       "      <td>NaN</td>\n",
       "      <td>NaN</td>\n",
       "      <td>00646b9f-fec7-4ffb-9fb1-faae410bd9dc-0.1</td>\n",
       "      <td>3853</td>\n",
       "      <td>New York Philharmonic</td>\n",
       "      <td>1842-43</td>\n",
       "      <td>Subscription Season</td>\n",
       "      <td>Manhattan, NY</td>\n",
       "      <td>Apollo Rooms</td>\n",
       "      <td>1842-12-07T05:00:00Z</td>\n",
       "      <td>8:00PM</td>\n",
       "    </tr>\n",
       "    <tr>\n",
       "      <th>3</th>\n",
       "      <td>0*</td>\n",
       "      <td>NaN</td>\n",
       "      <td>NaN</td>\n",
       "      <td>NaN</td>\n",
       "      <td>[]</td>\n",
       "      <td>NaN</td>\n",
       "      <td>Intermission</td>\n",
       "      <td>NaN</td>\n",
       "      <td>NaN</td>\n",
       "      <td>NaN</td>\n",
       "      <td>NaN</td>\n",
       "      <td>00646b9f-fec7-4ffb-9fb1-faae410bd9dc-0.1</td>\n",
       "      <td>3853</td>\n",
       "      <td>New York Philharmonic</td>\n",
       "      <td>1842-43</td>\n",
       "      <td>Subscription Season</td>\n",
       "      <td>Manhattan, NY</td>\n",
       "      <td>Apollo Rooms</td>\n",
       "      <td>1842-12-07T05:00:00Z</td>\n",
       "      <td>8:00PM</td>\n",
       "    </tr>\n",
       "    <tr>\n",
       "      <th>4</th>\n",
       "      <td>8834*3</td>\n",
       "      <td>Weber,  Carl  Maria Von</td>\n",
       "      <td>OBERON</td>\n",
       "      <td>Etienne, Denis G.</td>\n",
       "      <td>[]</td>\n",
       "      <td>Overture</td>\n",
       "      <td>NaN</td>\n",
       "      <td>NaN</td>\n",
       "      <td>NaN</td>\n",
       "      <td>NaN</td>\n",
       "      <td>NaN</td>\n",
       "      <td>00646b9f-fec7-4ffb-9fb1-faae410bd9dc-0.1</td>\n",
       "      <td>3853</td>\n",
       "      <td>New York Philharmonic</td>\n",
       "      <td>1842-43</td>\n",
       "      <td>Subscription Season</td>\n",
       "      <td>Manhattan, NY</td>\n",
       "      <td>Apollo Rooms</td>\n",
       "      <td>1842-12-07T05:00:00Z</td>\n",
       "      <td>8:00PM</td>\n",
       "    </tr>\n",
       "  </tbody>\n",
       "</table>\n",
       "</div>"
      ],
      "text/plain": [
       "       ID             composerName                         workTitle  \\\n",
       "0  52446*  Beethoven,  Ludwig  van  SYMPHONY NO. 5 IN C MINOR, OP.67   \n",
       "1  8834*4  Weber,  Carl  Maria Von                            OBERON   \n",
       "2   3642*          Hummel,  Johann   QUINTET, PIANO, D MINOR, OP. 74   \n",
       "3      0*                      NaN                               NaN   \n",
       "4  8834*3  Weber,  Carl  Maria Von                            OBERON   \n",
       "\n",
       "         conductorName                                           soloists  \\\n",
       "0  Hill, Ureli Corelli                                                 []   \n",
       "1       Timm, Henry C.  [{'soloistName': 'Otto, Antoinette', 'soloistI...   \n",
       "2                  NaN  [{'soloistName': 'Scharfenberg, William', 'sol...   \n",
       "3                  NaN                                                 []   \n",
       "4    Etienne, Denis G.                                                 []   \n",
       "\n",
       "                                            movement      interval movement._  \\\n",
       "0                                                NaN           NaN        NaN   \n",
       "1  \"Ozean, du Ungeheuer\" (Ocean, thou mighty mons...           NaN        NaN   \n",
       "2                                                NaN           NaN        NaN   \n",
       "3                                                NaN  Intermission        NaN   \n",
       "4                                           Overture           NaN        NaN   \n",
       "\n",
       "  movement.em workTitle._ workTitle.em  \\\n",
       "0         NaN         NaN          NaN   \n",
       "1         NaN         NaN          NaN   \n",
       "2         NaN         NaN          NaN   \n",
       "3         NaN         NaN          NaN   \n",
       "4         NaN         NaN          NaN   \n",
       "\n",
       "                                         id programID              orchestra  \\\n",
       "0  00646b9f-fec7-4ffb-9fb1-faae410bd9dc-0.1      3853  New York Philharmonic   \n",
       "1  00646b9f-fec7-4ffb-9fb1-faae410bd9dc-0.1      3853  New York Philharmonic   \n",
       "2  00646b9f-fec7-4ffb-9fb1-faae410bd9dc-0.1      3853  New York Philharmonic   \n",
       "3  00646b9f-fec7-4ffb-9fb1-faae410bd9dc-0.1      3853  New York Philharmonic   \n",
       "4  00646b9f-fec7-4ffb-9fb1-faae410bd9dc-0.1      3853  New York Philharmonic   \n",
       "\n",
       "    season            eventType       Location         Venue  \\\n",
       "0  1842-43  Subscription Season  Manhattan, NY  Apollo Rooms   \n",
       "1  1842-43  Subscription Season  Manhattan, NY  Apollo Rooms   \n",
       "2  1842-43  Subscription Season  Manhattan, NY  Apollo Rooms   \n",
       "3  1842-43  Subscription Season  Manhattan, NY  Apollo Rooms   \n",
       "4  1842-43  Subscription Season  Manhattan, NY  Apollo Rooms   \n",
       "\n",
       "                   Date    Time  \n",
       "0  1842-12-07T05:00:00Z  8:00PM  \n",
       "1  1842-12-07T05:00:00Z  8:00PM  \n",
       "2  1842-12-07T05:00:00Z  8:00PM  \n",
       "3  1842-12-07T05:00:00Z  8:00PM  \n",
       "4  1842-12-07T05:00:00Z  8:00PM  "
      ]
     },
     "execution_count": 7,
     "metadata": {},
     "output_type": "execute_result"
    }
   ],
   "source": [
    "df.head()"
   ]
  },
  {
   "cell_type": "markdown",
   "metadata": {},
   "source": [
    "## 2.2 - Soloists (ignore for now)"
   ]
  },
  {
   "cell_type": "markdown",
   "metadata": {},
   "source": [
    "At some point it might be useful to replace the `soloists` column of the merged dataframe with meaningful information from `df_soloists`. However, for now we will just drop the column."
   ]
  },
  {
   "cell_type": "code",
   "execution_count": 8,
   "metadata": {},
   "outputs": [],
   "source": [
    "df = df.drop(columns='soloists')"
   ]
  },
  {
   "cell_type": "markdown",
   "metadata": {},
   "source": [
    "# 3 - Selecting a relevant subset of the data\n",
    "The dataset contains information about all sorts of New York Philharmonic-affiliated events, including lectures and chamber music performances. We will limit our focus to large orchestra works and performances."
   ]
  },
  {
   "cell_type": "markdown",
   "metadata": {},
   "source": [
    "## 3.1 - Orchestra and event type"
   ]
  },
  {
   "cell_type": "markdown",
   "metadata": {},
   "source": [
    "Let's examine the possible values for the `orchestra` and `eventType` columns:"
   ]
  },
  {
   "cell_type": "code",
   "execution_count": 9,
   "metadata": {},
   "outputs": [
    {
     "data": {
      "text/plain": [
       "New York Philharmonic                       92815\n",
       "Stadium-NY Philharmonic                     13430\n",
       "New York Symphony                            9411\n",
       "Musicians from the New York Philharmonic     3223\n",
       "Members of NY Philharmonic                   1694\n",
       "NYP Presentation                             1198\n",
       "NY Philharmonic Ensembles                    1141\n",
       "New/National Symphony Orchestra               490\n",
       "Strike Orchestra (Philharmonic)                39\n",
       "Shanghai Orchestra Academy                     20\n",
       "Members of NY Symphony                         11\n",
       "None                                            3\n",
       "Name: orchestra, dtype: int64"
      ]
     },
     "execution_count": 9,
     "metadata": {},
     "output_type": "execute_result"
    }
   ],
   "source": [
    "df['orchestra'].value_counts()"
   ]
  },
  {
   "cell_type": "code",
   "execution_count": 10,
   "metadata": {},
   "outputs": [
    {
     "data": {
      "text/plain": [
       "Subscription Season       65375\n",
       "Stadium Concert           13504\n",
       "Tour                      12877\n",
       "Young People's Concert     6072\n",
       "Promenade                  3479\n",
       "Special                    2718\n",
       "Parks                      2562\n",
       "Chamber                    2220\n",
       "Student Concert            2075\n",
       "Runout                     1595\n",
       "Name: eventType, dtype: int64"
      ]
     },
     "execution_count": 10,
     "metadata": {},
     "output_type": "execute_result"
    }
   ],
   "source": [
    "df['eventType'].value_counts().head(10) \n",
    "# and there are many more categories - 60 total"
   ]
  },
  {
   "cell_type": "markdown",
   "metadata": {},
   "source": [
    "The definitions for these categories are available at https://archives.nyphil.org/index.php/help-performancehistory. These help us identify which values most likely represent a full orchestra performance. It is clear to keep values like \"New York Philharmonic\" and \"Subscription Season,\" but others are ambiguous. For example, the description of \"Members of NY Philharmonic\" explains that these concerts are \"offered to\" all members of the orchestra, while the concerts from \"Musicians of the NY Philharmonic\" are more likely to be chamber performances. What kind of concerts correspond to each group?"
   ]
  },
  {
   "cell_type": "code",
   "execution_count": 11,
   "metadata": {},
   "outputs": [
    {
     "data": {
      "text/plain": [
       "Carnegie Pop Concert    688\n",
       "Special                 602\n",
       "Festival                131\n",
       "Student Concert          74\n",
       "Subscription Season      56\n",
       "Name: eventType, dtype: int64"
      ]
     },
     "execution_count": 11,
     "metadata": {},
     "output_type": "execute_result"
    }
   ],
   "source": [
    "df['eventType'][df['orchestra'] == 'Members of NY Philharmonic'].value_counts().head()"
   ]
  },
  {
   "cell_type": "code",
   "execution_count": 12,
   "metadata": {},
   "outputs": [
    {
     "data": {
      "text/plain": [
       "Chamber                        657\n",
       "Holiday Brass                  485\n",
       "Very Young People's Concert    458\n",
       "Chamber Concert (Private)      424\n",
       "Tour - Chamber                 246\n",
       "Name: eventType, dtype: int64"
      ]
     },
     "execution_count": 12,
     "metadata": {},
     "output_type": "execute_result"
    }
   ],
   "source": [
    "df['eventType'][df['orchestra'] == 'Musicians from the New York Philharmonic'].value_counts().head()"
   ]
  },
  {
   "cell_type": "markdown",
   "metadata": {},
   "source": [
    "It is clear that we should keep \"Members of NY Philharmonic\", but not \"Musicians from the New York Philharmonic\". We arrive at the final listing of orchestra types to keep:"
   ]
  },
  {
   "cell_type": "code",
   "execution_count": 13,
   "metadata": {},
   "outputs": [],
   "source": [
    "orch_types = ['New York Philharmonic', 'New York Symphony', \n",
    "            'Stadium-NY Philharmonic', 'Members of NY Philharmonic',\n",
    "            'New/National Symphony Orchestra', 'Strike Orchestra (Philharmonic)']\n",
    "df = df[df['orchestra'].isin(orch_types)]"
   ]
  },
  {
   "cell_type": "markdown",
   "metadata": {},
   "source": [
    "Likewise, we start from the full list of event types and discard small events based on the descriptions available from the NY Philharmonic."
   ]
  },
  {
   "cell_type": "code",
   "execution_count": 14,
   "metadata": {},
   "outputs": [],
   "source": [
    "event_types = df['eventType'].unique()\n",
    "event_types = [event for event in event_types if 'Chamber' not in event]\n",
    "other_small_events = ['Contact!', 'Holiday Brass', 'Insight Series', \n",
    "                      'Leinsdorf Lecture', 'Nightcap', 'Off the Grid',\n",
    "                      'Pre-Concert Recital', 'Sound ON', \n",
    "                      'Tour - Very Young People\\'s Concert',\n",
    "                      'Very Young People\\'s Concert']\n",
    "event_types = [event for event in event_types if event not in other_small_events]\n",
    "df = df[df['eventType'].isin(event_types)]"
   ]
  },
  {
   "cell_type": "markdown",
   "metadata": {},
   "source": [
    "# 4 - Clean columns"
   ]
  },
  {
   "cell_type": "markdown",
   "metadata": {},
   "source": [
    "## 4.1 - Check missing values"
   ]
  },
  {
   "cell_type": "markdown",
   "metadata": {},
   "source": [
    "Check the proportion of missing values in each column:"
   ]
  },
  {
   "cell_type": "code",
   "execution_count": 15,
   "metadata": {},
   "outputs": [
    {
     "data": {
      "text/plain": [
       "ID               0.000025\n",
       "composerName     0.152055\n",
       "workTitle        0.152080\n",
       "conductorName    0.170726\n",
       "movement         0.713601\n",
       "interval         0.847971\n",
       "movement._       0.998810\n",
       "movement.em      0.997272\n",
       "workTitle._      0.999975\n",
       "workTitle.em     0.999975\n",
       "id               0.000000\n",
       "programID        0.000000\n",
       "orchestra        0.000000\n",
       "season           0.000000\n",
       "eventType        0.000000\n",
       "Location         0.000000\n",
       "Venue            0.000000\n",
       "Date             0.000000\n",
       "Time             0.000000\n",
       "dtype: float64"
      ]
     },
     "execution_count": 15,
     "metadata": {},
     "output_type": "execute_result"
    }
   ],
   "source": [
    "df.isna().sum() / len(df)"
   ]
  },
  {
   "cell_type": "markdown",
   "metadata": {},
   "source": [
    "There are a significant number of columns with missing values. Not every work is split into movements, so having missing values in the movement column is expected. The interval column, as we see below, appears to only indicate that a program has an intermission, and is not of much use. We can drop the column to greatly reduce the number of missing values in the `composerName`, `workTitle`, and `conductorName` columns."
   ]
  },
  {
   "cell_type": "code",
   "execution_count": 16,
   "metadata": {},
   "outputs": [
    {
     "data": {
      "text/plain": [
       "Intermission           0.994857\n",
       "Intermission-Short     0.003019\n",
       "Intermission-Second    0.002068\n",
       "Intermission-Third     0.000056\n",
       "Name: interval, dtype: float64"
      ]
     },
     "execution_count": 16,
     "metadata": {},
     "output_type": "execute_result"
    }
   ],
   "source": [
    "df.interval.value_counts(normalize=True)"
   ]
  },
  {
   "cell_type": "code",
   "execution_count": 17,
   "metadata": {},
   "outputs": [
    {
     "data": {
      "text/plain": [
       "ID               0.000030\n",
       "composerName     0.000030\n",
       "workTitle        0.000060\n",
       "conductorName    0.022049\n",
       "movement         0.662254\n",
       "movement._       0.998597\n",
       "movement.em      0.996783\n",
       "workTitle._      0.999970\n",
       "workTitle.em     0.999970\n",
       "id               0.000000\n",
       "programID        0.000000\n",
       "orchestra        0.000000\n",
       "season           0.000000\n",
       "eventType        0.000000\n",
       "Location         0.000000\n",
       "Venue            0.000000\n",
       "Date             0.000000\n",
       "Time             0.000000\n",
       "dtype: float64"
      ]
     },
     "execution_count": 17,
     "metadata": {},
     "output_type": "execute_result"
    }
   ],
   "source": [
    "df = df[df.interval.isna()].drop(columns='interval')\n",
    "df.isna().sum() / len(df)"
   ]
  },
  {
   "cell_type": "markdown",
   "metadata": {},
   "source": [
    "## 4.2 - `'.em'` and `'._`' columns"
   ]
  },
  {
   "cell_type": "markdown",
   "metadata": {},
   "source": [
    "We notice a few strangely named columns with many missing values (e.g. `'movement.em'`). Can we move this information into the `'movement'` and `'workTitle'` columns? Upon examining some representative rows with information in these columns, I figured out that the `'.em'` column contains italicized text in the title of the work (see for example ID 8897*, where [Carmen is italicized in the program](https://archives.nyphil.org/index.php/artifact/7fa203d8-1167-4ec9-b2b0-11a45b02a4a7-0.1) (click \"Show all\")). This probably came from an `<em>` HTML tag."
   ]
  },
  {
   "cell_type": "code",
   "execution_count": 18,
   "metadata": {},
   "outputs": [
    {
     "data": {
      "text/html": [
       "<div>\n",
       "<style scoped>\n",
       "    .dataframe tbody tr th:only-of-type {\n",
       "        vertical-align: middle;\n",
       "    }\n",
       "\n",
       "    .dataframe tbody tr th {\n",
       "        vertical-align: top;\n",
       "    }\n",
       "\n",
       "    .dataframe thead th {\n",
       "        text-align: right;\n",
       "    }\n",
       "</style>\n",
       "<table border=\"1\" class=\"dataframe\">\n",
       "  <thead>\n",
       "    <tr style=\"text-align: right;\">\n",
       "      <th></th>\n",
       "      <th>ID</th>\n",
       "      <th>composerName</th>\n",
       "      <th>workTitle</th>\n",
       "      <th>conductorName</th>\n",
       "      <th>movement</th>\n",
       "      <th>movement._</th>\n",
       "      <th>movement.em</th>\n",
       "      <th>workTitle._</th>\n",
       "      <th>workTitle.em</th>\n",
       "      <th>id</th>\n",
       "      <th>programID</th>\n",
       "      <th>orchestra</th>\n",
       "      <th>season</th>\n",
       "      <th>eventType</th>\n",
       "      <th>Location</th>\n",
       "      <th>Venue</th>\n",
       "      <th>Date</th>\n",
       "      <th>Time</th>\n",
       "    </tr>\n",
       "  </thead>\n",
       "  <tbody>\n",
       "    <tr>\n",
       "      <th>15531</th>\n",
       "      <td>8867*2</td>\n",
       "      <td>Sibelius,  Jean</td>\n",
       "      <td>LEMMINKAINEN SUITE (LEGENDS), OP. 22</td>\n",
       "      <td>Stransky, Josef</td>\n",
       "      <td>NaN</td>\n",
       "      <td>NaN</td>\n",
       "      <td>The Swan of Tuonela</td>\n",
       "      <td>NaN</td>\n",
       "      <td>NaN</td>\n",
       "      <td>934e8e20-953f-4a30-aa1e-c65c24f80b61-0.1</td>\n",
       "      <td>7013</td>\n",
       "      <td>New York Philharmonic</td>\n",
       "      <td>1918-19</td>\n",
       "      <td>Runout</td>\n",
       "      <td>Wilkes-Barre, PA</td>\n",
       "      <td>Irem Temple</td>\n",
       "      <td>1919-02-03T05:00:00Z</td>\n",
       "      <td>8:30PM</td>\n",
       "    </tr>\n",
       "    <tr>\n",
       "      <th>82859</th>\n",
       "      <td>8867*4</td>\n",
       "      <td>Sibelius,  Jean</td>\n",
       "      <td>LEMMINKAINEN SUITE (LEGENDS), OP. 22</td>\n",
       "      <td>Jarvi (Järvi), Neeme</td>\n",
       "      <td>NaN</td>\n",
       "      <td>NaN</td>\n",
       "      <td>Lemminkäinen's Return</td>\n",
       "      <td>NaN</td>\n",
       "      <td>NaN</td>\n",
       "      <td>14e4f1ac-ddfb-451f-b74e-456002ce84a5-0.1</td>\n",
       "      <td>5777</td>\n",
       "      <td>New York Philharmonic</td>\n",
       "      <td>1979-80</td>\n",
       "      <td>Subscription Season</td>\n",
       "      <td>Manhattan, NY</td>\n",
       "      <td>Avery Fisher Hall</td>\n",
       "      <td>1980-02-21T05:00:00Z</td>\n",
       "      <td>8:00PM</td>\n",
       "    </tr>\n",
       "    <tr>\n",
       "      <th>37861</th>\n",
       "      <td>8867*4</td>\n",
       "      <td>Sibelius,  Jean</td>\n",
       "      <td>LEMMINKAINEN SUITE (LEGENDS), OP. 22</td>\n",
       "      <td>Barbirolli , John</td>\n",
       "      <td>NaN</td>\n",
       "      <td>NaN</td>\n",
       "      <td>Lemminkäinen's Return</td>\n",
       "      <td>NaN</td>\n",
       "      <td>NaN</td>\n",
       "      <td>d78eb0cf-f5d4-4ef4-aa39-ee67360f1f7c-0.1</td>\n",
       "      <td>4936</td>\n",
       "      <td>New York Philharmonic</td>\n",
       "      <td>1938-39</td>\n",
       "      <td>Runout</td>\n",
       "      <td>Princeton, NJ</td>\n",
       "      <td>McCarter Theatre</td>\n",
       "      <td>1938-10-29T05:00:00Z</td>\n",
       "      <td>8:30PM</td>\n",
       "    </tr>\n",
       "    <tr>\n",
       "      <th>108570</th>\n",
       "      <td>5696*1</td>\n",
       "      <td>Williams,  John</td>\n",
       "      <td>HARRY POTTER:  SUITE</td>\n",
       "      <td>Williams, John</td>\n",
       "      <td>NaN</td>\n",
       "      <td>Hedwig's Theme (from )</td>\n",
       "      <td>Harry Potter and the Sorcerer's Stone</td>\n",
       "      <td>NaN</td>\n",
       "      <td>NaN</td>\n",
       "      <td>e938cda9-a161-4d18-9034-c2a13eb64cde-0.1</td>\n",
       "      <td>9746</td>\n",
       "      <td>New York Philharmonic</td>\n",
       "      <td>2007-08</td>\n",
       "      <td>Subscription Season</td>\n",
       "      <td>Manhattan, NY</td>\n",
       "      <td>Avery Fisher Hall</td>\n",
       "      <td>2007-09-14T04:00:00Z</td>\n",
       "      <td>8:00PM</td>\n",
       "    </tr>\n",
       "    <tr>\n",
       "      <th>47208</th>\n",
       "      <td>8867*2</td>\n",
       "      <td>Sibelius,  Jean</td>\n",
       "      <td>LEMMINKAINEN SUITE (LEGENDS), OP. 22</td>\n",
       "      <td>Stokowski, Leopold</td>\n",
       "      <td>NaN</td>\n",
       "      <td>NaN</td>\n",
       "      <td>The Swan of Tuonela</td>\n",
       "      <td>NaN</td>\n",
       "      <td>NaN</td>\n",
       "      <td>73c4d118-6bd8-4771-b97d-a36e9956b740-0.1</td>\n",
       "      <td>6408</td>\n",
       "      <td>New York Philharmonic</td>\n",
       "      <td>1946-47</td>\n",
       "      <td>Subscription Season</td>\n",
       "      <td>Manhattan, NY</td>\n",
       "      <td>Carnegie Hall</td>\n",
       "      <td>1946-12-27T05:00:00Z</td>\n",
       "      <td>2:30PM</td>\n",
       "    </tr>\n",
       "  </tbody>\n",
       "</table>\n",
       "</div>"
      ],
      "text/plain": [
       "            ID     composerName                             workTitle  \\\n",
       "15531   8867*2  Sibelius,  Jean  LEMMINKAINEN SUITE (LEGENDS), OP. 22   \n",
       "82859   8867*4  Sibelius,  Jean  LEMMINKAINEN SUITE (LEGENDS), OP. 22   \n",
       "37861   8867*4  Sibelius,  Jean  LEMMINKAINEN SUITE (LEGENDS), OP. 22   \n",
       "108570  5696*1  Williams,  John                  HARRY POTTER:  SUITE   \n",
       "47208   8867*2  Sibelius,  Jean  LEMMINKAINEN SUITE (LEGENDS), OP. 22   \n",
       "\n",
       "               conductorName movement              movement._  \\\n",
       "15531        Stransky, Josef      NaN                     NaN   \n",
       "82859   Jarvi (Järvi), Neeme      NaN                     NaN   \n",
       "37861      Barbirolli , John      NaN                     NaN   \n",
       "108570        Williams, John      NaN  Hedwig's Theme (from )   \n",
       "47208     Stokowski, Leopold      NaN                     NaN   \n",
       "\n",
       "                                  movement.em workTitle._ workTitle.em  \\\n",
       "15531                     The Swan of Tuonela         NaN          NaN   \n",
       "82859                   Lemminkäinen's Return         NaN          NaN   \n",
       "37861                   Lemminkäinen's Return         NaN          NaN   \n",
       "108570  Harry Potter and the Sorcerer's Stone         NaN          NaN   \n",
       "47208                     The Swan of Tuonela         NaN          NaN   \n",
       "\n",
       "                                              id programID  \\\n",
       "15531   934e8e20-953f-4a30-aa1e-c65c24f80b61-0.1      7013   \n",
       "82859   14e4f1ac-ddfb-451f-b74e-456002ce84a5-0.1      5777   \n",
       "37861   d78eb0cf-f5d4-4ef4-aa39-ee67360f1f7c-0.1      4936   \n",
       "108570  e938cda9-a161-4d18-9034-c2a13eb64cde-0.1      9746   \n",
       "47208   73c4d118-6bd8-4771-b97d-a36e9956b740-0.1      6408   \n",
       "\n",
       "                    orchestra   season            eventType          Location  \\\n",
       "15531   New York Philharmonic  1918-19               Runout  Wilkes-Barre, PA   \n",
       "82859   New York Philharmonic  1979-80  Subscription Season     Manhattan, NY   \n",
       "37861   New York Philharmonic  1938-39               Runout     Princeton, NJ   \n",
       "108570  New York Philharmonic  2007-08  Subscription Season     Manhattan, NY   \n",
       "47208   New York Philharmonic  1946-47  Subscription Season     Manhattan, NY   \n",
       "\n",
       "                    Venue                  Date    Time  \n",
       "15531         Irem Temple  1919-02-03T05:00:00Z  8:30PM  \n",
       "82859   Avery Fisher Hall  1980-02-21T05:00:00Z  8:00PM  \n",
       "37861    McCarter Theatre  1938-10-29T05:00:00Z  8:30PM  \n",
       "108570  Avery Fisher Hall  2007-09-14T04:00:00Z  8:00PM  \n",
       "47208       Carnegie Hall  1946-12-27T05:00:00Z  2:30PM  "
      ]
     },
     "execution_count": 18,
     "metadata": {},
     "output_type": "execute_result"
    }
   ],
   "source": [
    "cols = ['movement._', 'movement.em', 'workTitle._', 'workTitle.em']\n",
    "df[df[cols].notna().any(axis=1)].sample(5, random_state=3)"
   ]
  },
  {
   "cell_type": "markdown",
   "metadata": {},
   "source": [
    "It won't be feasible to reconstruct the exact work title, but let's concatenate the strings in the two columns and impute it into the non-suffixed columns.\n",
    " \n",
    "Is the `'movement'` column always empty when the other two have values present (and likewise for '`workTitle'`)? If so, the following code should print four `0`s."
   ]
  },
  {
   "cell_type": "code",
   "execution_count": 19,
   "metadata": {},
   "outputs": [
    {
     "name": "stdout",
     "output_type": "stream",
     "text": [
      "0\n",
      "0\n",
      "0\n",
      "0\n"
     ]
    }
   ],
   "source": [
    "for col in ['movement', 'workTitle']:\n",
    "    for suffix in ['.em', '._']:\n",
    "        print(df[df[col+suffix].notna()][col].notna().sum())"
   ]
  },
  {
   "cell_type": "markdown",
   "metadata": {},
   "source": [
    "It is safe to consolidate these columns. Let's do that and drop the `.em` and `._` suffixed columns."
   ]
  },
  {
   "cell_type": "code",
   "execution_count": 20,
   "metadata": {},
   "outputs": [],
   "source": [
    "for col in ['movement', 'workTitle']:\n",
    "    rows = df[col].isna()\n",
    "    df[col][rows] = df[col+'._'][rows] + ' ' +  df[col+'.em'][rows]\n",
    "    df.drop(columns=[col+'._', col+'.em'], inplace=True)"
   ]
  },
  {
   "cell_type": "code",
   "execution_count": 21,
   "metadata": {},
   "outputs": [
    {
     "data": {
      "text/plain": [
       "ID                   3\n",
       "composerName         3\n",
       "workTitle            3\n",
       "conductorName     2200\n",
       "movement         65939\n",
       "id                   0\n",
       "programID            0\n",
       "orchestra            0\n",
       "season               0\n",
       "eventType            0\n",
       "Location             0\n",
       "Venue                0\n",
       "Date                 0\n",
       "Time                 0\n",
       "dtype: int64"
      ]
     },
     "execution_count": 21,
     "metadata": {},
     "output_type": "execute_result"
    }
   ],
   "source": [
    "df.isna().sum()"
   ]
  },
  {
   "cell_type": "markdown",
   "metadata": {},
   "source": [
    "## 4.3 - Remaining missing values\n",
    "Many works are not comprised of multiple movements, so we can keep the missing values in the movement column.\n",
    "\n",
    "There are many instances where a conductor is not listed. Since most large-ensemble works are performed with a conductor, let's check the rows associated with these missing values."
   ]
  },
  {
   "cell_type": "code",
   "execution_count": 22,
   "metadata": {},
   "outputs": [
    {
     "data": {
      "text/html": [
       "<div>\n",
       "<style scoped>\n",
       "    .dataframe tbody tr th:only-of-type {\n",
       "        vertical-align: middle;\n",
       "    }\n",
       "\n",
       "    .dataframe tbody tr th {\n",
       "        vertical-align: top;\n",
       "    }\n",
       "\n",
       "    .dataframe thead th {\n",
       "        text-align: right;\n",
       "    }\n",
       "</style>\n",
       "<table border=\"1\" class=\"dataframe\">\n",
       "  <thead>\n",
       "    <tr style=\"text-align: right;\">\n",
       "      <th></th>\n",
       "      <th>ID</th>\n",
       "      <th>composerName</th>\n",
       "      <th>workTitle</th>\n",
       "      <th>conductorName</th>\n",
       "      <th>movement</th>\n",
       "      <th>id</th>\n",
       "      <th>programID</th>\n",
       "      <th>orchestra</th>\n",
       "      <th>season</th>\n",
       "      <th>eventType</th>\n",
       "      <th>Location</th>\n",
       "      <th>Venue</th>\n",
       "      <th>Date</th>\n",
       "      <th>Time</th>\n",
       "    </tr>\n",
       "  </thead>\n",
       "  <tbody>\n",
       "    <tr>\n",
       "      <th>97957</th>\n",
       "      <td>8761*3</td>\n",
       "      <td>Bach,  Johann  Sebastian</td>\n",
       "      <td>PARTITA NO. 2, D MINOR, BWV 1004</td>\n",
       "      <td>NaN</td>\n",
       "      <td>Sarabande</td>\n",
       "      <td>ea5bfd58-8319-4563-9b07-2fc5388d7062-0.1</td>\n",
       "      <td>8015</td>\n",
       "      <td>New York Philharmonic</td>\n",
       "      <td>1996-97</td>\n",
       "      <td>Subscription Season</td>\n",
       "      <td>Manhattan, NY</td>\n",
       "      <td>Avery Fisher Hall</td>\n",
       "      <td>1997-01-15T05:00:00Z</td>\n",
       "      <td>8:00PM</td>\n",
       "    </tr>\n",
       "    <tr>\n",
       "      <th>100240</th>\n",
       "      <td>8113*3</td>\n",
       "      <td>Bach,  Johann  Sebastian</td>\n",
       "      <td>SONATA, VIOLIN, UNACCOMPANIED, NO. 2, A MINOR,...</td>\n",
       "      <td>NaN</td>\n",
       "      <td>Andante</td>\n",
       "      <td>b9a40b38-97a7-4aa3-8fb1-ed62ff9bb1ea-0.1</td>\n",
       "      <td>7996</td>\n",
       "      <td>New York Philharmonic</td>\n",
       "      <td>1998-99</td>\n",
       "      <td>Subscription Season</td>\n",
       "      <td>Manhattan, NY</td>\n",
       "      <td>Avery Fisher Hall</td>\n",
       "      <td>1999-03-20T05:00:00Z</td>\n",
       "      <td>8:00PM</td>\n",
       "    </tr>\n",
       "    <tr>\n",
       "      <th>96695</th>\n",
       "      <td>3152*17</td>\n",
       "      <td>Gabrieli,  Giovanni</td>\n",
       "      <td>SACRAE SYMPHONIAE, BOOK 1</td>\n",
       "      <td>NaN</td>\n",
       "      <td>Sonata pian' e forte a 8, C. 175 (arr. Fracken...</td>\n",
       "      <td>56290366-ef46-4af4-a24c-f04f9251b5d2-0.1</td>\n",
       "      <td>7808</td>\n",
       "      <td>New York Philharmonic</td>\n",
       "      <td>1995-96</td>\n",
       "      <td>Subscription Season</td>\n",
       "      <td>Manhattan, NY</td>\n",
       "      <td>Avery Fisher Hall</td>\n",
       "      <td>1995-11-09T05:00:00Z</td>\n",
       "      <td>8:00PM</td>\n",
       "    </tr>\n",
       "    <tr>\n",
       "      <th>6416</th>\n",
       "      <td>10359*</td>\n",
       "      <td>Tchaikovsky,  Pyotr  Ilyich</td>\n",
       "      <td>HUMORESQUE (SOLO PIANO), OP. 10, NO. 2</td>\n",
       "      <td>NaN</td>\n",
       "      <td>NaN</td>\n",
       "      <td>8a73c52f-95a8-411c-b6e8-3d7bc4d7b90a-0.1</td>\n",
       "      <td>10525</td>\n",
       "      <td>New York Symphony</td>\n",
       "      <td>1904-05</td>\n",
       "      <td>Special</td>\n",
       "      <td>Manhattan, NY</td>\n",
       "      <td>Carnegie Hall</td>\n",
       "      <td>1905-01-18T05:00:00Z</td>\n",
       "      <td>8:15PM</td>\n",
       "    </tr>\n",
       "    <tr>\n",
       "      <th>32935</th>\n",
       "      <td>11706*</td>\n",
       "      <td>Traditional,</td>\n",
       "      <td>DANCE OF THE COCONUT GROVE (ARR. Hairston)</td>\n",
       "      <td>NaN</td>\n",
       "      <td>NaN</td>\n",
       "      <td>963ccf25-b762-4265-b276-26f8616ff660-0.1</td>\n",
       "      <td>13124</td>\n",
       "      <td>Stadium-NY Philharmonic</td>\n",
       "      <td>1932-33</td>\n",
       "      <td>Stadium Concert</td>\n",
       "      <td>Manhattan, NY</td>\n",
       "      <td>Lewisohn Stadium</td>\n",
       "      <td>1933-08-18T04:00:00Z</td>\n",
       "      <td>8:30PM</td>\n",
       "    </tr>\n",
       "  </tbody>\n",
       "</table>\n",
       "</div>"
      ],
      "text/plain": [
       "             ID                 composerName  \\\n",
       "97957    8761*3     Bach,  Johann  Sebastian   \n",
       "100240   8113*3     Bach,  Johann  Sebastian   \n",
       "96695   3152*17          Gabrieli,  Giovanni   \n",
       "6416     10359*  Tchaikovsky,  Pyotr  Ilyich   \n",
       "32935    11706*                 Traditional,   \n",
       "\n",
       "                                                workTitle conductorName  \\\n",
       "97957                    PARTITA NO. 2, D MINOR, BWV 1004           NaN   \n",
       "100240  SONATA, VIOLIN, UNACCOMPANIED, NO. 2, A MINOR,...           NaN   \n",
       "96695                           SACRAE SYMPHONIAE, BOOK 1           NaN   \n",
       "6416               HUMORESQUE (SOLO PIANO), OP. 10, NO. 2           NaN   \n",
       "32935          DANCE OF THE COCONUT GROVE (ARR. Hairston)           NaN   \n",
       "\n",
       "                                                 movement  \\\n",
       "97957                                           Sarabande   \n",
       "100240                                            Andante   \n",
       "96695   Sonata pian' e forte a 8, C. 175 (arr. Fracken...   \n",
       "6416                                                  NaN   \n",
       "32935                                                 NaN   \n",
       "\n",
       "                                              id programID  \\\n",
       "97957   ea5bfd58-8319-4563-9b07-2fc5388d7062-0.1      8015   \n",
       "100240  b9a40b38-97a7-4aa3-8fb1-ed62ff9bb1ea-0.1      7996   \n",
       "96695   56290366-ef46-4af4-a24c-f04f9251b5d2-0.1      7808   \n",
       "6416    8a73c52f-95a8-411c-b6e8-3d7bc4d7b90a-0.1     10525   \n",
       "32935   963ccf25-b762-4265-b276-26f8616ff660-0.1     13124   \n",
       "\n",
       "                      orchestra   season            eventType       Location  \\\n",
       "97957     New York Philharmonic  1996-97  Subscription Season  Manhattan, NY   \n",
       "100240    New York Philharmonic  1998-99  Subscription Season  Manhattan, NY   \n",
       "96695     New York Philharmonic  1995-96  Subscription Season  Manhattan, NY   \n",
       "6416          New York Symphony  1904-05              Special  Manhattan, NY   \n",
       "32935   Stadium-NY Philharmonic  1932-33      Stadium Concert  Manhattan, NY   \n",
       "\n",
       "                    Venue                  Date    Time  \n",
       "97957   Avery Fisher Hall  1997-01-15T05:00:00Z  8:00PM  \n",
       "100240  Avery Fisher Hall  1999-03-20T05:00:00Z  8:00PM  \n",
       "96695   Avery Fisher Hall  1995-11-09T05:00:00Z  8:00PM  \n",
       "6416        Carnegie Hall  1905-01-18T05:00:00Z  8:15PM  \n",
       "32935    Lewisohn Stadium  1933-08-18T04:00:00Z  8:30PM  "
      ]
     },
     "execution_count": 22,
     "metadata": {},
     "output_type": "execute_result"
    }
   ],
   "source": [
    "df[df['conductorName'].isna()].sample(5, random_state=0)"
   ]
  },
  {
   "cell_type": "markdown",
   "metadata": {},
   "source": [
    "It looks like these rows represent smaller ensemble works performed without a conductor. Although possible that some rows will represent orchestral works, with the conductor information missing, we will not lose much by dropping these rows."
   ]
  },
  {
   "cell_type": "code",
   "execution_count": 23,
   "metadata": {},
   "outputs": [],
   "source": [
    "df = df[df['conductorName'].notna()]"
   ]
  },
  {
   "cell_type": "markdown",
   "metadata": {},
   "source": [
    "After this operation, we are left with only missing movement information (as expected)."
   ]
  },
  {
   "cell_type": "code",
   "execution_count": 24,
   "metadata": {},
   "outputs": [
    {
     "data": {
      "text/plain": [
       "ID                   0\n",
       "composerName         0\n",
       "workTitle            0\n",
       "conductorName        0\n",
       "movement         64576\n",
       "id                   0\n",
       "programID            0\n",
       "orchestra            0\n",
       "season               0\n",
       "eventType            0\n",
       "Location             0\n",
       "Venue                0\n",
       "Date                 0\n",
       "Time                 0\n",
       "dtype: int64"
      ]
     },
     "execution_count": 24,
     "metadata": {},
     "output_type": "execute_result"
    }
   ],
   "source": [
    "df.isna().sum()"
   ]
  },
  {
   "cell_type": "markdown",
   "metadata": {},
   "source": [
    "## 4.4 - Date and Time\n",
    "It may be useful to know the date and time of a performance, but the time zone doesn't really matter. Let's create a single DateTime column with `datetime` objects, throwing away the time zone and placing performances with no indicated time at midnight. We then drop the original date and time columns."
   ]
  },
  {
   "cell_type": "code",
   "execution_count": 25,
   "metadata": {},
   "outputs": [
    {
     "data": {
      "text/plain": [
       "69445    1967-02-16T05:00:00Z\n",
       "Name: Date, dtype: object"
      ]
     },
     "execution_count": 25,
     "metadata": {},
     "output_type": "execute_result"
    }
   ],
   "source": [
    "df['Date'].sample()"
   ]
  },
  {
   "cell_type": "code",
   "execution_count": 26,
   "metadata": {},
   "outputs": [
    {
     "data": {
      "text/plain": [
       "True"
      ]
     },
     "execution_count": 26,
     "metadata": {},
     "output_type": "execute_result"
    }
   ],
   "source": [
    "# check that all dates split into two parts on the 'T'\n",
    "(df['Date'].str.split('T').str.len() == 2).all()"
   ]
  },
  {
   "cell_type": "code",
   "execution_count": 27,
   "metadata": {},
   "outputs": [
    {
     "data": {
      "text/plain": [
       "97702    1996-11-02 14:00:00\n",
       "22686    1925-03-12 15:00:00\n",
       "103245   2002-10-23 20:00:00\n",
       "77808    1975-03-22 20:30:00\n",
       "42585    1943-03-18 20:45:00\n",
       "Name: DateTime, dtype: datetime64[ns]"
      ]
     },
     "execution_count": 27,
     "metadata": {},
     "output_type": "execute_result"
    }
   ],
   "source": [
    "df['DateTime'] = pd.to_datetime(df['Date'].str.split('T').str[0] \\\n",
    "                                 + ' ' + df['Time'].str.replace('None', ''))\n",
    "df.drop(columns=['Date', 'Time'], inplace=True)\n",
    "df['DateTime'].sample(5)"
   ]
  },
  {
   "cell_type": "markdown",
   "metadata": {},
   "source": [
    "## 4.5 - Movements\n",
    "Some works are separated into multiple rows by movement, but not all multi-movement works are separated in this way. For example, Tchaikovsky's _Symphony No. 4_ (relevant row shown below) is a four-movement work, but is reported as a single row."
   ]
  },
  {
   "cell_type": "code",
   "execution_count": 28,
   "metadata": {},
   "outputs": [
    {
     "data": {
      "text/html": [
       "<div>\n",
       "<style scoped>\n",
       "    .dataframe tbody tr th:only-of-type {\n",
       "        vertical-align: middle;\n",
       "    }\n",
       "\n",
       "    .dataframe tbody tr th {\n",
       "        vertical-align: top;\n",
       "    }\n",
       "\n",
       "    .dataframe thead th {\n",
       "        text-align: right;\n",
       "    }\n",
       "</style>\n",
       "<table border=\"1\" class=\"dataframe\">\n",
       "  <thead>\n",
       "    <tr style=\"text-align: right;\">\n",
       "      <th></th>\n",
       "      <th>ID</th>\n",
       "      <th>composerName</th>\n",
       "      <th>workTitle</th>\n",
       "      <th>conductorName</th>\n",
       "      <th>movement</th>\n",
       "      <th>id</th>\n",
       "      <th>programID</th>\n",
       "      <th>orchestra</th>\n",
       "      <th>season</th>\n",
       "      <th>eventType</th>\n",
       "      <th>Location</th>\n",
       "      <th>Venue</th>\n",
       "      <th>DateTime</th>\n",
       "    </tr>\n",
       "  </thead>\n",
       "  <tbody>\n",
       "    <tr>\n",
       "      <th>12598</th>\n",
       "      <td>50064*</td>\n",
       "      <td>Tchaikovsky,  Pyotr  Ilyich</td>\n",
       "      <td>SYMPHONY NO. 4, F MINOR, OP. 36</td>\n",
       "      <td>Stransky, Josef</td>\n",
       "      <td>NaN</td>\n",
       "      <td>e4cc1030-9497-4694-83bd-8322dd465305-0.1</td>\n",
       "      <td>2113</td>\n",
       "      <td>New York Philharmonic</td>\n",
       "      <td>1915-16</td>\n",
       "      <td>Tour</td>\n",
       "      <td>Ithaca, NY</td>\n",
       "      <td>Bailey Hall</td>\n",
       "      <td>1916-02-19 20:15:00</td>\n",
       "    </tr>\n",
       "  </tbody>\n",
       "</table>\n",
       "</div>"
      ],
      "text/plain": [
       "           ID                 composerName                        workTitle  \\\n",
       "12598  50064*  Tchaikovsky,  Pyotr  Ilyich  SYMPHONY NO. 4, F MINOR, OP. 36   \n",
       "\n",
       "         conductorName movement                                        id  \\\n",
       "12598  Stransky, Josef      NaN  e4cc1030-9497-4694-83bd-8322dd465305-0.1   \n",
       "\n",
       "      programID              orchestra   season eventType    Location  \\\n",
       "12598      2113  New York Philharmonic  1915-16      Tour  Ithaca, NY   \n",
       "\n",
       "             Venue            DateTime  \n",
       "12598  Bailey Hall 1916-02-19 20:15:00  "
      ]
     },
     "execution_count": 28,
     "metadata": {},
     "output_type": "execute_result"
    }
   ],
   "source": [
    "df[df['workTitle'].str.lower().str.contains('symphony')].sample(random_state=0)"
   ]
  },
  {
   "cell_type": "markdown",
   "metadata": {},
   "source": [
    "It is unclear which works will have movements reported, so let's represent each work as only a single row.\n",
    "\n",
    "The column `ID` is in the format (work ID)*(movement ID), so we can use this to group by work. First let's separate this into two columns:"
   ]
  },
  {
   "cell_type": "code",
   "execution_count": 29,
   "metadata": {},
   "outputs": [],
   "source": [
    "df['work_id'] = df['ID'].str.split('*').str[0]\n",
    "df['mvt_id'] = df['ID'].str.split('*').str[1]"
   ]
  },
  {
   "cell_type": "markdown",
   "metadata": {},
   "source": [
    "Now group by `DateTime` and `work_id` (to get a unique performance of the work) and count the number of unique movement IDs."
   ]
  },
  {
   "cell_type": "code",
   "execution_count": 30,
   "metadata": {},
   "outputs": [
    {
     "data": {
      "text/plain": [
       "DateTime             work_id\n",
       "1842-12-07 20:00:00  52446      1\n",
       "                     5543       1\n",
       "                     8336       1\n",
       "                     8834       2\n",
       "                     8835       1\n",
       "                               ..\n",
       "2020-03-07 20:00:00  53102      1\n",
       "2020-03-10 19:30:00  1490       1\n",
       "                     52638      1\n",
       "                     52644      1\n",
       "                     53102      1\n",
       "Name: mvt_id, Length: 85433, dtype: int64"
      ]
     },
     "execution_count": 30,
     "metadata": {},
     "output_type": "execute_result"
    }
   ],
   "source": [
    "grouped = df.groupby(['DateTime', 'work_id'])['mvt_id'].nunique()\n",
    "grouped"
   ]
  },
  {
   "cell_type": "markdown",
   "metadata": {},
   "source": [
    "Let's check if this worked:"
   ]
  },
  {
   "cell_type": "code",
   "execution_count": 31,
   "metadata": {},
   "outputs": [
    {
     "data": {
      "text/plain": [
       "DateTime             work_id\n",
       "1950-03-16 20:45:00  9006       3\n",
       "Name: mvt_id, dtype: int64"
      ]
     },
     "execution_count": 31,
     "metadata": {},
     "output_type": "execute_result"
    }
   ],
   "source": [
    "grouped[grouped>1].sample(random_state=0)"
   ]
  },
  {
   "cell_type": "code",
   "execution_count": 32,
   "metadata": {},
   "outputs": [
    {
     "name": "stderr",
     "output_type": "stream",
     "text": [
      "C:\\Users\\Brian\\Anaconda3\\lib\\site-packages\\ipykernel_launcher.py:1: UserWarning: Boolean Series key will be reindexed to match DataFrame index.\n",
      "  \"\"\"Entry point for launching an IPython kernel.\n"
     ]
    },
    {
     "data": {
      "text/html": [
       "<div>\n",
       "<style scoped>\n",
       "    .dataframe tbody tr th:only-of-type {\n",
       "        vertical-align: middle;\n",
       "    }\n",
       "\n",
       "    .dataframe tbody tr th {\n",
       "        vertical-align: top;\n",
       "    }\n",
       "\n",
       "    .dataframe thead th {\n",
       "        text-align: right;\n",
       "    }\n",
       "</style>\n",
       "<table border=\"1\" class=\"dataframe\">\n",
       "  <thead>\n",
       "    <tr style=\"text-align: right;\">\n",
       "      <th></th>\n",
       "      <th>ID</th>\n",
       "      <th>composerName</th>\n",
       "      <th>workTitle</th>\n",
       "      <th>conductorName</th>\n",
       "      <th>movement</th>\n",
       "      <th>id</th>\n",
       "      <th>programID</th>\n",
       "      <th>orchestra</th>\n",
       "      <th>season</th>\n",
       "      <th>eventType</th>\n",
       "      <th>Location</th>\n",
       "      <th>Venue</th>\n",
       "      <th>DateTime</th>\n",
       "      <th>work_id</th>\n",
       "      <th>mvt_id</th>\n",
       "    </tr>\n",
       "  </thead>\n",
       "  <tbody>\n",
       "    <tr>\n",
       "      <th>50601</th>\n",
       "      <td>9006*17</td>\n",
       "      <td>Wagner,  Richard</td>\n",
       "      <td>GOTTERDAMMERUNG [GÖTTERDÄMMERUNG]</td>\n",
       "      <td>De Sabata, Victor</td>\n",
       "      <td>PROLOGUE: Siegfried's Rhine Journey</td>\n",
       "      <td>830a1bc8-16ed-434c-a282-43d851cfc5c4-0.1</td>\n",
       "      <td>3801</td>\n",
       "      <td>New York Philharmonic</td>\n",
       "      <td>1949-50</td>\n",
       "      <td>Subscription Season</td>\n",
       "      <td>Manhattan, NY</td>\n",
       "      <td>Carnegie Hall</td>\n",
       "      <td>1950-03-16 20:45:00</td>\n",
       "      <td>9006</td>\n",
       "      <td>17</td>\n",
       "    </tr>\n",
       "    <tr>\n",
       "      <th>50603</th>\n",
       "      <td>9006*21</td>\n",
       "      <td>Wagner,  Richard</td>\n",
       "      <td>GOTTERDAMMERUNG [GÖTTERDÄMMERUNG]</td>\n",
       "      <td>De Sabata, Victor</td>\n",
       "      <td>Siegfried's Death (orchestra without singer - ...</td>\n",
       "      <td>830a1bc8-16ed-434c-a282-43d851cfc5c4-0.1</td>\n",
       "      <td>3801</td>\n",
       "      <td>New York Philharmonic</td>\n",
       "      <td>1949-50</td>\n",
       "      <td>Subscription Season</td>\n",
       "      <td>Manhattan, NY</td>\n",
       "      <td>Carnegie Hall</td>\n",
       "      <td>1950-03-16 20:45:00</td>\n",
       "      <td>9006</td>\n",
       "      <td>21</td>\n",
       "    </tr>\n",
       "    <tr>\n",
       "      <th>50605</th>\n",
       "      <td>9006*10</td>\n",
       "      <td>Wagner,  Richard</td>\n",
       "      <td>GOTTERDAMMERUNG [GÖTTERDÄMMERUNG]</td>\n",
       "      <td>De Sabata, Victor</td>\n",
       "      <td>Siegfried's Funeral Music, ACT III, scene ii</td>\n",
       "      <td>830a1bc8-16ed-434c-a282-43d851cfc5c4-0.1</td>\n",
       "      <td>3801</td>\n",
       "      <td>New York Philharmonic</td>\n",
       "      <td>1949-50</td>\n",
       "      <td>Subscription Season</td>\n",
       "      <td>Manhattan, NY</td>\n",
       "      <td>Carnegie Hall</td>\n",
       "      <td>1950-03-16 20:45:00</td>\n",
       "      <td>9006</td>\n",
       "      <td>10</td>\n",
       "    </tr>\n",
       "  </tbody>\n",
       "</table>\n",
       "</div>"
      ],
      "text/plain": [
       "            ID      composerName                          workTitle  \\\n",
       "50601  9006*17  Wagner,  Richard  GOTTERDAMMERUNG [GÖTTERDÄMMERUNG]   \n",
       "50603  9006*21  Wagner,  Richard  GOTTERDAMMERUNG [GÖTTERDÄMMERUNG]   \n",
       "50605  9006*10  Wagner,  Richard  GOTTERDAMMERUNG [GÖTTERDÄMMERUNG]   \n",
       "\n",
       "           conductorName                                           movement  \\\n",
       "50601  De Sabata, Victor                PROLOGUE: Siegfried's Rhine Journey   \n",
       "50603  De Sabata, Victor  Siegfried's Death (orchestra without singer - ...   \n",
       "50605  De Sabata, Victor       Siegfried's Funeral Music, ACT III, scene ii   \n",
       "\n",
       "                                             id programID  \\\n",
       "50601  830a1bc8-16ed-434c-a282-43d851cfc5c4-0.1      3801   \n",
       "50603  830a1bc8-16ed-434c-a282-43d851cfc5c4-0.1      3801   \n",
       "50605  830a1bc8-16ed-434c-a282-43d851cfc5c4-0.1      3801   \n",
       "\n",
       "                   orchestra   season            eventType       Location  \\\n",
       "50601  New York Philharmonic  1949-50  Subscription Season  Manhattan, NY   \n",
       "50603  New York Philharmonic  1949-50  Subscription Season  Manhattan, NY   \n",
       "50605  New York Philharmonic  1949-50  Subscription Season  Manhattan, NY   \n",
       "\n",
       "               Venue            DateTime work_id mvt_id  \n",
       "50601  Carnegie Hall 1950-03-16 20:45:00    9006     17  \n",
       "50603  Carnegie Hall 1950-03-16 20:45:00    9006     21  \n",
       "50605  Carnegie Hall 1950-03-16 20:45:00    9006     10  "
      ]
     },
     "execution_count": 32,
     "metadata": {},
     "output_type": "execute_result"
    }
   ],
   "source": [
    "df[df['DateTime']==pd.to_datetime('1950-03-16 20:45:00')][df['work_id']=='9006']"
   ]
  },
  {
   "cell_type": "markdown",
   "metadata": {},
   "source": [
    "_Götterdämmerung_ by Wagner is a [multi-movement opera](https://en.wikipedia.org/wiki/G%C3%B6tterd%C3%A4mmerung), but only 3 movements were performed at the [concert](https://archives.nyphil.org/index.php/artifact/830a1bc8-16ed-434c-a282-43d851cfc5c4-0.1).\n",
    "\n",
    "Now, we update the dataframe. We drop the `movement` column and drop rows that have the same `DateTime` and `work_id`. The resulting dataframe should be the same length as the `grouped` Series."
   ]
  },
  {
   "cell_type": "code",
   "execution_count": 33,
   "metadata": {},
   "outputs": [
    {
     "data": {
      "text/plain": [
       "(85433, 85433)"
      ]
     },
     "execution_count": 33,
     "metadata": {},
     "output_type": "execute_result"
    }
   ],
   "source": [
    "df = df.drop(columns=['movement', 'mvt_id'])\\\n",
    "        .drop_duplicates(['DateTime', 'work_id'])\n",
    "\n",
    "len(df), len(grouped)"
   ]
  },
  {
   "cell_type": "markdown",
   "metadata": {},
   "source": [
    "We can finally add the grouped series as a new column with the number of movements."
   ]
  },
  {
   "cell_type": "code",
   "execution_count": 34,
   "metadata": {},
   "outputs": [],
   "source": [
    "df = df.join(grouped, on=['DateTime', 'work_id'])"
   ]
  },
  {
   "cell_type": "markdown",
   "metadata": {},
   "source": [
    "## 4.6 - Reorder and rename columns for readability"
   ]
  },
  {
   "cell_type": "code",
   "execution_count": 35,
   "metadata": {},
   "outputs": [],
   "source": [
    "df = df.rename(columns={'id': 'program_guid', 'programID': 'program_id',\n",
    "                       'mvt_id': 'num_movements'})\n",
    "\n",
    "cols = ['program_guid', 'program_id', 'work_id', 'composerName', 'workTitle', \n",
    "       'num_movements', 'orchestra', 'conductorName', 'season', 'eventType', 'Location', \n",
    "        'Venue', 'DateTime']\n",
    "\n",
    "df = df[cols]\n",
    "\n",
    "# convert string ids to numeric\n",
    "cols = ['program_id', 'work_id']\n",
    "df[cols] = df[cols].apply(pd.to_numeric)\n"
   ]
  },
  {
   "cell_type": "code",
   "execution_count": 36,
   "metadata": {},
   "outputs": [
    {
     "data": {
      "text/html": [
       "<div>\n",
       "<style scoped>\n",
       "    .dataframe tbody tr th:only-of-type {\n",
       "        vertical-align: middle;\n",
       "    }\n",
       "\n",
       "    .dataframe tbody tr th {\n",
       "        vertical-align: top;\n",
       "    }\n",
       "\n",
       "    .dataframe thead th {\n",
       "        text-align: right;\n",
       "    }\n",
       "</style>\n",
       "<table border=\"1\" class=\"dataframe\">\n",
       "  <thead>\n",
       "    <tr style=\"text-align: right;\">\n",
       "      <th></th>\n",
       "      <th>program_guid</th>\n",
       "      <th>program_id</th>\n",
       "      <th>work_id</th>\n",
       "      <th>composerName</th>\n",
       "      <th>workTitle</th>\n",
       "      <th>num_movements</th>\n",
       "      <th>orchestra</th>\n",
       "      <th>conductorName</th>\n",
       "      <th>season</th>\n",
       "      <th>eventType</th>\n",
       "      <th>Location</th>\n",
       "      <th>Venue</th>\n",
       "      <th>DateTime</th>\n",
       "    </tr>\n",
       "  </thead>\n",
       "  <tbody>\n",
       "    <tr>\n",
       "      <th>0</th>\n",
       "      <td>00646b9f-fec7-4ffb-9fb1-faae410bd9dc-0.1</td>\n",
       "      <td>3853</td>\n",
       "      <td>52446</td>\n",
       "      <td>Beethoven,  Ludwig  van</td>\n",
       "      <td>SYMPHONY NO. 5 IN C MINOR, OP.67</td>\n",
       "      <td>1</td>\n",
       "      <td>New York Philharmonic</td>\n",
       "      <td>Hill, Ureli Corelli</td>\n",
       "      <td>1842-43</td>\n",
       "      <td>Subscription Season</td>\n",
       "      <td>Manhattan, NY</td>\n",
       "      <td>Apollo Rooms</td>\n",
       "      <td>1842-12-07 20:00:00</td>\n",
       "    </tr>\n",
       "    <tr>\n",
       "      <th>1</th>\n",
       "      <td>00646b9f-fec7-4ffb-9fb1-faae410bd9dc-0.1</td>\n",
       "      <td>3853</td>\n",
       "      <td>8834</td>\n",
       "      <td>Weber,  Carl  Maria Von</td>\n",
       "      <td>OBERON</td>\n",
       "      <td>2</td>\n",
       "      <td>New York Philharmonic</td>\n",
       "      <td>Timm, Henry C.</td>\n",
       "      <td>1842-43</td>\n",
       "      <td>Subscription Season</td>\n",
       "      <td>Manhattan, NY</td>\n",
       "      <td>Apollo Rooms</td>\n",
       "      <td>1842-12-07 20:00:00</td>\n",
       "    </tr>\n",
       "    <tr>\n",
       "      <th>5</th>\n",
       "      <td>00646b9f-fec7-4ffb-9fb1-faae410bd9dc-0.1</td>\n",
       "      <td>3853</td>\n",
       "      <td>8835</td>\n",
       "      <td>Rossini,  Gioachino</td>\n",
       "      <td>ARMIDA</td>\n",
       "      <td>1</td>\n",
       "      <td>New York Philharmonic</td>\n",
       "      <td>Timm, Henry C.</td>\n",
       "      <td>1842-43</td>\n",
       "      <td>Subscription Season</td>\n",
       "      <td>Manhattan, NY</td>\n",
       "      <td>Apollo Rooms</td>\n",
       "      <td>1842-12-07 20:00:00</td>\n",
       "    </tr>\n",
       "    <tr>\n",
       "      <th>6</th>\n",
       "      <td>00646b9f-fec7-4ffb-9fb1-faae410bd9dc-0.1</td>\n",
       "      <td>3853</td>\n",
       "      <td>8837</td>\n",
       "      <td>Beethoven,  Ludwig  van</td>\n",
       "      <td>FIDELIO, OP. 72</td>\n",
       "      <td>1</td>\n",
       "      <td>New York Philharmonic</td>\n",
       "      <td>Timm, Henry C.</td>\n",
       "      <td>1842-43</td>\n",
       "      <td>Subscription Season</td>\n",
       "      <td>Manhattan, NY</td>\n",
       "      <td>Apollo Rooms</td>\n",
       "      <td>1842-12-07 20:00:00</td>\n",
       "    </tr>\n",
       "    <tr>\n",
       "      <th>7</th>\n",
       "      <td>00646b9f-fec7-4ffb-9fb1-faae410bd9dc-0.1</td>\n",
       "      <td>3853</td>\n",
       "      <td>8336</td>\n",
       "      <td>Mozart,  Wolfgang  Amadeus</td>\n",
       "      <td>ABDUCTION FROM THE SERAGLIO,THE, K.384</td>\n",
       "      <td>1</td>\n",
       "      <td>New York Philharmonic</td>\n",
       "      <td>Timm, Henry C.</td>\n",
       "      <td>1842-43</td>\n",
       "      <td>Subscription Season</td>\n",
       "      <td>Manhattan, NY</td>\n",
       "      <td>Apollo Rooms</td>\n",
       "      <td>1842-12-07 20:00:00</td>\n",
       "    </tr>\n",
       "  </tbody>\n",
       "</table>\n",
       "</div>"
      ],
      "text/plain": [
       "                               program_guid  program_id  work_id  \\\n",
       "0  00646b9f-fec7-4ffb-9fb1-faae410bd9dc-0.1        3853    52446   \n",
       "1  00646b9f-fec7-4ffb-9fb1-faae410bd9dc-0.1        3853     8834   \n",
       "5  00646b9f-fec7-4ffb-9fb1-faae410bd9dc-0.1        3853     8835   \n",
       "6  00646b9f-fec7-4ffb-9fb1-faae410bd9dc-0.1        3853     8837   \n",
       "7  00646b9f-fec7-4ffb-9fb1-faae410bd9dc-0.1        3853     8336   \n",
       "\n",
       "                 composerName                               workTitle  \\\n",
       "0     Beethoven,  Ludwig  van        SYMPHONY NO. 5 IN C MINOR, OP.67   \n",
       "1     Weber,  Carl  Maria Von                                  OBERON   \n",
       "5         Rossini,  Gioachino                                  ARMIDA   \n",
       "6     Beethoven,  Ludwig  van                         FIDELIO, OP. 72   \n",
       "7  Mozart,  Wolfgang  Amadeus  ABDUCTION FROM THE SERAGLIO,THE, K.384   \n",
       "\n",
       "   num_movements              orchestra        conductorName   season  \\\n",
       "0              1  New York Philharmonic  Hill, Ureli Corelli  1842-43   \n",
       "1              2  New York Philharmonic       Timm, Henry C.  1842-43   \n",
       "5              1  New York Philharmonic       Timm, Henry C.  1842-43   \n",
       "6              1  New York Philharmonic       Timm, Henry C.  1842-43   \n",
       "7              1  New York Philharmonic       Timm, Henry C.  1842-43   \n",
       "\n",
       "             eventType       Location         Venue            DateTime  \n",
       "0  Subscription Season  Manhattan, NY  Apollo Rooms 1842-12-07 20:00:00  \n",
       "1  Subscription Season  Manhattan, NY  Apollo Rooms 1842-12-07 20:00:00  \n",
       "5  Subscription Season  Manhattan, NY  Apollo Rooms 1842-12-07 20:00:00  \n",
       "6  Subscription Season  Manhattan, NY  Apollo Rooms 1842-12-07 20:00:00  \n",
       "7  Subscription Season  Manhattan, NY  Apollo Rooms 1842-12-07 20:00:00  "
      ]
     },
     "execution_count": 36,
     "metadata": {},
     "output_type": "execute_result"
    }
   ],
   "source": [
    "df.head()"
   ]
  },
  {
   "cell_type": "markdown",
   "metadata": {},
   "source": [
    "# 5 - Analysis"
   ]
  },
  {
   "cell_type": "code",
   "execution_count": 37,
   "metadata": {},
   "outputs": [],
   "source": [
    "cols = ['program_id', 'work_id']\n",
    "df[cols] = df[cols].apply(pd.to_numeric)"
   ]
  },
  {
   "cell_type": "markdown",
   "metadata": {},
   "source": [
    "## 5.1 How many times is each composer represented?"
   ]
  },
  {
   "cell_type": "code",
   "execution_count": 38,
   "metadata": {},
   "outputs": [
    {
     "data": {
      "image/png": "[encoded data removed]",
      "text/plain": [
       "<Figure size 432x288 with 1 Axes>"
      ]
     },
     "metadata": {
      "needs_background": "light"
     },
     "output_type": "display_data"
    }
   ],
   "source": [
    "composer_counts = df['composerName'].value_counts()\n",
    "ax = composer_counts[:20].plot.bar()\n",
    "ax.set_ylabel('Number of works performed');"
   ]
  },
  {
   "cell_type": "markdown",
   "metadata": {},
   "source": [
    "Not unexpectedly, we see the works of a few of the most famous composers performed with a much greater frequency than the rest. After the \"top 5\", the frequency of performance is relatively constant for a large group of composers that are still very well-known.\n",
    "\n",
    "What about the lesser-known composers? We see from the below that approximately 1/3 of all composers have had works performed only once, and 1/2 of all composers have had works performed at most twice."
   ]
  },
  {
   "cell_type": "code",
   "execution_count": 39,
   "metadata": {},
   "outputs": [
    {
     "data": {
      "text/plain": [
       "1    0.339474\n",
       "2    0.162719\n",
       "3    0.097368\n",
       "4    0.085088\n",
       "5    0.031579\n",
       "Name: composerName, dtype: float64"
      ]
     },
     "execution_count": 39,
     "metadata": {},
     "output_type": "execute_result"
    }
   ],
   "source": [
    "composer_counts.value_counts(normalize=True).head()"
   ]
  },
  {
   "cell_type": "markdown",
   "metadata": {},
   "source": [
    "The log-scale histogram of the number of composers versus number of performances of works by each composer shows an exponential relationship. However, we can start to see groups forming based on popularity. We separate these by eye and assign categorical labels to each of the groups based on popularity."
   ]
  },
  {
   "cell_type": "code",
   "execution_count": 40,
   "metadata": {},
   "outputs": [
    {
     "data": {
      "image/png": "[encoded data removed]",
      "text/plain": [
       "<Figure size 432x288 with 1 Axes>"
      ]
     },
     "metadata": {
      "needs_background": "light"
     },
     "output_type": "display_data"
    }
   ],
   "source": [
    "ax = np.log(composer_counts).hist(bins=30, log=True)\n",
    "ax.set_xlabel('Number of performances per composer')\n",
    "ax.set_ylabel('Number of composers')\n",
    "xticks = [1, 10, 100, 1000, 10000]\n",
    "ax.set_xticks([np.log(tick) for tick in xticks])\n",
    "ax.set_xticklabels(xticks);\n",
    "\n",
    "breaks = [0.9, 5, 30, 400, 2500, 10000]\n",
    "for b in breaks:\n",
    "    ax.axvline(np.log(b), color='k')\n",
    "\n",
    "labels = pd.cut(composer_counts, breaks, labels=False)"
   ]
  },
  {
   "cell_type": "markdown",
   "metadata": {},
   "source": [
    "We now have a list of labels from 0 for the least-performed composers through 4 for the most-performed composers. Let's add the label as a new column to the dataframe."
   ]
  },
  {
   "cell_type": "code",
   "execution_count": 41,
   "metadata": {},
   "outputs": [
    {
     "data": {
      "text/plain": [
       "Templeton,  Alec             0\n",
       "Gregorian Chant,             0\n",
       "Wright,  Robert              0\n",
       "Anderson,  Florence          0\n",
       "Hague,  Albert               0\n",
       "Hindemith,  Paul             2\n",
       "Schwertsik,  Kurt            0\n",
       "Rorem,  Ned                  1\n",
       "Honegger,  Arthur            2\n",
       "Foster,  Stephen  Collins    1\n",
       "Name: composerName, dtype: int64"
      ]
     },
     "execution_count": 41,
     "metadata": {},
     "output_type": "execute_result"
    }
   ],
   "source": [
    "labels.sample(10, random_state=4)"
   ]
  },
  {
   "cell_type": "code",
   "execution_count": 42,
   "metadata": {},
   "outputs": [
    {
     "data": {
      "text/html": [
       "<div>\n",
       "<style scoped>\n",
       "    .dataframe tbody tr th:only-of-type {\n",
       "        vertical-align: middle;\n",
       "    }\n",
       "\n",
       "    .dataframe tbody tr th {\n",
       "        vertical-align: top;\n",
       "    }\n",
       "\n",
       "    .dataframe thead th {\n",
       "        text-align: right;\n",
       "    }\n",
       "</style>\n",
       "<table border=\"1\" class=\"dataframe\">\n",
       "  <thead>\n",
       "    <tr style=\"text-align: right;\">\n",
       "      <th></th>\n",
       "      <th>program_guid</th>\n",
       "      <th>program_id</th>\n",
       "      <th>work_id</th>\n",
       "      <th>composerName</th>\n",
       "      <th>composer_category</th>\n",
       "      <th>workTitle</th>\n",
       "      <th>num_movements</th>\n",
       "      <th>orchestra</th>\n",
       "      <th>conductorName</th>\n",
       "      <th>season</th>\n",
       "      <th>eventType</th>\n",
       "      <th>Location</th>\n",
       "      <th>Venue</th>\n",
       "      <th>DateTime</th>\n",
       "    </tr>\n",
       "  </thead>\n",
       "  <tbody>\n",
       "    <tr>\n",
       "      <th>0</th>\n",
       "      <td>00646b9f-fec7-4ffb-9fb1-faae410bd9dc-0.1</td>\n",
       "      <td>3853</td>\n",
       "      <td>52446</td>\n",
       "      <td>Beethoven,  Ludwig  van</td>\n",
       "      <td>4</td>\n",
       "      <td>SYMPHONY NO. 5 IN C MINOR, OP.67</td>\n",
       "      <td>1</td>\n",
       "      <td>New York Philharmonic</td>\n",
       "      <td>Hill, Ureli Corelli</td>\n",
       "      <td>1842-43</td>\n",
       "      <td>Subscription Season</td>\n",
       "      <td>Manhattan, NY</td>\n",
       "      <td>Apollo Rooms</td>\n",
       "      <td>1842-12-07 20:00:00</td>\n",
       "    </tr>\n",
       "    <tr>\n",
       "      <th>1</th>\n",
       "      <td>00646b9f-fec7-4ffb-9fb1-faae410bd9dc-0.1</td>\n",
       "      <td>3853</td>\n",
       "      <td>8834</td>\n",
       "      <td>Weber,  Carl  Maria Von</td>\n",
       "      <td>3</td>\n",
       "      <td>OBERON</td>\n",
       "      <td>2</td>\n",
       "      <td>New York Philharmonic</td>\n",
       "      <td>Timm, Henry C.</td>\n",
       "      <td>1842-43</td>\n",
       "      <td>Subscription Season</td>\n",
       "      <td>Manhattan, NY</td>\n",
       "      <td>Apollo Rooms</td>\n",
       "      <td>1842-12-07 20:00:00</td>\n",
       "    </tr>\n",
       "    <tr>\n",
       "      <th>5</th>\n",
       "      <td>00646b9f-fec7-4ffb-9fb1-faae410bd9dc-0.1</td>\n",
       "      <td>3853</td>\n",
       "      <td>8835</td>\n",
       "      <td>Rossini,  Gioachino</td>\n",
       "      <td>3</td>\n",
       "      <td>ARMIDA</td>\n",
       "      <td>1</td>\n",
       "      <td>New York Philharmonic</td>\n",
       "      <td>Timm, Henry C.</td>\n",
       "      <td>1842-43</td>\n",
       "      <td>Subscription Season</td>\n",
       "      <td>Manhattan, NY</td>\n",
       "      <td>Apollo Rooms</td>\n",
       "      <td>1842-12-07 20:00:00</td>\n",
       "    </tr>\n",
       "    <tr>\n",
       "      <th>6</th>\n",
       "      <td>00646b9f-fec7-4ffb-9fb1-faae410bd9dc-0.1</td>\n",
       "      <td>3853</td>\n",
       "      <td>8837</td>\n",
       "      <td>Beethoven,  Ludwig  van</td>\n",
       "      <td>4</td>\n",
       "      <td>FIDELIO, OP. 72</td>\n",
       "      <td>1</td>\n",
       "      <td>New York Philharmonic</td>\n",
       "      <td>Timm, Henry C.</td>\n",
       "      <td>1842-43</td>\n",
       "      <td>Subscription Season</td>\n",
       "      <td>Manhattan, NY</td>\n",
       "      <td>Apollo Rooms</td>\n",
       "      <td>1842-12-07 20:00:00</td>\n",
       "    </tr>\n",
       "    <tr>\n",
       "      <th>7</th>\n",
       "      <td>00646b9f-fec7-4ffb-9fb1-faae410bd9dc-0.1</td>\n",
       "      <td>3853</td>\n",
       "      <td>8336</td>\n",
       "      <td>Mozart,  Wolfgang  Amadeus</td>\n",
       "      <td>4</td>\n",
       "      <td>ABDUCTION FROM THE SERAGLIO,THE, K.384</td>\n",
       "      <td>1</td>\n",
       "      <td>New York Philharmonic</td>\n",
       "      <td>Timm, Henry C.</td>\n",
       "      <td>1842-43</td>\n",
       "      <td>Subscription Season</td>\n",
       "      <td>Manhattan, NY</td>\n",
       "      <td>Apollo Rooms</td>\n",
       "      <td>1842-12-07 20:00:00</td>\n",
       "    </tr>\n",
       "  </tbody>\n",
       "</table>\n",
       "</div>"
      ],
      "text/plain": [
       "                               program_guid  program_id  work_id  \\\n",
       "0  00646b9f-fec7-4ffb-9fb1-faae410bd9dc-0.1        3853    52446   \n",
       "1  00646b9f-fec7-4ffb-9fb1-faae410bd9dc-0.1        3853     8834   \n",
       "5  00646b9f-fec7-4ffb-9fb1-faae410bd9dc-0.1        3853     8835   \n",
       "6  00646b9f-fec7-4ffb-9fb1-faae410bd9dc-0.1        3853     8837   \n",
       "7  00646b9f-fec7-4ffb-9fb1-faae410bd9dc-0.1        3853     8336   \n",
       "\n",
       "                 composerName  composer_category  \\\n",
       "0     Beethoven,  Ludwig  van                  4   \n",
       "1     Weber,  Carl  Maria Von                  3   \n",
       "5         Rossini,  Gioachino                  3   \n",
       "6     Beethoven,  Ludwig  van                  4   \n",
       "7  Mozart,  Wolfgang  Amadeus                  4   \n",
       "\n",
       "                                workTitle  num_movements  \\\n",
       "0        SYMPHONY NO. 5 IN C MINOR, OP.67              1   \n",
       "1                                  OBERON              2   \n",
       "5                                  ARMIDA              1   \n",
       "6                         FIDELIO, OP. 72              1   \n",
       "7  ABDUCTION FROM THE SERAGLIO,THE, K.384              1   \n",
       "\n",
       "               orchestra        conductorName   season            eventType  \\\n",
       "0  New York Philharmonic  Hill, Ureli Corelli  1842-43  Subscription Season   \n",
       "1  New York Philharmonic       Timm, Henry C.  1842-43  Subscription Season   \n",
       "5  New York Philharmonic       Timm, Henry C.  1842-43  Subscription Season   \n",
       "6  New York Philharmonic       Timm, Henry C.  1842-43  Subscription Season   \n",
       "7  New York Philharmonic       Timm, Henry C.  1842-43  Subscription Season   \n",
       "\n",
       "        Location         Venue            DateTime  \n",
       "0  Manhattan, NY  Apollo Rooms 1842-12-07 20:00:00  \n",
       "1  Manhattan, NY  Apollo Rooms 1842-12-07 20:00:00  \n",
       "5  Manhattan, NY  Apollo Rooms 1842-12-07 20:00:00  \n",
       "6  Manhattan, NY  Apollo Rooms 1842-12-07 20:00:00  \n",
       "7  Manhattan, NY  Apollo Rooms 1842-12-07 20:00:00  "
      ]
     },
     "execution_count": 42,
     "metadata": {},
     "output_type": "execute_result"
    }
   ],
   "source": [
    "df.insert(4, 'composer_category', labels[df['composerName']].values)\n",
    "df.head()"
   ]
  },
  {
   "cell_type": "markdown",
   "metadata": {},
   "source": [
    "An alternative strategy is to assign a numerical value to each composer that gives some measure of their popularity. Let's add another column `composer_popularity` with the log-scaled number of performances each composer was represented in."
   ]
  },
  {
   "cell_type": "code",
   "execution_count": 43,
   "metadata": {},
   "outputs": [
    {
     "data": {
      "text/html": [
       "<div>\n",
       "<style scoped>\n",
       "    .dataframe tbody tr th:only-of-type {\n",
       "        vertical-align: middle;\n",
       "    }\n",
       "\n",
       "    .dataframe tbody tr th {\n",
       "        vertical-align: top;\n",
       "    }\n",
       "\n",
       "    .dataframe thead th {\n",
       "        text-align: right;\n",
       "    }\n",
       "</style>\n",
       "<table border=\"1\" class=\"dataframe\">\n",
       "  <thead>\n",
       "    <tr style=\"text-align: right;\">\n",
       "      <th></th>\n",
       "      <th>program_guid</th>\n",
       "      <th>program_id</th>\n",
       "      <th>work_id</th>\n",
       "      <th>composerName</th>\n",
       "      <th>composer_category</th>\n",
       "      <th>composer_popularity</th>\n",
       "      <th>workTitle</th>\n",
       "      <th>num_movements</th>\n",
       "      <th>orchestra</th>\n",
       "      <th>conductorName</th>\n",
       "      <th>season</th>\n",
       "      <th>eventType</th>\n",
       "      <th>Location</th>\n",
       "      <th>Venue</th>\n",
       "      <th>DateTime</th>\n",
       "    </tr>\n",
       "  </thead>\n",
       "  <tbody>\n",
       "    <tr>\n",
       "      <th>0</th>\n",
       "      <td>00646b9f-fec7-4ffb-9fb1-faae410bd9dc-0.1</td>\n",
       "      <td>3853</td>\n",
       "      <td>52446</td>\n",
       "      <td>Beethoven,  Ludwig  van</td>\n",
       "      <td>4</td>\n",
       "      <td>8.707814</td>\n",
       "      <td>SYMPHONY NO. 5 IN C MINOR, OP.67</td>\n",
       "      <td>1</td>\n",
       "      <td>New York Philharmonic</td>\n",
       "      <td>Hill, Ureli Corelli</td>\n",
       "      <td>1842-43</td>\n",
       "      <td>Subscription Season</td>\n",
       "      <td>Manhattan, NY</td>\n",
       "      <td>Apollo Rooms</td>\n",
       "      <td>1842-12-07 20:00:00</td>\n",
       "    </tr>\n",
       "    <tr>\n",
       "      <th>1</th>\n",
       "      <td>00646b9f-fec7-4ffb-9fb1-faae410bd9dc-0.1</td>\n",
       "      <td>3853</td>\n",
       "      <td>8834</td>\n",
       "      <td>Weber,  Carl  Maria Von</td>\n",
       "      <td>3</td>\n",
       "      <td>7.042286</td>\n",
       "      <td>OBERON</td>\n",
       "      <td>2</td>\n",
       "      <td>New York Philharmonic</td>\n",
       "      <td>Timm, Henry C.</td>\n",
       "      <td>1842-43</td>\n",
       "      <td>Subscription Season</td>\n",
       "      <td>Manhattan, NY</td>\n",
       "      <td>Apollo Rooms</td>\n",
       "      <td>1842-12-07 20:00:00</td>\n",
       "    </tr>\n",
       "    <tr>\n",
       "      <th>5</th>\n",
       "      <td>00646b9f-fec7-4ffb-9fb1-faae410bd9dc-0.1</td>\n",
       "      <td>3853</td>\n",
       "      <td>8835</td>\n",
       "      <td>Rossini,  Gioachino</td>\n",
       "      <td>3</td>\n",
       "      <td>6.486161</td>\n",
       "      <td>ARMIDA</td>\n",
       "      <td>1</td>\n",
       "      <td>New York Philharmonic</td>\n",
       "      <td>Timm, Henry C.</td>\n",
       "      <td>1842-43</td>\n",
       "      <td>Subscription Season</td>\n",
       "      <td>Manhattan, NY</td>\n",
       "      <td>Apollo Rooms</td>\n",
       "      <td>1842-12-07 20:00:00</td>\n",
       "    </tr>\n",
       "    <tr>\n",
       "      <th>6</th>\n",
       "      <td>00646b9f-fec7-4ffb-9fb1-faae410bd9dc-0.1</td>\n",
       "      <td>3853</td>\n",
       "      <td>8837</td>\n",
       "      <td>Beethoven,  Ludwig  van</td>\n",
       "      <td>4</td>\n",
       "      <td>8.707814</td>\n",
       "      <td>FIDELIO, OP. 72</td>\n",
       "      <td>1</td>\n",
       "      <td>New York Philharmonic</td>\n",
       "      <td>Timm, Henry C.</td>\n",
       "      <td>1842-43</td>\n",
       "      <td>Subscription Season</td>\n",
       "      <td>Manhattan, NY</td>\n",
       "      <td>Apollo Rooms</td>\n",
       "      <td>1842-12-07 20:00:00</td>\n",
       "    </tr>\n",
       "    <tr>\n",
       "      <th>7</th>\n",
       "      <td>00646b9f-fec7-4ffb-9fb1-faae410bd9dc-0.1</td>\n",
       "      <td>3853</td>\n",
       "      <td>8336</td>\n",
       "      <td>Mozart,  Wolfgang  Amadeus</td>\n",
       "      <td>4</td>\n",
       "      <td>8.280964</td>\n",
       "      <td>ABDUCTION FROM THE SERAGLIO,THE, K.384</td>\n",
       "      <td>1</td>\n",
       "      <td>New York Philharmonic</td>\n",
       "      <td>Timm, Henry C.</td>\n",
       "      <td>1842-43</td>\n",
       "      <td>Subscription Season</td>\n",
       "      <td>Manhattan, NY</td>\n",
       "      <td>Apollo Rooms</td>\n",
       "      <td>1842-12-07 20:00:00</td>\n",
       "    </tr>\n",
       "  </tbody>\n",
       "</table>\n",
       "</div>"
      ],
      "text/plain": [
       "                               program_guid  program_id  work_id  \\\n",
       "0  00646b9f-fec7-4ffb-9fb1-faae410bd9dc-0.1        3853    52446   \n",
       "1  00646b9f-fec7-4ffb-9fb1-faae410bd9dc-0.1        3853     8834   \n",
       "5  00646b9f-fec7-4ffb-9fb1-faae410bd9dc-0.1        3853     8835   \n",
       "6  00646b9f-fec7-4ffb-9fb1-faae410bd9dc-0.1        3853     8837   \n",
       "7  00646b9f-fec7-4ffb-9fb1-faae410bd9dc-0.1        3853     8336   \n",
       "\n",
       "                 composerName  composer_category  composer_popularity  \\\n",
       "0     Beethoven,  Ludwig  van                  4             8.707814   \n",
       "1     Weber,  Carl  Maria Von                  3             7.042286   \n",
       "5         Rossini,  Gioachino                  3             6.486161   \n",
       "6     Beethoven,  Ludwig  van                  4             8.707814   \n",
       "7  Mozart,  Wolfgang  Amadeus                  4             8.280964   \n",
       "\n",
       "                                workTitle  num_movements  \\\n",
       "0        SYMPHONY NO. 5 IN C MINOR, OP.67              1   \n",
       "1                                  OBERON              2   \n",
       "5                                  ARMIDA              1   \n",
       "6                         FIDELIO, OP. 72              1   \n",
       "7  ABDUCTION FROM THE SERAGLIO,THE, K.384              1   \n",
       "\n",
       "               orchestra        conductorName   season            eventType  \\\n",
       "0  New York Philharmonic  Hill, Ureli Corelli  1842-43  Subscription Season   \n",
       "1  New York Philharmonic       Timm, Henry C.  1842-43  Subscription Season   \n",
       "5  New York Philharmonic       Timm, Henry C.  1842-43  Subscription Season   \n",
       "6  New York Philharmonic       Timm, Henry C.  1842-43  Subscription Season   \n",
       "7  New York Philharmonic       Timm, Henry C.  1842-43  Subscription Season   \n",
       "\n",
       "        Location         Venue            DateTime  \n",
       "0  Manhattan, NY  Apollo Rooms 1842-12-07 20:00:00  \n",
       "1  Manhattan, NY  Apollo Rooms 1842-12-07 20:00:00  \n",
       "5  Manhattan, NY  Apollo Rooms 1842-12-07 20:00:00  \n",
       "6  Manhattan, NY  Apollo Rooms 1842-12-07 20:00:00  \n",
       "7  Manhattan, NY  Apollo Rooms 1842-12-07 20:00:00  "
      ]
     },
     "execution_count": 43,
     "metadata": {},
     "output_type": "execute_result"
    }
   ],
   "source": [
    "df.insert(5, 'composer_popularity', np.log(composer_counts[df['composerName']]).values)\n",
    "df.head()"
   ]
  },
  {
   "cell_type": "code",
   "execution_count": 44,
   "metadata": {},
   "outputs": [
    {
     "data": {
      "text/plain": [
       "<matplotlib.axes._subplots.AxesSubplot at 0x29ec369f148>"
      ]
     },
     "execution_count": 44,
     "metadata": {},
     "output_type": "execute_result"
    },
    {
     "data": {
      "image/png": "[encoded data removed]",
      "text/plain": [
       "<Figure size 432x288 with 1 Axes>"
      ]
     },
     "metadata": {
      "needs_background": "light"
     },
     "output_type": "display_data"
    }
   ],
   "source": [
    "df['composer_popularity'].hist(bins=30)"
   ]
  },
  {
   "cell_type": "markdown",
   "metadata": {},
   "source": [
    "## 5.2 - Are lesser-known composers programmed alongside the famous composers?\n",
    "We are interested in figuring out how lesser-known composers are included in programs. Are their pieces typically performed alongside more famous pieces, or are there full programs of these types of works?"
   ]
  },
  {
   "cell_type": "markdown",
   "metadata": {},
   "source": [
    "Let's look at a histogram of the mean"
   ]
  },
  {
   "cell_type": "code",
   "execution_count": 45,
   "metadata": {},
   "outputs": [
    {
     "data": {
      "text/plain": [
       "<matplotlib.axes._subplots.AxesSubplot at 0x29ec3a96248>"
      ]
     },
     "execution_count": 45,
     "metadata": {},
     "output_type": "execute_result"
    },
    {
     "data": {
      "image/png": "[encoded data removed]",
      "text/plain": [
       "<Figure size 432x288 with 1 Axes>"
      ]
     },
     "metadata": {
      "needs_background": "light"
     },
     "output_type": "display_data"
    }
   ],
   "source": [
    "df.groupby(['program_id', 'DateTime'])['composer_popularity'].mean().hist(bins=30)"
   ]
  },
  {
   "cell_type": "code",
   "execution_count": 46,
   "metadata": {
    "scrolled": true
   },
   "outputs": [
    {
     "data": {
      "text/plain": [
       "<matplotlib.axes._subplots.AxesSubplot at 0x29ec18b44c8>"
      ]
     },
     "execution_count": 46,
     "metadata": {},
     "output_type": "execute_result"
    },
    {
     "data": {
      "image/png": "[encoded data removed]",
      "text/plain": [
       "<Figure size 432x288 with 1 Axes>"
      ]
     },
     "metadata": {
      "needs_background": "light"
     },
     "output_type": "display_data"
    }
   ],
   "source": [
    "df.groupby(['program_id', 'DateTime'])['composer_category'].mean().hist(bins=30)"
   ]
  },
  {
   "cell_type": "code",
   "execution_count": 47,
   "metadata": {},
   "outputs": [
    {
     "data": {
      "text/html": [
       "<div>\n",
       "<style scoped>\n",
       "    .dataframe tbody tr th:only-of-type {\n",
       "        vertical-align: middle;\n",
       "    }\n",
       "\n",
       "    .dataframe tbody tr th {\n",
       "        vertical-align: top;\n",
       "    }\n",
       "\n",
       "    .dataframe thead th {\n",
       "        text-align: right;\n",
       "    }\n",
       "</style>\n",
       "<table border=\"1\" class=\"dataframe\">\n",
       "  <thead>\n",
       "    <tr style=\"text-align: right;\">\n",
       "      <th></th>\n",
       "      <th>program_guid</th>\n",
       "      <th>program_id</th>\n",
       "      <th>work_id</th>\n",
       "      <th>composerName</th>\n",
       "      <th>composer_category</th>\n",
       "      <th>composer_popularity</th>\n",
       "      <th>workTitle</th>\n",
       "      <th>num_movements</th>\n",
       "      <th>orchestra</th>\n",
       "      <th>conductorName</th>\n",
       "      <th>season</th>\n",
       "      <th>eventType</th>\n",
       "      <th>Location</th>\n",
       "      <th>Venue</th>\n",
       "      <th>DateTime</th>\n",
       "    </tr>\n",
       "  </thead>\n",
       "  <tbody>\n",
       "    <tr>\n",
       "      <th>4008</th>\n",
       "      <td>4ceb87d4-ae24-4172-87b1-90b261c59b77-0.1</td>\n",
       "      <td>1</td>\n",
       "      <td>2819</td>\n",
       "      <td>Schubert,  Franz</td>\n",
       "      <td>3</td>\n",
       "      <td>7.298445</td>\n",
       "      <td>SYMPHONY NO. 8, B MINOR, D.759 (UNFINISHED)</td>\n",
       "      <td>1</td>\n",
       "      <td>New York Philharmonic</td>\n",
       "      <td>Seidl, Anton</td>\n",
       "      <td>1896-97</td>\n",
       "      <td>Subscription Season</td>\n",
       "      <td>Manhattan, NY</td>\n",
       "      <td>Carnegie Hall</td>\n",
       "      <td>1897-02-05 14:00:00</td>\n",
       "    </tr>\n",
       "    <tr>\n",
       "      <th>4009</th>\n",
       "      <td>4ceb87d4-ae24-4172-87b1-90b261c59b77-0.1</td>\n",
       "      <td>1</td>\n",
       "      <td>2819</td>\n",
       "      <td>Schubert,  Franz</td>\n",
       "      <td>3</td>\n",
       "      <td>7.298445</td>\n",
       "      <td>SYMPHONY NO. 8, B MINOR, D.759 (UNFINISHED)</td>\n",
       "      <td>1</td>\n",
       "      <td>New York Philharmonic</td>\n",
       "      <td>Seidl, Anton</td>\n",
       "      <td>1896-97</td>\n",
       "      <td>Subscription Season</td>\n",
       "      <td>Manhattan, NY</td>\n",
       "      <td>Carnegie Hall</td>\n",
       "      <td>1897-02-06 20:15:00</td>\n",
       "    </tr>\n",
       "    <tr>\n",
       "      <th>4010</th>\n",
       "      <td>4ceb87d4-ae24-4172-87b1-90b261c59b77-0.1</td>\n",
       "      <td>1</td>\n",
       "      <td>5882</td>\n",
       "      <td>Schubert,  Franz</td>\n",
       "      <td>3</td>\n",
       "      <td>7.298445</td>\n",
       "      <td>AN DIE MUSIK, D.547</td>\n",
       "      <td>1</td>\n",
       "      <td>New York Philharmonic</td>\n",
       "      <td>Seidl, Anton</td>\n",
       "      <td>1896-97</td>\n",
       "      <td>Subscription Season</td>\n",
       "      <td>Manhattan, NY</td>\n",
       "      <td>Carnegie Hall</td>\n",
       "      <td>1897-02-05 14:00:00</td>\n",
       "    </tr>\n",
       "    <tr>\n",
       "      <th>4011</th>\n",
       "      <td>4ceb87d4-ae24-4172-87b1-90b261c59b77-0.1</td>\n",
       "      <td>1</td>\n",
       "      <td>5882</td>\n",
       "      <td>Schubert,  Franz</td>\n",
       "      <td>3</td>\n",
       "      <td>7.298445</td>\n",
       "      <td>AN DIE MUSIK, D.547</td>\n",
       "      <td>1</td>\n",
       "      <td>New York Philharmonic</td>\n",
       "      <td>Seidl, Anton</td>\n",
       "      <td>1896-97</td>\n",
       "      <td>Subscription Season</td>\n",
       "      <td>Manhattan, NY</td>\n",
       "      <td>Carnegie Hall</td>\n",
       "      <td>1897-02-06 20:15:00</td>\n",
       "    </tr>\n",
       "    <tr>\n",
       "      <th>4012</th>\n",
       "      <td>4ceb87d4-ae24-4172-87b1-90b261c59b77-0.1</td>\n",
       "      <td>1</td>\n",
       "      <td>5885</td>\n",
       "      <td>Schubert,  Franz</td>\n",
       "      <td>3</td>\n",
       "      <td>7.298445</td>\n",
       "      <td>AUF DEM WASSER ZU SINGEN, OP.72</td>\n",
       "      <td>1</td>\n",
       "      <td>New York Philharmonic</td>\n",
       "      <td>Seidl, Anton</td>\n",
       "      <td>1896-97</td>\n",
       "      <td>Subscription Season</td>\n",
       "      <td>Manhattan, NY</td>\n",
       "      <td>Carnegie Hall</td>\n",
       "      <td>1897-02-05 14:00:00</td>\n",
       "    </tr>\n",
       "    <tr>\n",
       "      <th>4013</th>\n",
       "      <td>4ceb87d4-ae24-4172-87b1-90b261c59b77-0.1</td>\n",
       "      <td>1</td>\n",
       "      <td>5885</td>\n",
       "      <td>Schubert,  Franz</td>\n",
       "      <td>3</td>\n",
       "      <td>7.298445</td>\n",
       "      <td>AUF DEM WASSER ZU SINGEN, OP.72</td>\n",
       "      <td>1</td>\n",
       "      <td>New York Philharmonic</td>\n",
       "      <td>Seidl, Anton</td>\n",
       "      <td>1896-97</td>\n",
       "      <td>Subscription Season</td>\n",
       "      <td>Manhattan, NY</td>\n",
       "      <td>Carnegie Hall</td>\n",
       "      <td>1897-02-06 20:15:00</td>\n",
       "    </tr>\n",
       "    <tr>\n",
       "      <th>4014</th>\n",
       "      <td>4ceb87d4-ae24-4172-87b1-90b261c59b77-0.1</td>\n",
       "      <td>1</td>\n",
       "      <td>5616</td>\n",
       "      <td>Schubert,  Franz</td>\n",
       "      <td>3</td>\n",
       "      <td>7.298445</td>\n",
       "      <td>SCHWANENGESANG, D.957</td>\n",
       "      <td>1</td>\n",
       "      <td>New York Philharmonic</td>\n",
       "      <td>Seidl, Anton</td>\n",
       "      <td>1896-97</td>\n",
       "      <td>Subscription Season</td>\n",
       "      <td>Manhattan, NY</td>\n",
       "      <td>Carnegie Hall</td>\n",
       "      <td>1897-02-05 14:00:00</td>\n",
       "    </tr>\n",
       "    <tr>\n",
       "      <th>4015</th>\n",
       "      <td>4ceb87d4-ae24-4172-87b1-90b261c59b77-0.1</td>\n",
       "      <td>1</td>\n",
       "      <td>5616</td>\n",
       "      <td>Schubert,  Franz</td>\n",
       "      <td>3</td>\n",
       "      <td>7.298445</td>\n",
       "      <td>SCHWANENGESANG, D.957</td>\n",
       "      <td>1</td>\n",
       "      <td>New York Philharmonic</td>\n",
       "      <td>Seidl, Anton</td>\n",
       "      <td>1896-97</td>\n",
       "      <td>Subscription Season</td>\n",
       "      <td>Manhattan, NY</td>\n",
       "      <td>Carnegie Hall</td>\n",
       "      <td>1897-02-06 20:15:00</td>\n",
       "    </tr>\n",
       "    <tr>\n",
       "      <th>4016</th>\n",
       "      <td>4ceb87d4-ae24-4172-87b1-90b261c59b77-0.1</td>\n",
       "      <td>1</td>\n",
       "      <td>5662</td>\n",
       "      <td>Schubert,  Franz</td>\n",
       "      <td>3</td>\n",
       "      <td>7.298445</td>\n",
       "      <td>QUARTET, STRINGS, D MINOR, D.810  (DER TOD UND...</td>\n",
       "      <td>1</td>\n",
       "      <td>New York Philharmonic</td>\n",
       "      <td>Seidl, Anton</td>\n",
       "      <td>1896-97</td>\n",
       "      <td>Subscription Season</td>\n",
       "      <td>Manhattan, NY</td>\n",
       "      <td>Carnegie Hall</td>\n",
       "      <td>1897-02-05 14:00:00</td>\n",
       "    </tr>\n",
       "    <tr>\n",
       "      <th>4017</th>\n",
       "      <td>4ceb87d4-ae24-4172-87b1-90b261c59b77-0.1</td>\n",
       "      <td>1</td>\n",
       "      <td>5662</td>\n",
       "      <td>Schubert,  Franz</td>\n",
       "      <td>3</td>\n",
       "      <td>7.298445</td>\n",
       "      <td>QUARTET, STRINGS, D MINOR, D.810  (DER TOD UND...</td>\n",
       "      <td>1</td>\n",
       "      <td>New York Philharmonic</td>\n",
       "      <td>Seidl, Anton</td>\n",
       "      <td>1896-97</td>\n",
       "      <td>Subscription Season</td>\n",
       "      <td>Manhattan, NY</td>\n",
       "      <td>Carnegie Hall</td>\n",
       "      <td>1897-02-06 20:15:00</td>\n",
       "    </tr>\n",
       "    <tr>\n",
       "      <th>4020</th>\n",
       "      <td>4ceb87d4-ae24-4172-87b1-90b261c59b77-0.1</td>\n",
       "      <td>1</td>\n",
       "      <td>5896</td>\n",
       "      <td>Schubert,  Franz</td>\n",
       "      <td>3</td>\n",
       "      <td>7.298445</td>\n",
       "      <td>ZWERG, DER, D.771</td>\n",
       "      <td>1</td>\n",
       "      <td>New York Philharmonic</td>\n",
       "      <td>Seidl, Anton</td>\n",
       "      <td>1896-97</td>\n",
       "      <td>Subscription Season</td>\n",
       "      <td>Manhattan, NY</td>\n",
       "      <td>Carnegie Hall</td>\n",
       "      <td>1897-02-05 14:00:00</td>\n",
       "    </tr>\n",
       "    <tr>\n",
       "      <th>4021</th>\n",
       "      <td>4ceb87d4-ae24-4172-87b1-90b261c59b77-0.1</td>\n",
       "      <td>1</td>\n",
       "      <td>5896</td>\n",
       "      <td>Schubert,  Franz</td>\n",
       "      <td>3</td>\n",
       "      <td>7.298445</td>\n",
       "      <td>ZWERG, DER, D.771</td>\n",
       "      <td>1</td>\n",
       "      <td>New York Philharmonic</td>\n",
       "      <td>Seidl, Anton</td>\n",
       "      <td>1896-97</td>\n",
       "      <td>Subscription Season</td>\n",
       "      <td>Manhattan, NY</td>\n",
       "      <td>Carnegie Hall</td>\n",
       "      <td>1897-02-06 20:15:00</td>\n",
       "    </tr>\n",
       "    <tr>\n",
       "      <th>4022</th>\n",
       "      <td>4ceb87d4-ae24-4172-87b1-90b261c59b77-0.1</td>\n",
       "      <td>1</td>\n",
       "      <td>102</td>\n",
       "      <td>Schubert,  Franz</td>\n",
       "      <td>3</td>\n",
       "      <td>7.298445</td>\n",
       "      <td>DU BIST DIE RUH, D.776</td>\n",
       "      <td>1</td>\n",
       "      <td>New York Philharmonic</td>\n",
       "      <td>Seidl, Anton</td>\n",
       "      <td>1896-97</td>\n",
       "      <td>Subscription Season</td>\n",
       "      <td>Manhattan, NY</td>\n",
       "      <td>Carnegie Hall</td>\n",
       "      <td>1897-02-05 14:00:00</td>\n",
       "    </tr>\n",
       "    <tr>\n",
       "      <th>4023</th>\n",
       "      <td>4ceb87d4-ae24-4172-87b1-90b261c59b77-0.1</td>\n",
       "      <td>1</td>\n",
       "      <td>102</td>\n",
       "      <td>Schubert,  Franz</td>\n",
       "      <td>3</td>\n",
       "      <td>7.298445</td>\n",
       "      <td>DU BIST DIE RUH, D.776</td>\n",
       "      <td>1</td>\n",
       "      <td>New York Philharmonic</td>\n",
       "      <td>Seidl, Anton</td>\n",
       "      <td>1896-97</td>\n",
       "      <td>Subscription Season</td>\n",
       "      <td>Manhattan, NY</td>\n",
       "      <td>Carnegie Hall</td>\n",
       "      <td>1897-02-06 20:15:00</td>\n",
       "    </tr>\n",
       "    <tr>\n",
       "      <th>4024</th>\n",
       "      <td>4ceb87d4-ae24-4172-87b1-90b261c59b77-0.1</td>\n",
       "      <td>1</td>\n",
       "      <td>5899</td>\n",
       "      <td>Schubert,  Franz</td>\n",
       "      <td>3</td>\n",
       "      <td>7.298445</td>\n",
       "      <td>AN SYLVIA, D.891 (ARR. Unknown)</td>\n",
       "      <td>1</td>\n",
       "      <td>New York Philharmonic</td>\n",
       "      <td>Seidl, Anton</td>\n",
       "      <td>1896-97</td>\n",
       "      <td>Subscription Season</td>\n",
       "      <td>Manhattan, NY</td>\n",
       "      <td>Carnegie Hall</td>\n",
       "      <td>1897-02-05 14:00:00</td>\n",
       "    </tr>\n",
       "    <tr>\n",
       "      <th>4025</th>\n",
       "      <td>4ceb87d4-ae24-4172-87b1-90b261c59b77-0.1</td>\n",
       "      <td>1</td>\n",
       "      <td>5899</td>\n",
       "      <td>Schubert,  Franz</td>\n",
       "      <td>3</td>\n",
       "      <td>7.298445</td>\n",
       "      <td>AN SYLVIA, D.891 (ARR. Unknown)</td>\n",
       "      <td>1</td>\n",
       "      <td>New York Philharmonic</td>\n",
       "      <td>Seidl, Anton</td>\n",
       "      <td>1896-97</td>\n",
       "      <td>Subscription Season</td>\n",
       "      <td>Manhattan, NY</td>\n",
       "      <td>Carnegie Hall</td>\n",
       "      <td>1897-02-06 20:15:00</td>\n",
       "    </tr>\n",
       "    <tr>\n",
       "      <th>4026</th>\n",
       "      <td>4ceb87d4-ae24-4172-87b1-90b261c59b77-0.1</td>\n",
       "      <td>1</td>\n",
       "      <td>51757</td>\n",
       "      <td>Borodin,  Alexander</td>\n",
       "      <td>2</td>\n",
       "      <td>5.442418</td>\n",
       "      <td>SYMPHONY NO. 2 IN B MINOR</td>\n",
       "      <td>1</td>\n",
       "      <td>New York Philharmonic</td>\n",
       "      <td>Seidl, Anton</td>\n",
       "      <td>1896-97</td>\n",
       "      <td>Subscription Season</td>\n",
       "      <td>Manhattan, NY</td>\n",
       "      <td>Carnegie Hall</td>\n",
       "      <td>1897-02-05 14:00:00</td>\n",
       "    </tr>\n",
       "    <tr>\n",
       "      <th>4027</th>\n",
       "      <td>4ceb87d4-ae24-4172-87b1-90b261c59b77-0.1</td>\n",
       "      <td>1</td>\n",
       "      <td>51757</td>\n",
       "      <td>Borodin,  Alexander</td>\n",
       "      <td>2</td>\n",
       "      <td>5.442418</td>\n",
       "      <td>SYMPHONY NO. 2 IN B MINOR</td>\n",
       "      <td>1</td>\n",
       "      <td>New York Philharmonic</td>\n",
       "      <td>Seidl, Anton</td>\n",
       "      <td>1896-97</td>\n",
       "      <td>Subscription Season</td>\n",
       "      <td>Manhattan, NY</td>\n",
       "      <td>Carnegie Hall</td>\n",
       "      <td>1897-02-06 20:15:00</td>\n",
       "    </tr>\n",
       "  </tbody>\n",
       "</table>\n",
       "</div>"
      ],
      "text/plain": [
       "                                  program_guid  program_id  work_id  \\\n",
       "4008  4ceb87d4-ae24-4172-87b1-90b261c59b77-0.1           1     2819   \n",
       "4009  4ceb87d4-ae24-4172-87b1-90b261c59b77-0.1           1     2819   \n",
       "4010  4ceb87d4-ae24-4172-87b1-90b261c59b77-0.1           1     5882   \n",
       "4011  4ceb87d4-ae24-4172-87b1-90b261c59b77-0.1           1     5882   \n",
       "4012  4ceb87d4-ae24-4172-87b1-90b261c59b77-0.1           1     5885   \n",
       "4013  4ceb87d4-ae24-4172-87b1-90b261c59b77-0.1           1     5885   \n",
       "4014  4ceb87d4-ae24-4172-87b1-90b261c59b77-0.1           1     5616   \n",
       "4015  4ceb87d4-ae24-4172-87b1-90b261c59b77-0.1           1     5616   \n",
       "4016  4ceb87d4-ae24-4172-87b1-90b261c59b77-0.1           1     5662   \n",
       "4017  4ceb87d4-ae24-4172-87b1-90b261c59b77-0.1           1     5662   \n",
       "4020  4ceb87d4-ae24-4172-87b1-90b261c59b77-0.1           1     5896   \n",
       "4021  4ceb87d4-ae24-4172-87b1-90b261c59b77-0.1           1     5896   \n",
       "4022  4ceb87d4-ae24-4172-87b1-90b261c59b77-0.1           1      102   \n",
       "4023  4ceb87d4-ae24-4172-87b1-90b261c59b77-0.1           1      102   \n",
       "4024  4ceb87d4-ae24-4172-87b1-90b261c59b77-0.1           1     5899   \n",
       "4025  4ceb87d4-ae24-4172-87b1-90b261c59b77-0.1           1     5899   \n",
       "4026  4ceb87d4-ae24-4172-87b1-90b261c59b77-0.1           1    51757   \n",
       "4027  4ceb87d4-ae24-4172-87b1-90b261c59b77-0.1           1    51757   \n",
       "\n",
       "             composerName  composer_category  composer_popularity  \\\n",
       "4008     Schubert,  Franz                  3             7.298445   \n",
       "4009     Schubert,  Franz                  3             7.298445   \n",
       "4010     Schubert,  Franz                  3             7.298445   \n",
       "4011     Schubert,  Franz                  3             7.298445   \n",
       "4012     Schubert,  Franz                  3             7.298445   \n",
       "4013     Schubert,  Franz                  3             7.298445   \n",
       "4014     Schubert,  Franz                  3             7.298445   \n",
       "4015     Schubert,  Franz                  3             7.298445   \n",
       "4016     Schubert,  Franz                  3             7.298445   \n",
       "4017     Schubert,  Franz                  3             7.298445   \n",
       "4020     Schubert,  Franz                  3             7.298445   \n",
       "4021     Schubert,  Franz                  3             7.298445   \n",
       "4022     Schubert,  Franz                  3             7.298445   \n",
       "4023     Schubert,  Franz                  3             7.298445   \n",
       "4024     Schubert,  Franz                  3             7.298445   \n",
       "4025     Schubert,  Franz                  3             7.298445   \n",
       "4026  Borodin,  Alexander                  2             5.442418   \n",
       "4027  Borodin,  Alexander                  2             5.442418   \n",
       "\n",
       "                                              workTitle  num_movements  \\\n",
       "4008        SYMPHONY NO. 8, B MINOR, D.759 (UNFINISHED)              1   \n",
       "4009        SYMPHONY NO. 8, B MINOR, D.759 (UNFINISHED)              1   \n",
       "4010                                AN DIE MUSIK, D.547              1   \n",
       "4011                                AN DIE MUSIK, D.547              1   \n",
       "4012                    AUF DEM WASSER ZU SINGEN, OP.72              1   \n",
       "4013                    AUF DEM WASSER ZU SINGEN, OP.72              1   \n",
       "4014                              SCHWANENGESANG, D.957              1   \n",
       "4015                              SCHWANENGESANG, D.957              1   \n",
       "4016  QUARTET, STRINGS, D MINOR, D.810  (DER TOD UND...              1   \n",
       "4017  QUARTET, STRINGS, D MINOR, D.810  (DER TOD UND...              1   \n",
       "4020                                  ZWERG, DER, D.771              1   \n",
       "4021                                  ZWERG, DER, D.771              1   \n",
       "4022                             DU BIST DIE RUH, D.776              1   \n",
       "4023                             DU BIST DIE RUH, D.776              1   \n",
       "4024                    AN SYLVIA, D.891 (ARR. Unknown)              1   \n",
       "4025                    AN SYLVIA, D.891 (ARR. Unknown)              1   \n",
       "4026                          SYMPHONY NO. 2 IN B MINOR              1   \n",
       "4027                          SYMPHONY NO. 2 IN B MINOR              1   \n",
       "\n",
       "                  orchestra conductorName   season            eventType  \\\n",
       "4008  New York Philharmonic  Seidl, Anton  1896-97  Subscription Season   \n",
       "4009  New York Philharmonic  Seidl, Anton  1896-97  Subscription Season   \n",
       "4010  New York Philharmonic  Seidl, Anton  1896-97  Subscription Season   \n",
       "4011  New York Philharmonic  Seidl, Anton  1896-97  Subscription Season   \n",
       "4012  New York Philharmonic  Seidl, Anton  1896-97  Subscription Season   \n",
       "4013  New York Philharmonic  Seidl, Anton  1896-97  Subscription Season   \n",
       "4014  New York Philharmonic  Seidl, Anton  1896-97  Subscription Season   \n",
       "4015  New York Philharmonic  Seidl, Anton  1896-97  Subscription Season   \n",
       "4016  New York Philharmonic  Seidl, Anton  1896-97  Subscription Season   \n",
       "4017  New York Philharmonic  Seidl, Anton  1896-97  Subscription Season   \n",
       "4020  New York Philharmonic  Seidl, Anton  1896-97  Subscription Season   \n",
       "4021  New York Philharmonic  Seidl, Anton  1896-97  Subscription Season   \n",
       "4022  New York Philharmonic  Seidl, Anton  1896-97  Subscription Season   \n",
       "4023  New York Philharmonic  Seidl, Anton  1896-97  Subscription Season   \n",
       "4024  New York Philharmonic  Seidl, Anton  1896-97  Subscription Season   \n",
       "4025  New York Philharmonic  Seidl, Anton  1896-97  Subscription Season   \n",
       "4026  New York Philharmonic  Seidl, Anton  1896-97  Subscription Season   \n",
       "4027  New York Philharmonic  Seidl, Anton  1896-97  Subscription Season   \n",
       "\n",
       "           Location          Venue            DateTime  \n",
       "4008  Manhattan, NY  Carnegie Hall 1897-02-05 14:00:00  \n",
       "4009  Manhattan, NY  Carnegie Hall 1897-02-06 20:15:00  \n",
       "4010  Manhattan, NY  Carnegie Hall 1897-02-05 14:00:00  \n",
       "4011  Manhattan, NY  Carnegie Hall 1897-02-06 20:15:00  \n",
       "4012  Manhattan, NY  Carnegie Hall 1897-02-05 14:00:00  \n",
       "4013  Manhattan, NY  Carnegie Hall 1897-02-06 20:15:00  \n",
       "4014  Manhattan, NY  Carnegie Hall 1897-02-05 14:00:00  \n",
       "4015  Manhattan, NY  Carnegie Hall 1897-02-06 20:15:00  \n",
       "4016  Manhattan, NY  Carnegie Hall 1897-02-05 14:00:00  \n",
       "4017  Manhattan, NY  Carnegie Hall 1897-02-06 20:15:00  \n",
       "4020  Manhattan, NY  Carnegie Hall 1897-02-05 14:00:00  \n",
       "4021  Manhattan, NY  Carnegie Hall 1897-02-06 20:15:00  \n",
       "4022  Manhattan, NY  Carnegie Hall 1897-02-05 14:00:00  \n",
       "4023  Manhattan, NY  Carnegie Hall 1897-02-06 20:15:00  \n",
       "4024  Manhattan, NY  Carnegie Hall 1897-02-05 14:00:00  \n",
       "4025  Manhattan, NY  Carnegie Hall 1897-02-06 20:15:00  \n",
       "4026  Manhattan, NY  Carnegie Hall 1897-02-05 14:00:00  \n",
       "4027  Manhattan, NY  Carnegie Hall 1897-02-06 20:15:00  "
      ]
     },
     "execution_count": 47,
     "metadata": {},
     "output_type": "execute_result"
    }
   ],
   "source": [
    "df[df['program_id'] == 1]"
   ]
  },
  {
   "cell_type": "markdown",
   "metadata": {},
   "source": [
    "## 5.3 - Does the orchestra perform a more adventurous program while on tour?"
   ]
  },
  {
   "cell_type": "code",
   "execution_count": null,
   "metadata": {},
   "outputs": [],
   "source": []
  },
  {
   "cell_type": "markdown",
   "metadata": {},
   "source": [
    "# Ideas:\n",
    "- Are works of some composers more likely to be programmed together?\n",
    "- Are works from lesser-known composers programmed alongside those of better-known composers?\n",
    "- Are on-tour concerts more or less adventurous than NYC concerts?\n"
   ]
  },
  {
   "cell_type": "markdown",
   "metadata": {},
   "source": [
    "# 6 - Future Work"
   ]
  },
  {
   "cell_type": "markdown",
   "metadata": {},
   "source": [
    "Although the musicians of the New York Philharmonic are undoubtedly in support of adventurous programming, they still need to earn a living. One might expect that \"safe\" performances with keystone works by famous composers are effective in drawing a larger audience than those featuring lesser-known composers. Moreover, new works outside the [public domain](https://en.wikipedia.org/wiki/Public_domain_music) may pose additional overhead costs for the performance, including rental and licensing fees.\n",
    "\n",
    "Given information about the ticket sales for each performance, it will be possible to draw conclusions about which types of performances draw larger audiences. We can then determine a balance of \"adventurous\" and \"safe\" programs that will most likely bring in enough revenue to secure fair pay for the musicians. A limited datset with information about subscriber ticket sales is available from the New York Philharmonic and a more complete one [may be available upon request](https://archives.nyphil.org/index.php/open-data)."
   ]
  }
 ],
 "metadata": {
  "kernelspec": {
   "display_name": "Python 3",
   "language": "python",
   "name": "python3"
  },
  "language_info": {
   "codemirror_mode": {
    "name": "ipython",
    "version": 3
   },
   "file_extension": ".py",
   "mimetype": "text/x-python",
   "name": "python",
   "nbconvert_exporter": "python",
   "pygments_lexer": "ipython3",
   "version": "3.7.4"
  }
 },
 "nbformat": 4,
 "nbformat_minor": 2
}
